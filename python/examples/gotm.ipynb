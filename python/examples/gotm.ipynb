{
 "cells": [
  {
   "cell_type": "code",
   "execution_count": null,
   "metadata": {},
   "outputs": [],
   "source": [
    "import os.path\n",
    "import datetime\n",
    "\n",
    "import numpy as np\n",
    "\n",
    "import pygetm\n",
    "import pygetm.input.gotm\n",
    "\n",
    "gotm_cases = \"../../../gotm-cases\""
   ]
  },
  {
   "cell_type": "code",
   "execution_count": null,
   "metadata": {},
   "outputs": [],
   "source": [
    "lon, lat, depth = 1.283333, 59.33333, 110.0\n",
    "x = np.linspace(-1000, 1000, 3)\n",
    "y = np.linspace(-1000, 1000, 3)\n",
    "domain = pygetm.domain.create_cartesian(x, y, nz=110, interfaces=True, H=depth, periodic_x=True, periodic_y=True, lat=lat, z0=0.03)"
   ]
  },
  {
   "cell_type": "code",
   "execution_count": null,
   "metadata": {},
   "outputs": [],
   "source": [
    "radiation = pygetm.radiation.TwoBand(jerlov_type=pygetm.radiation.JERLOV_I)\n",
    "airsea = pygetm.airsea.FluxesFromMeteo(humidity_measure=pygetm.HumidityMeasure.RELATIVE_HUMIDITY)\n",
    "sim = pygetm.Simulation(domain, pygetm.BAROCLINIC, airsea=airsea, radiation=radiation, gotm=os.path.join(gotm_cases, \"nns_annual/gotmturb.nml\"))"
   ]
  },
  {
   "cell_type": "code",
   "execution_count": null,
   "metadata": {},
   "outputs": [],
   "source": [
    "meteo = pygetm.input.gotm.get_meteo(os.path.join(gotm_cases, \"nns_annual/meteo.dat\"))\n",
    "sim.airsea.u10.set(meteo.u10)\n",
    "sim.airsea.v10.set(meteo.v10)\n",
    "sim.airsea.t2m.set(meteo.t2m)\n",
    "sim.airsea.rh.set(meteo.hum)\n",
    "sim.airsea.sp.set(100 * meteo.sp)\n",
    "sim.airsea.tcc.set(meteo.tcc)\n",
    "sim.airsea.tp.set(0.0)\n",
    "\n",
    "sim.temp.set(8.1)\n",
    "sim.salt.set(35.14)"
   ]
  },
  {
   "cell_type": "code",
   "execution_count": null,
   "metadata": {},
   "outputs": [],
   "source": [
    "nc = sim.output_manager.add_netcdf_file('gotm.nc', interval=datetime.timedelta(hours=1))\n",
    "nc.request('temp', 'salt', 'sst', 'nuh')\n",
    "sim.start(meteo.time.values[0], 360.0, 10, report=datetime.timedelta(days=10), report_totals=datetime.timedelta(days=1000))\n",
    "while sim.time < meteo.time.values[-1]:\n",
    "    sim.advance()\n",
    "sim.finish()"
   ]
  },
  {
   "cell_type": "code",
   "execution_count": null,
   "metadata": {},
   "outputs": [],
   "source": []
  }
 ],
 "metadata": {
  "kernelspec": {
   "display_name": "Python 3.9.7 ('base')",
   "language": "python",
   "name": "python3"
  },
  "language_info": {
   "codemirror_mode": {
    "name": "ipython",
    "version": 3
   },
   "file_extension": ".py",
   "mimetype": "text/x-python",
   "name": "python",
   "nbconvert_exporter": "python",
   "pygments_lexer": "ipython3",
   "version": "3.9.7"
  },
  "orig_nbformat": 4,
  "vscode": {
   "interpreter": {
    "hash": "e4cce46d6be9934fbd27f9ca0432556941ea5bdf741d4f4d64c6cd7f8dfa8fba"
   }
  }
 },
 "nbformat": 4,
 "nbformat_minor": 2
}
