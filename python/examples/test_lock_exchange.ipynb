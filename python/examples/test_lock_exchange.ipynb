{
 "cells": [
  {
   "cell_type": "code",
   "execution_count": null,
   "metadata": {},
   "outputs": [],
   "source": [
    "import os.path\n",
    "import datetime\n",
    "import numpy\n",
    "import pygetm\n",
    "\n",
    "# Note: \"%matplotlib widget\" below enables interactive plots but requires https://github.com/matplotlib/ipympl\n",
    "# Alternatively you could use \"%matplotlib notebook\" (deprecated).\n",
    "%matplotlib widget\n",
    "import matplotlib.pyplot"
   ]
  },
  {
   "cell_type": "code",
   "execution_count": null,
   "metadata": {},
   "outputs": [],
   "source": [
    "# Set up rectangular domain with outer points masked\n",
    "domain = pygetm.domain.create_cartesian(500.*numpy.arange(131), 500.*numpy.arange(3), 20, lat=0, H=20)\n",
    "sim = pygetm.Simulation(domain,\n",
    "                        runtype=pygetm.BAROCLINIC, \n",
    "                        advection_scheme=pygetm.AdvectionScheme.HSIMT,\n",
    "                        airsea=pygetm.airsea.Fluxes()\n",
    ")\n",
    "\n",
    "# set mask all around the basin\n",
    "\n",
    "sim.temp.fill(20.)\n",
    "print(domain.x)\n",
    "sim.salt.fill(numpy.where(domain.T.x.all_values<32500., 20, 30))\n",
    "\n",
    "# Idealized surface forcingA - likely not needed because of airsea initialization\n",
    "#tausx = domain.U.array(fill=0.0)\n",
    "#tausy = domain.V.array(fill=0.)\n",
    "#sp = domain.T.array(fill=0.)\n",
    "#fwf = domain.T.array(fill=0.)\n",
    "\n",
    "#?\n",
    "#idpdx = domain.U.array(fill=0., z=pygetm.CENTERS)\n",
    "#idpdy = domain.V.array(fill=0., z=pygetm.CENTERS)\n",
    "#viscosity = domain.T.array(fill=1e-1, z=pygetm.INTERFACES)\n",
    "\n",
    "\n",
    "# is this needed?\n",
    "domain.T.zio.all_values[...] = 0\n",
    "domain.T.zin.all_values[...] = 0\n",
    "\n",
    "sim.start_3d()\n",
    "\n",
    "# Set up velocity plot\n",
    "# want to make a vertical slice animation of either S or rho\n",
    "\n",
    "#nsample_x = 2\n",
    "#nsample_z = 2\n",
    "#iy = 0\n",
    "#fig, ax = matplotlib.pyplot.subplots()\n",
    "#u = sim.pk.interp(domain.T) / domain.T.H\n",
    "#w = sim.ww.interp(domain.T, z=pygetm.CENTERS)\n",
    "#z_2d = domain.T.zc[::nsample_z, iy, ::nsample_x]\n",
    "#x_2d = numpy.broadcast_to(domain.T.x[iy, ::nsample_x], z_2d.shape)\n",
    "#Q = ax.quiver(x_2d, z_2d, u[::nsample_z, iy, ::nsample_x], w[::nsample_z, iy, ::nsample_x], scale=.01)\n",
    "#title = ax.set_title('time: 0 s')"
   ]
  },
  {
   "cell_type": "code",
   "execution_count": null,
   "metadata": {
    "tags": []
   },
   "outputs": [],
   "source": [
    "ntime = 24*int(3600. // timestep)\n",
    "sim.start(datetime.datetime(2015, 1, 1), timestep=15., split_factor=20, report=180)\n",
    "\n",
    "times = timestep * numpy.arange(ntime)\n",
    "plotting_interval = 5\n",
    "for istep, time in enumerate(times):\n",
    "    sim.advance()\n",
    "    # update plot\n",
    "    #if istep % plotting_interval == 0:\n",
    "    #    ......\n",
    "\n",
    "sim.finish()\n",
    "\n",
    "# and drop this\n",
    "#    sim.update_surface_pressure_gradient(domain.T.z, sp)\n",
    "#    sim.update_2d_momentum(timestep, tausx, tausy, sim.dpdx, sim.dpdy)\n",
    "#    sim.update_sealevel(timestep, sim.U, sim.V, fwf)\n",
    "#    sim.update_depth()\n",
    "\n",
    "#    if istep % mode_split == 0:\n",
    "#        sim.Ui.all_values[...] /= mode_split\n",
    "#        sim.Vi.all_values[...] /= mode_split\n",
    "#        sim.start_3d()\n",
    "#        sim.update_surface_pressure_gradient(domain.T.zio, sp)\n",
    "#        sim.update_3d_momentum(timestep * mode_split, tausx, tausy, sim.dpdx, sim.dpdy, idpdx, idpdy, viscosity)\n",
    "#        sim.Ui.all_values[...] = 0\n",
    "#        sim.Vi.all_values[...] = 0\n",
    "\n",
    "    # Update velocity plot\n",
    "    #if istep % plotting_interval == 0:\n",
    "     #   u = sim.pk.interp(domain.T) / domain.T.H\n",
    "      #  sim.ww.interp(w)\n",
    "       # Q.set_UVC(u[::nsample_z, iy, ::nsample_x], w[::nsample_z, iy, ::nsample_x])\n",
    "        #title.set_text('time: %s s' % time)\n",
    "       # fig.canvas.draw()"
   ]
  },
  {
   "cell_type": "code",
   "execution_count": null,
   "metadata": {},
   "outputs": [],
   "source": []
  }
 ],
 "metadata": {
  "kernelspec": {
   "display_name": "Python 3 (ipykernel)",
   "language": "python",
   "name": "python3"
  },
  "language_info": {
   "codemirror_mode": {
    "name": "ipython",
    "version": 3
   },
   "file_extension": ".py",
   "mimetype": "text/x-python",
   "name": "python",
   "nbconvert_exporter": "python",
   "pygments_lexer": "ipython3",
   "version": "3.8.10"
  }
 },
 "nbformat": 4,
 "nbformat_minor": 4
}
