{
 "cells": [
  {
   "cell_type": "code",
   "execution_count": 1,
   "metadata": {},
   "outputs": [],
   "source": [
    "import os.path\n",
    "import numpy\n",
    "import pygetm\n",
    "\n",
    "# Note: \"%matplotlib widget\" below enables interactive plots but requires https://github.com/matplotlib/ipympl\n",
    "# Alternatively you could use \"%matplotlib notebook\" (deprecated).\n",
    "%matplotlib widget\n",
    "import matplotlib.pyplot"
   ]
  },
  {
   "cell_type": "code",
   "execution_count": 10,
   "metadata": {},
   "outputs": [
    {
     "name": "stderr",
     "output_type": "stream",
     "text": [
      "INFO:domain:Domain size (T grid): 131 x 3 (393 cells)\n",
      "WARNING:root:Disabling bottom friction because bottom roughness is 0 in one or more points.\n",
      "INFO:domain:0 open boundaries (0 West, 0 North, 0 East, 0 South)\n",
      "INFO:domain:Number of unmasked points excluding halos: 393 on T grid, 390 on U grid, 262 on V grid, 260 on X grid\n",
      "INFO:root:Maximum dt = 17.848 s\n",
      "INFO:GOTM:    clean_turbulence\n",
      "INFO:GOTM:        de-allocating turbulence memory ...\n",
      "INFO:GOTM:        done.\n",
      "INFO:GOTM:    clean_tridiagonal\n",
      "INFO:GOTM:    init_turbulence_yaml\n",
      "INFO:GOTM:        done.\n",
      "INFO:GOTM:    init_tridiagonal\n",
      "INFO:GOTM:    post_init_turbulence\n",
      "INFO:GOTM:        allocation turbulence memory..\n",
      "INFO:GOTM:        done.\n",
      "INFO:GOTM:        --------------------------------------------------------\n",
      "INFO:GOTM:        You are using the k-epsilon model\n",
      "INFO:GOTM:        with the following properties:\n",
      "INFO:GOTM:            ce1                                  =   1.4399999999999999\n",
      "INFO:GOTM:            ce2                                  =   1.9199999999999999\n",
      "INFO:GOTM:            ce3minus                             = -0.62091212624900072\n",
      "INFO:GOTM:            ce3plus                              =   1.0000000000000000\n",
      "INFO:GOTM:            sig_k                                =   1.0000000000000000\n",
      "INFO:GOTM:            sig_e                                =   1.2026526544983429\n",
      "INFO:GOTM:            Value of the stability function\n",
      "INFO:GOTM:            in the log-law,                   cm0 =  0.52646471083532442\n",
      "INFO:GOTM:            in shear-free turbulence,        cmsf =  0.73100601349000971\n",
      "INFO:GOTM:            von Karman constant,           kappa =  0.40000000000000002\n",
      "INFO:GOTM:            homogeneous decay rate,            d =  -1.0869565217391306\n",
      "INFO:GOTM:            spatial decay rate (no shear), alpha =  -7.8246151972149427\n",
      "INFO:GOTM:            length-scale slope (no shear),     L =   4.6621345715263302E-002\n",
      "INFO:GOTM:            steady-state Richardson-number, Ri_st=  0.25000000000000000\n",
      "INFO:GOTM:        --------------------------------------------------------\n"
     ]
    },
    {
     "name": "stdout",
     "output_type": "stream",
     "text": [
      "[[ -250.     0.   250. ... 64750. 65000. 65250.]\n",
      " [ -250.     0.   250. ... 64750. 65000. 65250.]\n",
      " [ -250.     0.   250. ... 64750. 65000. 65250.]\n",
      " ...\n",
      " [ -250.     0.   250. ... 64750. 65000. 65250.]\n",
      " [ -250.     0.   250. ... 64750. 65000. 65250.]\n",
      " [ -250.     0.   250. ... 64750. 65000. 65250.]]\n"
     ]
    },
    {
     "ename": "ValueError",
     "evalue": "could not broadcast input array from shape (7,263) into shape (20,7,135)",
     "output_type": "error",
     "traceback": [
      "\u001b[0;31m---------------------------------------------------------------------------\u001b[0m",
      "\u001b[0;31mValueError\u001b[0m                                Traceback (most recent call last)",
      "\u001b[0;32m/tmp/ipykernel_23329/3612299122.py\u001b[0m in \u001b[0;36m<module>\u001b[0;34m\u001b[0m\n\u001b[1;32m     12\u001b[0m \u001b[0;31m#sim.temp.fill(30.)\u001b[0m\u001b[0;34m\u001b[0m\u001b[0;34m\u001b[0m\u001b[0;34m\u001b[0m\u001b[0m\n\u001b[1;32m     13\u001b[0m \u001b[0mprint\u001b[0m\u001b[0;34m(\u001b[0m\u001b[0mdomain\u001b[0m\u001b[0;34m.\u001b[0m\u001b[0mx\u001b[0m\u001b[0;34m)\u001b[0m\u001b[0;34m\u001b[0m\u001b[0;34m\u001b[0m\u001b[0m\n\u001b[0;32m---> 14\u001b[0;31m \u001b[0msim\u001b[0m\u001b[0;34m.\u001b[0m\u001b[0msalt\u001b[0m\u001b[0;34m.\u001b[0m\u001b[0mfill\u001b[0m\u001b[0;34m(\u001b[0m\u001b[0mnumpy\u001b[0m\u001b[0;34m.\u001b[0m\u001b[0mwhere\u001b[0m\u001b[0;34m(\u001b[0m\u001b[0mdomain\u001b[0m\u001b[0;34m.\u001b[0m\u001b[0mx\u001b[0m\u001b[0;34m<\u001b[0m\u001b[0;36m32500.\u001b[0m\u001b[0;34m,\u001b[0m \u001b[0;36m20\u001b[0m\u001b[0;34m,\u001b[0m \u001b[0;36m30\u001b[0m\u001b[0;34m)\u001b[0m\u001b[0;34m)\u001b[0m\u001b[0;34m\u001b[0m\u001b[0;34m\u001b[0m\u001b[0m\n\u001b[0m\u001b[1;32m     15\u001b[0m \u001b[0;34m\u001b[0m\u001b[0m\n\u001b[1;32m     16\u001b[0m \u001b[0;31m# Idealized surface forcingA - likely not needed because of airsea initialization\u001b[0m\u001b[0;34m\u001b[0m\u001b[0;34m\u001b[0m\u001b[0;34m\u001b[0m\u001b[0m\n",
      "\u001b[0;32m~/.local/lib/python3.8/site-packages/pygetm/core.py\u001b[0m in \u001b[0;36mfill\u001b[0;34m(self, value)\u001b[0m\n\u001b[1;32m    157\u001b[0m     \u001b[0;32mdef\u001b[0m \u001b[0mfill\u001b[0m\u001b[0;34m(\u001b[0m\u001b[0mself\u001b[0m\u001b[0;34m,\u001b[0m \u001b[0mvalue\u001b[0m\u001b[0;34m)\u001b[0m\u001b[0;34m:\u001b[0m\u001b[0;34m\u001b[0m\u001b[0;34m\u001b[0m\u001b[0m\n\u001b[1;32m    158\u001b[0m         \u001b[0;34m\"\"\"Set array to specified value, while respecting the mask: masked points are set to fill_value\"\"\"\u001b[0m\u001b[0;34m\u001b[0m\u001b[0;34m\u001b[0m\u001b[0m\n\u001b[0;32m--> 159\u001b[0;31m         \u001b[0mself\u001b[0m\u001b[0;34m.\u001b[0m\u001b[0mall_values\u001b[0m\u001b[0;34m[\u001b[0m\u001b[0;34m...\u001b[0m\u001b[0;34m]\u001b[0m \u001b[0;34m=\u001b[0m \u001b[0mvalue\u001b[0m\u001b[0;34m\u001b[0m\u001b[0;34m\u001b[0m\u001b[0m\n\u001b[0m\u001b[1;32m    160\u001b[0m         \u001b[0;32mif\u001b[0m \u001b[0mself\u001b[0m\u001b[0;34m.\u001b[0m\u001b[0mfill_value\u001b[0m \u001b[0;32mis\u001b[0m \u001b[0;32mnot\u001b[0m \u001b[0;32mNone\u001b[0m\u001b[0;34m:\u001b[0m\u001b[0;34m\u001b[0m\u001b[0;34m\u001b[0m\u001b[0m\n\u001b[1;32m    161\u001b[0m             \u001b[0mself\u001b[0m\u001b[0;34m.\u001b[0m\u001b[0mall_values\u001b[0m\u001b[0;34m[\u001b[0m\u001b[0;34m...\u001b[0m\u001b[0;34m,\u001b[0m \u001b[0mself\u001b[0m\u001b[0;34m.\u001b[0m\u001b[0mgrid\u001b[0m\u001b[0;34m.\u001b[0m\u001b[0mmask\u001b[0m\u001b[0;34m.\u001b[0m\u001b[0mall_values\u001b[0m \u001b[0;34m==\u001b[0m \u001b[0;36m0\u001b[0m\u001b[0;34m]\u001b[0m \u001b[0;34m=\u001b[0m \u001b[0mself\u001b[0m\u001b[0;34m.\u001b[0m\u001b[0mfill_value\u001b[0m\u001b[0;34m\u001b[0m\u001b[0;34m\u001b[0m\u001b[0m\n",
      "\u001b[0;31mValueError\u001b[0m: could not broadcast input array from shape (7,263) into shape (20,7,135)"
     ]
    }
   ],
   "source": [
    "# Set up rectangular domain with outer points masked\n",
    "domain = pygetm.domain.create_cartesian(500.*numpy.arange(131), 500.*numpy.arange(3), 20, lat=0, H=20)\n",
    "sim = pygetm.Simulation(domain,\n",
    "                        runtype=pygetm.BAROCLINIC, \n",
    "                        advection_scheme=pygetm.AdvectionScheme.HSIMT,\n",
    "                        airsea=pygetm.airsea.Fluxes()\n",
    ")\n",
    "\n",
    "# set mask all around the basin\n",
    "\n",
    "sim.temp.fill(20.)\n",
    "#sim.temp.fill(30.)\n",
    "print(domain.x)\n",
    "sim.salt.fill(numpy.where(domain.x<32500., 20, 30))\n",
    "\n",
    "# Idealized surface forcingA - likely not needed because of airsea initialization\n",
    "#tausx = domain.U.array(fill=0.0)\n",
    "#tausy = domain.V.array(fill=0.)\n",
    "#sp = domain.T.array(fill=0.)\n",
    "#fwf = domain.T.array(fill=0.)\n",
    "\n",
    "#?\n",
    "#idpdx = domain.U.array(fill=0., z=pygetm.CENTERS)\n",
    "#idpdy = domain.V.array(fill=0., z=pygetm.CENTERS)\n",
    "#viscosity = domain.T.array(fill=1e-1, z=pygetm.INTERFACES)\n",
    "\n",
    "# Time\n",
    "timestep = 15.\n",
    "ntime = 24*int(3600. // timestep)\n",
    "mode_split = 10\n",
    "\n",
    "# is this needed?\n",
    "domain.T.zio.all_values[...] = 0\n",
    "domain.T.zin.all_values[...] = 0\n",
    "\n",
    "sim.start_3d()\n",
    "\n",
    "# Set up velocity plot\n",
    "# want to make a vertical slice animation of either S or rho\n",
    "\n",
    "#nsample_x = 2\n",
    "#nsample_z = 2\n",
    "#iy = 0\n",
    "#fig, ax = matplotlib.pyplot.subplots()\n",
    "#u = sim.pk.interp(domain.T) / domain.T.H\n",
    "#w = sim.ww.interp(domain.T, z=pygetm.CENTERS)\n",
    "#z_2d = domain.T.zc[::nsample_z, iy, ::nsample_x]\n",
    "#x_2d = numpy.broadcast_to(domain.T.x[iy, ::nsample_x], z_2d.shape)\n",
    "#Q = ax.quiver(x_2d, z_2d, u[::nsample_z, iy, ::nsample_x], w[::nsample_z, iy, ::nsample_x], scale=.01)\n",
    "#title = ax.set_title('time: 0 s')"
   ]
  },
  {
   "cell_type": "code",
   "execution_count": 8,
   "metadata": {
    "tags": []
   },
   "outputs": [
    {
     "ename": "NameError",
     "evalue": "name 'sp' is not defined",
     "output_type": "error",
     "traceback": [
      "\u001b[0;31m---------------------------------------------------------------------------\u001b[0m",
      "\u001b[0;31mNameError\u001b[0m                                 Traceback (most recent call last)",
      "\u001b[0;32m/tmp/ipykernel_23329/1678765657.py\u001b[0m in \u001b[0;36m<module>\u001b[0;34m\u001b[0m\n\u001b[1;32m     11\u001b[0m \u001b[0;34m\u001b[0m\u001b[0m\n\u001b[1;32m     12\u001b[0m \u001b[0;31m# and drop this\u001b[0m\u001b[0;34m\u001b[0m\u001b[0;34m\u001b[0m\u001b[0;34m\u001b[0m\u001b[0m\n\u001b[0;32m---> 13\u001b[0;31m     \u001b[0msim\u001b[0m\u001b[0;34m.\u001b[0m\u001b[0mupdate_surface_pressure_gradient\u001b[0m\u001b[0;34m(\u001b[0m\u001b[0mdomain\u001b[0m\u001b[0;34m.\u001b[0m\u001b[0mT\u001b[0m\u001b[0;34m.\u001b[0m\u001b[0mz\u001b[0m\u001b[0;34m,\u001b[0m \u001b[0msp\u001b[0m\u001b[0;34m)\u001b[0m\u001b[0;34m\u001b[0m\u001b[0;34m\u001b[0m\u001b[0m\n\u001b[0m\u001b[1;32m     14\u001b[0m     \u001b[0msim\u001b[0m\u001b[0;34m.\u001b[0m\u001b[0mupdate_2d_momentum\u001b[0m\u001b[0;34m(\u001b[0m\u001b[0mtimestep\u001b[0m\u001b[0;34m,\u001b[0m \u001b[0mtausx\u001b[0m\u001b[0;34m,\u001b[0m \u001b[0mtausy\u001b[0m\u001b[0;34m,\u001b[0m \u001b[0msim\u001b[0m\u001b[0;34m.\u001b[0m\u001b[0mdpdx\u001b[0m\u001b[0;34m,\u001b[0m \u001b[0msim\u001b[0m\u001b[0;34m.\u001b[0m\u001b[0mdpdy\u001b[0m\u001b[0;34m)\u001b[0m\u001b[0;34m\u001b[0m\u001b[0;34m\u001b[0m\u001b[0m\n\u001b[1;32m     15\u001b[0m     \u001b[0msim\u001b[0m\u001b[0;34m.\u001b[0m\u001b[0mupdate_sealevel\u001b[0m\u001b[0;34m(\u001b[0m\u001b[0mtimestep\u001b[0m\u001b[0;34m,\u001b[0m \u001b[0msim\u001b[0m\u001b[0;34m.\u001b[0m\u001b[0mU\u001b[0m\u001b[0;34m,\u001b[0m \u001b[0msim\u001b[0m\u001b[0;34m.\u001b[0m\u001b[0mV\u001b[0m\u001b[0;34m,\u001b[0m \u001b[0mfwf\u001b[0m\u001b[0;34m)\u001b[0m\u001b[0;34m\u001b[0m\u001b[0;34m\u001b[0m\u001b[0m\n",
      "\u001b[0;31mNameError\u001b[0m: name 'sp' is not defined"
     ]
    }
   ],
   "source": [
    "times = timestep * numpy.arange(ntime)\n",
    "plotting_interval = 5\n",
    "for istep, time in enumerate(times):\n",
    "      # or use\n",
    "        #sim.advance()\n",
    "        # update plot\n",
    "        #if istep % plotting_interval == 0:\n",
    "        #    ......\n",
    "\n",
    "#sim.finish()\n",
    "\n",
    "# and drop this\n",
    "    sim.update_surface_pressure_gradient(domain.T.z, sp)\n",
    "    sim.update_2d_momentum(timestep, tausx, tausy, sim.dpdx, sim.dpdy)\n",
    "    sim.update_sealevel(timestep, sim.U, sim.V, fwf)\n",
    "    sim.update_depth()\n",
    "\n",
    "    if istep % mode_split == 0:\n",
    "        sim.Ui.all_values[...] /= mode_split\n",
    "        sim.Vi.all_values[...] /= mode_split\n",
    "        sim.start_3d()\n",
    "        sim.update_surface_pressure_gradient(domain.T.zio, sp)\n",
    "        sim.update_3d_momentum(timestep * mode_split, tausx, tausy, sim.dpdx, sim.dpdy, idpdx, idpdy, viscosity)\n",
    "        sim.Ui.all_values[...] = 0\n",
    "        sim.Vi.all_values[...] = 0\n",
    "\n",
    "    # Update velocity plot\n",
    "    if istep % plotting_interval == 0:\n",
    "        u = sim.pk.interp(domain.T) / domain.T.H\n",
    "        sim.ww.interp(w)\n",
    "        Q.set_UVC(u[::nsample_z, iy, ::nsample_x], w[::nsample_z, iy, ::nsample_x])\n",
    "        title.set_text('time: %s s' % time)\n",
    "        fig.canvas.draw()"
   ]
  },
  {
   "cell_type": "code",
   "execution_count": null,
   "metadata": {},
   "outputs": [],
   "source": []
  }
 ],
 "metadata": {
  "kernelspec": {
   "display_name": "Python 3 (ipykernel)",
   "language": "python",
   "name": "python3"
  },
  "language_info": {
   "codemirror_mode": {
    "name": "ipython",
    "version": 3
   },
   "file_extension": ".py",
   "mimetype": "text/x-python",
   "name": "python",
   "nbconvert_exporter": "python",
   "pygments_lexer": "ipython3",
   "version": "3.8.10"
  }
 },
 "nbformat": 4,
 "nbformat_minor": 4
}
