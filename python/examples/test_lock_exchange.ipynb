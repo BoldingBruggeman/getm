{
 "cells": [
  {
   "cell_type": "code",
   "execution_count": 1,
   "metadata": {},
   "outputs": [],
   "source": [
    "# Import and initialize\n",
    "import datetime\n",
    "import numpy as np\n",
    "import pygetm\n",
    "\n",
    "%matplotlib widget\n",
    "import matplotlib.pyplot"
   ]
  },
  {
   "cell_type": "code",
   "execution_count": null,
   "metadata": {},
   "outputs": [],
   "source": [
    "# Set up slice domain (ny=1)\n",
    "import pygetm.vertical_coordinates\n",
    "\n",
    "\n",
    "domain = pygetm.domain.create_cartesian(\n",
    "    500.0 * np.arange(131), 500.0 * np.arange(2), lat=0, H=20, interfaces=True\n",
    ")\n",
    "sim = pygetm.Simulation(\n",
    "    domain,\n",
    "    airsea=pygetm.airsea.Fluxes(),\n",
    "    log_level=\"ERROR\",\n",
    "    internal_pressure=pygetm.internal_pressure.BlumbergMellor(),\n",
    "    vertical_coordinates=pygetm.vertical_coordinates.Sigma(20),\n",
    ")\n",
    "\n",
    "sim.temp.fill(20.0)\n",
    "sim.salt.fill(np.where(sim.T.x.all_values < 32500.0, 20, 30))\n",
    "\n",
    "# Idealized surface forcing\n",
    "sim.airsea.taux.set(0.0)\n",
    "sim.airsea.tauy.set(0.0)\n",
    "sim.airsea.sp.set(0.0)\n",
    "sim.airsea.shf.set(0.0)\n",
    "sim.airsea.swr.set(0.0)\n",
    "\n",
    "# Disable light attenuation\n",
    "sim.radiation.A.set(0.0)\n",
    "sim.radiation.kc1.set(0.0)\n",
    "sim.radiation.kc2.set(0.0)\n",
    "\n",
    "timestep = 15.0\n",
    "ntime = 24 * int(3600.0 // timestep)\n",
    "times = timestep * np.arange(ntime)\n",
    "plotting_interval = 10\n",
    "sim.start(datetime.datetime(2015, 1, 1), timestep=timestep, split_factor=30, report=180)\n",
    "\n",
    "nsample_x = 2\n",
    "nsample_z = 2\n",
    "iy = 0\n",
    "fig, ax = matplotlib.pyplot.subplots()\n",
    "u = sim.momentum.pk.interp(sim.T) / sim.T.H\n",
    "w = sim.momentum.ww.interp(sim.T, z=pygetm.CENTERS)\n",
    "z_2d = sim.T.zc[::nsample_z, iy, ::nsample_x]\n",
    "x_2d = np.broadcast_to(sim.T.x[iy, ::nsample_x], z_2d.shape)\n",
    "pc = ax.pcolormesh(sim.T.x[iy, :], sim.T.zc[:, iy, 0], sim.salt.values[:, iy, :])\n",
    "Q = ax.quiver(\n",
    "    x_2d,\n",
    "    z_2d,\n",
    "    u[::nsample_z, iy, ::nsample_x],\n",
    "    w[::nsample_z, iy, ::nsample_x],\n",
    "    scale=1.0,\n",
    ")\n",
    "title = ax.set_title(\"time: 0 s\")"
   ]
  },
  {
   "cell_type": "code",
   "execution_count": null,
   "metadata": {
    "tags": []
   },
   "outputs": [],
   "source": [
    "for istep, time in enumerate(times):\n",
    "    sim.advance()\n",
    "    if istep % plotting_interval == 0:\n",
    "        u = sim.momentum.pk.interp(sim.T) / sim.T.H\n",
    "        sim.momentum.ww.interp(w)\n",
    "        Q.set_UVC(u[::nsample_z, iy, ::nsample_x], w[::nsample_z, iy, ::nsample_x])\n",
    "        pc.set_array(sim.salt.values[:, iy, :].ravel())\n",
    "        title.set_text(\"time: %s s\" % time)\n",
    "        fig.canvas.draw()\n",
    "\n",
    "sim.finish()"
   ]
  },
  {
   "cell_type": "code",
   "execution_count": null,
   "metadata": {},
   "outputs": [],
   "source": []
  }
 ],
 "metadata": {
  "kernelspec": {
   "display_name": "base",
   "language": "python",
   "name": "python3"
  },
  "language_info": {
   "codemirror_mode": {
    "name": "ipython",
    "version": 3
   },
   "file_extension": ".py",
   "mimetype": "text/x-python",
   "name": "python",
   "nbconvert_exporter": "python",
   "pygments_lexer": "ipython3",
   "version": "3.9.19"
  }
 },
 "nbformat": 4,
 "nbformat_minor": 4
}
