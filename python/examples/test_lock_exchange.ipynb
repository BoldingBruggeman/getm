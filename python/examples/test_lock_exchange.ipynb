{
 "cells": [
  {
   "cell_type": "code",
   "execution_count": null,
   "metadata": {},
   "outputs": [],
   "source": [
    "# Import and initialize\n",
    "import datetime\n",
    "import numpy\n",
    "import pygetm\n",
    "\n",
    "%matplotlib widget\n",
    "import matplotlib.pyplot"
   ]
  },
  {
   "cell_type": "code",
   "execution_count": null,
   "metadata": {},
   "outputs": [],
   "source": [
    "# Set up rectangular domain with outer points masked\n",
    "domain = pygetm.domain.create_cartesian(500.*numpy.arange(131), 500.*numpy.arange(2), 20, lat=0, H=20, interfaces=True)\n",
    "sim = pygetm.Simulation(domain,\n",
    "                        runtype=pygetm.BAROCLINIC, \n",
    "                        airsea=pygetm.airsea.Fluxes(),\n",
    "                        log_level='ERROR',\n",
    "                        internal_pressure_method=pygetm.InternalPressure.BLUMBERG_MELLOR\n",
    ")\n",
    "\n",
    "#KB set mask all around the basin\n",
    "\n",
    "sim.temp.fill(20.)\n",
    "sim.salt.fill(numpy.where(domain.T.x.all_values<32500., 20, 30))\n",
    "\n",
    "# Idealized surface forcing\n",
    "sim.airsea.taux.set(0.0)\n",
    "sim.airsea.tauy.set(0.0)\n",
    "sim.airsea.sp.set(0.0)\n",
    "sim.airsea.shf.set(0.0)\n",
    "sim.airsea.swr.set(0.0)\n",
    "sim.radiation.A.set(0.)\n",
    "sim.radiation.kc1.set(0.)\n",
    "sim.radiation.kc2.set(0.)\n",
    "\n",
    "timestep = 15.\n",
    "ntime = 24*int(3600. // timestep)\n",
    "times = timestep * numpy.arange(ntime)\n",
    "plotting_interval = 10\n",
    "sim.start(datetime.datetime(2015, 1, 1), timestep=timestep, split_factor=30, report=180)\n",
    "\n",
    "nsample_x = 2\n",
    "nsample_z = 2\n",
    "iy = 0\n",
    "fig, ax = matplotlib.pyplot.subplots()\n",
    "u = sim.momentum.pk.interp(domain.T) / domain.T.H\n",
    "w = sim.momentum.ww.interp(domain.T, z=pygetm.CENTERS)\n",
    "z_2d = domain.T.zc[::nsample_z, iy, ::nsample_x]\n",
    "x_2d = numpy.broadcast_to(domain.T.x[iy, ::nsample_x], z_2d.shape)\n",
    "pc = ax.pcolormesh(domain.T.xi[iy, :], domain.T.zf[:, iy, 0], sim.salt.values[:, iy, :])\n",
    "Q = ax.quiver(x_2d, z_2d, u[::nsample_z, iy, ::nsample_x], w[::nsample_z, iy, ::nsample_x], scale=1.)\n",
    "title = ax.set_title('time: 0 s')\n"
   ]
  },
  {
   "cell_type": "code",
   "execution_count": null,
   "metadata": {
    "tags": []
   },
   "outputs": [],
   "source": [
    "for istep, time in enumerate(times):\n",
    "    sim.advance()\n",
    "    if istep % plotting_interval == 0:\n",
    "        u = sim.momentum.pk.interp(domain.T) / domain.T.H\n",
    "        sim.momentum.ww.interp(w)\n",
    "        Q.set_UVC(u[::nsample_z, iy, ::nsample_x], w[::nsample_z, iy, ::nsample_x])\n",
    "        pc.set_array(sim.salt.values[:, iy, :].ravel())\n",
    "        title.set_text('time: %s s' % time)\n",
    "        fig.canvas.draw()\n",
    "\n",
    "sim.finish()"
   ]
  },
  {
   "cell_type": "code",
   "execution_count": null,
   "metadata": {},
   "outputs": [],
   "source": []
  }
 ],
 "metadata": {
  "interpreter": {
   "hash": "e4cce46d6be9934fbd27f9ca0432556941ea5bdf741d4f4d64c6cd7f8dfa8fba"
  },
  "kernelspec": {
   "display_name": "Python 3.9.7 ('base')",
   "language": "python",
   "name": "python3"
  },
  "language_info": {
   "codemirror_mode": {
    "name": "ipython",
    "version": 3
   },
   "file_extension": ".py",
   "mimetype": "text/x-python",
   "name": "python",
   "nbconvert_exporter": "python",
   "pygments_lexer": "ipython3",
   "version": "3.9.7"
  }
 },
 "nbformat": 4,
 "nbformat_minor": 4
}
