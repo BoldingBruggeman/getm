{
 "cells": [
  {
   "cell_type": "code",
   "execution_count": null,
   "metadata": {},
   "outputs": [],
   "source": [
    "import datetime\n",
    "import numpy\n",
    "import os.path\n",
    "import pygetm.legacy\n",
    "import pygetm.input\n",
    "import cartopy.crs as ccrs\n",
    "\n",
    "# Note: \"%matplotlib widget\" below enables interactive plots but requires https://github.com/matplotlib/ipympl\n",
    "# Alternatively you could use \"%matplotlib notebook\" (deprecated).\n",
    "%matplotlib widget\n",
    "import matplotlib.pyplot\n",
    "\n",
    "getm_cases = next(filter(os.path.isdir, ('/data/kb/getm-setups', '../../../getm-setups')))\n",
    "igotm_data = next(filter(os.path.isdir, ('/server/data', '../../../igotm/data')))\n",
    "\n",
    "northsea_path = os.path.join(getm_cases, 'NorthSea/Topo/NS6nm.v01.nc')  # path to legacy GETM North Sea test case\n",
    "era_path = os.path.join(igotm_data, 'ERA-interim/20??.nc')              # path to ERA NetCDF file with t2m variable\n",
    "gebco_path = os.path.join(igotm_data, 'GEBCO/GEBCO_2021.nc')            # path to GEBCO NetCDF file with elevation variable\n",
    "tpxo_path = os.path.join(igotm_data, 'TPXO9/h_m2_tpxo9_atlas_30.nc')    # path to TPXO9 NetCDF file with hRe/hIm variables\n",
    "woa_path = os.path.join(igotm_data, 'WOA2018/woa.nc')                   # path to WOA NetCDF file with t_an variable\n",
    "\n",
    "map_proj = ccrs.PlateCarree()                                      # map projection to use for plotting"
   ]
  },
  {
   "cell_type": "code",
   "execution_count": null,
   "metadata": {},
   "outputs": [],
   "source": [
    "# Load North Sea domain - we'll interpolate to it later\n",
    "domain = pygetm.legacy.domain_from_topo(northsea_path, nlev=1)\n",
    "\n",
    "# Obtain temperature variable - this should not read the data yet\n",
    "t2m = pygetm.input.NetCDFVariable.get(era_path, 't2m', preprocess=lambda ds: ds.isel(time=slice(4, -4)))"
   ]
  },
  {
   "cell_type": "code",
   "execution_count": null,
   "metadata": {},
   "outputs": [],
   "source": [
    "# Plot first time of air temperature - full domain\n",
    "fig, ax = matplotlib.pyplot.subplots(subplot_kw={'projection': map_proj})\n",
    "t2m0 = pygetm.input.Variable(t2m.x[...,0])\n",
    "t2m0.x.plot()\n",
    "ax.coastlines()"
   ]
  },
  {
   "cell_type": "code",
   "execution_count": null,
   "metadata": {},
   "outputs": [],
   "source": [
    "# Limit domain to the North Sea region\n",
    "fig, ax = matplotlib.pyplot.subplots(subplot_kw={'projection': map_proj})\n",
    "t2m0_clip = pygetm.input.LimitRegion(t2m0, domain.lon.min(), domain.lon.max(), domain.lat.min(), domain.lat.max(), periodic_lon=True)\n",
    "t2m0_clip.x.plot()\n",
    "ax.coastlines()"
   ]
  },
  {
   "cell_type": "code",
   "execution_count": null,
   "metadata": {},
   "outputs": [],
   "source": [
    "\n",
    "# Interpolate to actual North Sea grid\n",
    "fig, ax = matplotlib.pyplot.subplots(subplot_kw={'projection': map_proj})\n",
    "t2m0_sip = pygetm.input.SpatialInterpolation(t2m0_clip, domain.lon[1::2,1::2], domain.lat[1::2,1::2])\n",
    "t2m0_sip.x.plot(x='longitude_', y='latitude_')\n",
    "ax.coastlines()"
   ]
  },
  {
   "cell_type": "code",
   "execution_count": null,
   "metadata": {},
   "outputs": [],
   "source": [
    "# Test temporal interpolation (full domain)\n",
    "fig, ax = matplotlib.pyplot.subplots(subplot_kw={'projection': map_proj})\n",
    "t2m_tip = pygetm.input.TemporalInterpolation.get(t2m)\n",
    "t2m_tip.update(datetime.datetime(2016,5,1))\n",
    "t2m_tip.x.plot()\n",
    "ax.coastlines()"
   ]
  },
  {
   "cell_type": "code",
   "execution_count": null,
   "metadata": {},
   "outputs": [],
   "source": [
    "# Full treatment of air temperature as in model:\n",
    "# - open NetCDF\n",
    "# - determine extents of region of interest\n",
    "# - interpolate temporally\n",
    "# - interpolate spatially\n",
    "t2m_clip = pygetm.input.LimitRegion(t2m, domain.lon.min(), domain.lon.max(), domain.lat.min(), domain.lat.max(), periodic_lon=True)\n",
    "t2m_clip_tip = pygetm.input.TemporalInterpolation.get(t2m_clip)\n",
    "t2m_clip_tip_sip = pygetm.input.SpatialInterpolation(t2m_clip_tip, domain.lon[1::2,1::2], domain.lat[1::2,1::2])\n",
    "\n",
    "# Set up plot of initial field - we'll animate it later\n",
    "fig, ax = matplotlib.pyplot.subplots(subplot_kw={'projection': map_proj})\n",
    "start = datetime.datetime(2016,5,1)\n",
    "t2m_clip_tip_sip.update(start)\n",
    "pc = t2m_clip_tip_sip.x.plot(x='longitude_', y='latitude_', vmin=273.15 + 5, vmax=273.15 + 25)\n",
    "ax.coastlines()"
   ]
  },
  {
   "cell_type": "code",
   "execution_count": null,
   "metadata": {},
   "outputs": [],
   "source": [
    "# Update air temperature in 15 minute steps over a three month-long period\n",
    "for i in range(3 * 24 * 4 * 30):\n",
    "    dt = start + datetime.timedelta(seconds=i * 900)\n",
    "    t2m_clip_tip_sip.update(dt)\n",
    "    pc.set_array(t2m_clip_tip_sip.x.values.ravel())\n",
    "    ax.set_title(dt)\n",
    "    fig.canvas.draw()"
   ]
  },
  {
   "cell_type": "code",
   "execution_count": null,
   "metadata": {},
   "outputs": [],
   "source": [
    "# Get GEBCO bathymetry\n",
    "elev = pygetm.input.NetCDFVariable.get(gebco_path, 'elevation')\n",
    "print('LimitRegion (includes NetCDF reading)...')\n",
    "elev = pygetm.input.LimitRegion(elev, domain.lon.min(), domain.lon.max(), domain.lat.min(), domain.lat.max(), periodic_lon=True)\n",
    "print('SpatialInterpolation...')\n",
    "elev = pygetm.input.SpatialInterpolation(elev, domain.lon, domain.lat)\n",
    "\n",
    "print('Plotting...')\n",
    "fig, ax = matplotlib.pyplot.subplots(subplot_kw={'projection': map_proj})\n",
    "elev.x.plot(x='lon_', y='lat_', vmin=-1000, vmax=0)\n",
    "ax.coastlines()"
   ]
  },
  {
   "cell_type": "code",
   "execution_count": null,
   "metadata": {},
   "outputs": [],
   "source": [
    "# Get M2 tidal amplitude\n",
    "m2_re = pygetm.input.NetCDFVariable.get(tpxo_path, 'hRe', preprocess=lambda ds: ds.set_coords(('lat_z', 'lon_z')))\n",
    "m2_re = pygetm.input.LimitRegion(m2_re, domain.lon.min(), domain.lon.max(), domain.lat.min(), domain.lat.max(), periodic_lon=True)\n",
    "m2_re = pygetm.input.SpatialInterpolation(m2_re, domain.lon, domain.lat)\n",
    "\n",
    "m2_im = pygetm.input.NetCDFVariable.get(tpxo_path, 'hIm', preprocess=lambda ds: ds.set_coords(('lat_z', 'lon_z')))\n",
    "m2_im = pygetm.input.LimitRegion(m2_im, domain.lon.min(), domain.lon.max(), domain.lat.min(), domain.lat.max(), periodic_lon=True)\n",
    "m2_im = pygetm.input.SpatialInterpolation(m2_im, domain.lon, domain.lat)\n",
    "\n",
    "amp = numpy.sqrt(m2_re.x**2 + m2_im.x**2)\n",
    "fig, ax = matplotlib.pyplot.subplots(subplot_kw={'projection': map_proj})\n",
    "amp.plot(x='lon_z', y='lat_z')\n",
    "ax.coastlines()"
   ]
  },
  {
   "cell_type": "code",
   "execution_count": null,
   "metadata": {},
   "outputs": [],
   "source": []
  }
 ],
 "metadata": {
  "interpreter": {
   "hash": "97ae724bfa85b9b34df7982b8bb8c7216f435b92902d749e4263f71162bea840"
  },
  "kernelspec": {
   "display_name": "Python 3.8.8 64-bit ('base': conda)",
   "name": "python3"
  },
  "language_info": {
   "codemirror_mode": {
    "name": "ipython",
    "version": 3
   },
   "file_extension": ".py",
   "mimetype": "text/x-python",
   "name": "python",
   "nbconvert_exporter": "python",
   "pygments_lexer": "ipython3",
   "version": "3.8.8"
  },
  "orig_nbformat": 4
 },
 "nbformat": 4,
 "nbformat_minor": 2
}
