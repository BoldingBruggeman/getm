{
 "cells": [
  {
   "cell_type": "code",
   "execution_count": null,
   "metadata": {},
   "outputs": [],
   "source": [
    "import datetime\n",
    "import os.path\n",
    "\n",
    "import cftime\n",
    "import numpy as np\n",
    "import pygetm.legacy\n",
    "import pygetm.input\n",
    "#pygetm.input.debug_nc_reads()\n",
    "import cartopy.crs as ccrs\n",
    "\n",
    "# Note: \"%matplotlib widget\" below enables interactive plots but requires https://github.com/matplotlib/ipympl\n",
    "# Alternatively you could use \"%matplotlib notebook\" (deprecated).\n",
    "%matplotlib widget\n",
    "import matplotlib.pyplot\n",
    "\n",
    "getm_cases = next(filter(os.path.isdir, ('/data/kb/getm-setups', '../../../getm-setups')))\n",
    "igotm_data = next(filter(os.path.isdir, ('/server/data', '../../../igotm/data')))\n",
    "\n",
    "northsea_path = os.path.join(getm_cases, 'NorthSea/Topo/NS6nm.v01.nc')  # path to legacy GETM North Sea test case\n",
    "era_path = os.path.join(igotm_data, 'ERA-interim/20??.nc')              # path to ERA NetCDF file with t2m variable\n",
    "gebco_path = os.path.join(igotm_data, 'GEBCO/GEBCO_2022.nc')            # path to GEBCO NetCDF file with elevation variable\n",
    "tpxo_path = os.path.join(igotm_data, 'TPXO9/h_m2_tpxo9_atlas_30.nc')    # path to TPXO9 NetCDF file with hRe/hIm variables\n",
    "woa_path = os.path.join(igotm_data, 'WOA2018/woa.nc')                   # path to WOA NetCDF file with t_an variable\n",
    "\n",
    "map_proj = ccrs.PlateCarree()                                      # map projection to use for plotting\n",
    "\n",
    "def era_preprocess(ds):\n",
    "    return ds.isel(time=slice(4, -4))"
   ]
  },
  {
   "cell_type": "code",
   "execution_count": null,
   "metadata": {},
   "outputs": [],
   "source": [
    "# Load North Sea domain - we'll interpolate to it later\n",
    "domain = pygetm.legacy.domain_from_topo(northsea_path, nlev=1)\n",
    "domain.initialize(1)\n",
    "\n",
    "# Obtain temperature variable - this should not read the data yet\n",
    "t2m = pygetm.input.from_nc(era_path, \"t2m\", preprocess=era_preprocess)"
   ]
  },
  {
   "cell_type": "code",
   "execution_count": null,
   "metadata": {},
   "outputs": [],
   "source": [
    "# Plot first time of air temperature - full domain\n",
    "fig, ax = matplotlib.pyplot.subplots(subplot_kw={\"projection\": map_proj})\n",
    "t2m0 = t2m[..., 0]\n",
    "t2m0.plot()\n",
    "ax.coastlines()"
   ]
  },
  {
   "cell_type": "code",
   "execution_count": null,
   "metadata": {},
   "outputs": [],
   "source": [
    "# Limit domain to the North Sea region\n",
    "fig, ax = matplotlib.pyplot.subplots(subplot_kw={\"projection\": map_proj})\n",
    "t2m0_clip = pygetm.input.limit_region(\n",
    "    t2m0,\n",
    "    domain.lon.min(),\n",
    "    domain.lon.max(),\n",
    "    domain.lat.min(),\n",
    "    domain.lat.max(),\n",
    "    periodic_lon=True,\n",
    ")\n",
    "t2m0_clip.plot()\n",
    "ax.coastlines()"
   ]
  },
  {
   "cell_type": "code",
   "execution_count": null,
   "metadata": {},
   "outputs": [],
   "source": [
    "# Interpolate to actual North Sea grid\n",
    "fig, ax = matplotlib.pyplot.subplots(subplot_kw={\"projection\": map_proj})\n",
    "t2m0_sip = pygetm.input.horizontal_interpolation(\n",
    "    t2m0_clip, domain.lon[1::2, 1::2], domain.lat[1::2, 1::2]\n",
    ")\n",
    "t2m0_sip.plot(x=\"longitude_\", y=\"latitude_\")\n",
    "ax.coastlines()"
   ]
  },
  {
   "cell_type": "code",
   "execution_count": null,
   "metadata": {},
   "outputs": [],
   "source": [
    "# Test temporal interpolation (full domain)\n",
    "fig, ax = matplotlib.pyplot.subplots(subplot_kw={\"projection\": map_proj})\n",
    "t2m_tip = pygetm.input.temporal_interpolation(t2m)\n",
    "t2m_tip.data.update(cftime.datetime(2016, 5, 1))\n",
    "t2m_tip.plot()\n",
    "ax.coastlines()"
   ]
  },
  {
   "cell_type": "code",
   "execution_count": null,
   "metadata": {},
   "outputs": [],
   "source": [
    "# Full treatment of air temperature as in model:\n",
    "# - open NetCDF\n",
    "# - determine extents of region of interest\n",
    "# - interpolate temporally\n",
    "# - interpolate spatially\n",
    "t2m_clip = pygetm.input.limit_region(\n",
    "    t2m,\n",
    "    domain.lon.min(),\n",
    "    domain.lon.max(),\n",
    "    domain.lat.min(),\n",
    "    domain.lat.max(),\n",
    "    periodic_lon=True,\n",
    ")\n",
    "t2m_clip_sip = pygetm.input.horizontal_interpolation(\n",
    "    t2m_clip, domain.lon[1::2, 1::2], domain.lat[1::2, 1::2]\n",
    ")\n",
    "t2m_clip_sip_tip = pygetm.input.temporal_interpolation(t2m_clip_sip) - 273.15\n",
    "\n",
    "# Set up plot of initial field - we'll animate it later\n",
    "fig, ax = matplotlib.pyplot.subplots(subplot_kw={\"projection\": map_proj})\n",
    "start = cftime.datetime(2016, 5, 1)\n",
    "t2m_clip_sip_tip.variable.data.update(start)\n",
    "pc = t2m_clip_sip_tip.plot(x=\"longitude_\", y=\"latitude_\", vmin=5, vmax=20)\n",
    "ax.coastlines()"
   ]
  },
  {
   "cell_type": "code",
   "execution_count": null,
   "metadata": {},
   "outputs": [],
   "source": [
    "# Update air temperature in 15 minute steps over a ten-day period\n",
    "for i in range(24 * 4 * 10):\n",
    "    dt = start + datetime.timedelta(seconds=i * 900)\n",
    "    t2m_clip_sip_tip.data.update(dt)\n",
    "    pc.set_array(t2m_clip_sip_tip.values.ravel())\n",
    "    ax.set_title(dt)\n",
    "    fig.canvas.draw()"
   ]
  },
  {
   "cell_type": "code",
   "execution_count": null,
   "metadata": {},
   "outputs": [],
   "source": [
    "# Get GEBCO bathymetry\n",
    "elev = pygetm.input.from_nc(gebco_path, \"elevation\")\n",
    "elev = pygetm.input.limit_region(\n",
    "    elev,\n",
    "    domain.lon.min(),\n",
    "    domain.lon.max(),\n",
    "    domain.lat.min(),\n",
    "    domain.lat.max(),\n",
    "    periodic_lon=True,\n",
    ")\n",
    "elev = pygetm.input.horizontal_interpolation(elev, domain.lon, domain.lat)\n",
    "\n",
    "fig, ax = matplotlib.pyplot.subplots(subplot_kw={\"projection\": map_proj})\n",
    "elev.plot(x=\"lon_\", y=\"lat_\", vmin=-1000, vmax=0)\n",
    "ax.coastlines()"
   ]
  },
  {
   "cell_type": "code",
   "execution_count": null,
   "metadata": {},
   "outputs": [],
   "source": [
    "# Get M2 tidal amplitude on T grid\n",
    "def tpxo_preprocess(ds):\n",
    "    return ds.set_coords((\"lat_z\", \"lon_z\"))\n",
    "\n",
    "m2_re = domain.T.array()\n",
    "m2_re.set(pygetm.input.from_nc(tpxo_path, \"hRe\", preprocess=tpxo_preprocess))\n",
    "\n",
    "m2_im = domain.T.array()\n",
    "m2_im.set(pygetm.input.from_nc(tpxo_path, \"hIm\", preprocess=tpxo_preprocess))\n",
    "\n",
    "amp = np.sqrt(m2_re ** 2 + m2_im ** 2)\n",
    "fig, ax = matplotlib.pyplot.subplots(subplot_kw={\"projection\": map_proj})\n",
    "amp.plot()\n",
    "ax.coastlines()"
   ]
  },
  {
   "cell_type": "code",
   "execution_count": null,
   "metadata": {},
   "outputs": [],
   "source": [
    "# Get WOA temperature\n",
    "t_an = pygetm.input.from_nc(woa_path, \"t_an\")\n",
    "t_an = pygetm.input.limit_region(\n",
    "    t_an,\n",
    "    domain.lon.min(),\n",
    "    domain.lon.max(),\n",
    "    domain.lat.min(),\n",
    "    domain.lat.max(),\n",
    "    periodic_lon=True,\n",
    ")\n",
    "mask = np.isnan(t_an.values)\n",
    "t_an = t_an.where(~mask, 0)\n",
    "t_an_ip = pygetm.input.horizontal_interpolation(t_an, domain.lon, domain.lat, mask=mask)\n",
    "\n",
    "fig, (ax1, ax2) = matplotlib.pyplot.subplots(\n",
    "    ncols=2, subplot_kw={\"projection\": map_proj}, figsize=(12, 4)\n",
    ")\n",
    "t_an[..., 0].plot(ax=ax1)\n",
    "t_an_ip[..., 0].plot(ax=ax2, x=\"lon_\", y=\"lat_\")"
   ]
  },
  {
   "cell_type": "code",
   "execution_count": null,
   "metadata": {},
   "outputs": [],
   "source": [
    "# Get u10 and v10 on T grid (spatial limit, temporal interpolation, spatial interpolation all handled in the background)\n",
    "u10 = domain.T.array()\n",
    "v10 = domain.T.array()\n",
    "u10.set(pygetm.input.from_nc(era_path, \"u10\", preprocess=era_preprocess))\n",
    "v10.set(pygetm.input.from_nc(era_path, \"v10\", preprocess=era_preprocess))\n",
    "\n",
    "u10s = u10[::2, ::2]\n",
    "v10s = v10[::2, ::2]\n",
    "\n",
    "# Set up plot of initial field - we'll animate it later\n",
    "fig, ax = matplotlib.pyplot.subplots(subplot_kw={\"projection\": map_proj})\n",
    "start = cftime.datetime(2016, 1, 1)\n",
    "domain.input_manager.update(start)\n",
    "Q = ax.quiver(\n",
    "    u10.grid.lon[::2, ::2],\n",
    "    u10.grid.lat[::2, ::2],\n",
    "    u10s,\n",
    "    v10s,\n",
    "    np.sqrt(u10s ** 2 + v10s ** 2),\n",
    "    scale=500,\n",
    ")\n",
    "ax.coastlines()"
   ]
  },
  {
   "cell_type": "code",
   "execution_count": null,
   "metadata": {},
   "outputs": [],
   "source": [
    "# Update wind vectors in 1 hour steps over a ten-day period\n",
    "for i in range(24 * 10):\n",
    "    dt = start + datetime.timedelta(seconds=(i + 1) * 3600)\n",
    "    domain.input_manager.update(dt)\n",
    "    Q.set_UVC(u10s, v10s, np.sqrt(u10s ** 2 + v10s ** 2))\n",
    "    ax.set_title(dt)\n",
    "    fig.canvas.draw()"
   ]
  },
  {
   "cell_type": "code",
   "execution_count": null,
   "metadata": {},
   "outputs": [],
   "source": []
  }
 ],
 "metadata": {
  "interpreter": {
   "hash": "e4cce46d6be9934fbd27f9ca0432556941ea5bdf741d4f4d64c6cd7f8dfa8fba"
  },
  "kernelspec": {
   "display_name": "Python 3.9.7 ('base')",
   "language": "python",
   "name": "python3"
  },
  "language_info": {
   "codemirror_mode": {
    "name": "ipython",
    "version": 3
   },
   "file_extension": ".py",
   "mimetype": "text/x-python",
   "name": "python",
   "nbconvert_exporter": "python",
   "pygments_lexer": "ipython3",
   "version": "3.9.16"
  },
  "orig_nbformat": 4
 },
 "nbformat": 4,
 "nbformat_minor": 2
}
