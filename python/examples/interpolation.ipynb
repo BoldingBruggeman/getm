{
 "cells": [
  {
   "cell_type": "code",
   "execution_count": null,
   "source": [
    "import datetime\r\n",
    "import pygetm.legacy\r\n",
    "import pygetm.input\r\n",
    "import cartopy.crs as ccrs\r\n",
    "\r\n",
    "# Note: \"%matplotlib widget\" below enables interactive plots but requires https://github.com/matplotlib/ipympl\r\n",
    "# Alternatively you could use \"%matplotlib notebook\" (deprecated).\r\n",
    "%matplotlib widget\r\n",
    "import matplotlib.pyplot\r\n",
    "\r\n",
    "northsea_path = '../../../getm-setups/NorthSea/Topo/NS6nm.v01.nc'  # path to legacy GETM North Sea test case\r\n",
    "era_path = '../../../igotm/data/ERA-interim/20??.nc'               # path to ERA NetCDF file with t2m variable\r\n",
    "\r\n",
    "map_proj = ccrs.PlateCarree()                                      # map projection to use for plotting"
   ],
   "outputs": [],
   "metadata": {}
  },
  {
   "cell_type": "code",
   "execution_count": null,
   "source": [
    "# Load North Sea domain - we'll interpolate to it later\r\n",
    "domain = pygetm.legacy.domain_from_topo(northsea_path, nlev=1)\r\n",
    "\r\n",
    "# Obtain temperature variable - thgis should not read the data yet\r\n",
    "t2m = pygetm.input.NetCDFVariable.get(era_path, 't2m', preprocess=lambda ds: ds.isel(time=slice(4, -4)))"
   ],
   "outputs": [],
   "metadata": {}
  },
  {
   "cell_type": "code",
   "execution_count": null,
   "source": [
    "# Plot first time of air temperature - full domain\r\n",
    "fig, ax = matplotlib.pyplot.subplots(subplot_kw={'projection': map_proj})\r\n",
    "t2m0 = pygetm.input.Variable(t2m.x[...,0])\r\n",
    "t2m0.x.plot()\r\n",
    "ax.coastlines()"
   ],
   "outputs": [],
   "metadata": {}
  },
  {
   "cell_type": "code",
   "execution_count": null,
   "source": [
    "# Limit domain to the North Sea region\r\n",
    "fig, ax = matplotlib.pyplot.subplots(subplot_kw={'projection': map_proj})\r\n",
    "t2m0_clip = pygetm.input.LimitRegion(t2m0, domain.lon.min(), domain.lon.max(), domain.lat.min(), domain.lat.max(), periodic_lon=True)\r\n",
    "t2m0_clip.x.plot()\r\n",
    "ax.coastlines()"
   ],
   "outputs": [],
   "metadata": {}
  },
  {
   "cell_type": "code",
   "execution_count": null,
   "source": [
    "\r\n",
    "# Interpolate to actual North Sea grid\r\n",
    "fig, ax = matplotlib.pyplot.subplots(subplot_kw={'projection': map_proj})\r\n",
    "t2m0_sip = pygetm.input.SpatialInterpolation(t2m0_clip, domain.lon[1::2,1::2], domain.lat[1::2,1::2])\r\n",
    "t2m0_sip.x.plot(x='longitude_', y='latitude_')\r\n",
    "ax.coastlines()"
   ],
   "outputs": [],
   "metadata": {}
  },
  {
   "cell_type": "code",
   "execution_count": null,
   "source": [
    "# Test temporal interpolation (full domain)\r\n",
    "fig, ax = matplotlib.pyplot.subplots(subplot_kw={'projection': map_proj})\r\n",
    "t2m_tip = pygetm.input.TemporalInterpolation.get(t2m)\r\n",
    "t2m_tip.update(datetime.datetime(2016,5,1))\r\n",
    "t2m_tip.x.plot()\r\n",
    "ax.coastlines()"
   ],
   "outputs": [],
   "metadata": {}
  },
  {
   "cell_type": "code",
   "execution_count": null,
   "source": [
    "# Full treatment of air temperature as in model:\r\n",
    "# - open NetCDF\r\n",
    "# - determine extents of region of interest\r\n",
    "# - interpolate temporally\r\n",
    "# - interpolate spatially\r\n",
    "t2m_clip = pygetm.input.LimitRegion(t2m, domain.lon.min(), domain.lon.max(), domain.lat.min(), domain.lat.max(), periodic_lon=True)\r\n",
    "t2m_clip_tip = pygetm.input.TemporalInterpolation.get(t2m_clip)\r\n",
    "t2m_clip_tip_sip = pygetm.input.SpatialInterpolation(t2m_clip_tip, domain.lon[1::2,1::2], domain.lat[1::2,1::2])\r\n",
    "\r\n",
    "# Set up plot of initial field - we'll animate it later\r\n",
    "fig, ax = matplotlib.pyplot.subplots(subplot_kw={'projection': map_proj})\r\n",
    "start = datetime.datetime(2016,5,1)\r\n",
    "t2m_clip_tip_sip.update(start)\r\n",
    "pc = t2m_clip_tip_sip.x.plot(x='longitude_', y='latitude_', vmin=273.15 + 5, vmax=273.15 + 25)\r\n",
    "ax.coastlines()"
   ],
   "outputs": [],
   "metadata": {}
  },
  {
   "cell_type": "code",
   "execution_count": null,
   "source": [
    "# Update air temperature in 15 minute steps over a three month-long period\r\n",
    "for i in range(3 * 24 * 4 * 30):\r\n",
    "    dt = start + datetime.timedelta(seconds=i * 900)\r\n",
    "    t2m_clip_tip_sip.update(dt)\r\n",
    "    pc.set_array(t2m_clip_tip_sip.x.values.ravel())\r\n",
    "    ax.set_title(dt)\r\n",
    "    fig.canvas.draw()"
   ],
   "outputs": [],
   "metadata": {}
  },
  {
   "cell_type": "code",
   "execution_count": null,
   "source": [],
   "outputs": [],
   "metadata": {}
  }
 ],
 "metadata": {
  "orig_nbformat": 4,
  "language_info": {
   "name": "python",
   "version": "3.8.8",
   "mimetype": "text/x-python",
   "codemirror_mode": {
    "name": "ipython",
    "version": 3
   },
   "pygments_lexer": "ipython3",
   "nbconvert_exporter": "python",
   "file_extension": ".py"
  },
  "kernelspec": {
   "name": "python3",
   "display_name": "Python 3.8.8 64-bit ('base': conda)"
  },
  "interpreter": {
   "hash": "97ae724bfa85b9b34df7982b8bb8c7216f435b92902d749e4263f71162bea840"
  }
 },
 "nbformat": 4,
 "nbformat_minor": 2
}