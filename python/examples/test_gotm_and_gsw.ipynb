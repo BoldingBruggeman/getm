{
 "cells": [
  {
   "cell_type": "code",
   "execution_count": null,
   "metadata": {},
   "outputs": [],
   "source": [
    "import numpy\n",
    "\n",
    "# Note: \"%matplotlib widget\" below enables interactive plots but requires https://github.com/matplotlib/ipympl\n",
    "# Alternatively you could use \"%matplotlib notebook\" (deprecated).\n",
    "%matplotlib widget\n",
    "import matplotlib.pyplot\n",
    "\n",
    "import pygsw\n",
    "import pygetm._pygotm"
   ]
  },
  {
   "cell_type": "code",
   "execution_count": null,
   "metadata": {},
   "outputs": [],
   "source": [
    "# Configure a water column with equal layer thicknesses\n",
    "D = 5000\n",
    "nlev = 100\n",
    "\n",
    "h_ = numpy.full((nlev + 1,), D / nlev)   # layer heights plus a dummy value as very first element (needed for GOTM)\n",
    "h = h_[1:]                               # actual layer heights (without the dummy value)\n",
    "z_if = numpy.linspace(-D, 0., nlev + 1)  # depth of layer interfaces\n",
    "z = 0.5 * (z_if[:-1] + z_if[1:])         # depth of layer centers"
   ]
  },
  {
   "cell_type": "code",
   "execution_count": null,
   "metadata": {},
   "outputs": [],
   "source": [
    "# Try GOTM mixing logic on a random tracer field with constant diffusivity\n",
    "# This sets up a figure with the tracer state, which can be advanced [time-integrated] by the following cell.\n",
    "\n",
    "mix = pygetm._pygotm.Mixing(nlev)\n",
    "mix.nuh[:] = 1e-1\n",
    "y = numpy.random.random_sample(mix.nuh.size)\n",
    "\n",
    "iday = 0\n",
    "fig, ax = matplotlib.pyplot.subplots()\n",
    "line, = ax.plot(y[1:], z, 'o')\n",
    "title = ax.set_title('day 0')\n",
    "ax.set_xlabel('tracer')\n",
    "ax.set_ylabel('depth (m)')\n",
    "ax.grid()"
   ]
  },
  {
   "cell_type": "code",
   "execution_count": null,
   "metadata": {},
   "outputs": [],
   "source": [
    "# Time-integrate the vertical diffusion equation for 100 days and update the above figure while doing so.\n",
    "for _ in range(100):\n",
    "    iday += 1\n",
    "    for _ in range(24):\n",
    "        mix.diffuse(3600., h_, y)\n",
    "    line.set_xdata(y[1:])\n",
    "    title.set_text('day %i' % iday)\n",
    "    fig.canvas.draw()"
   ]
  },
  {
   "cell_type": "code",
   "execution_count": null,
   "metadata": {},
   "outputs": [],
   "source": [
    "# Now set up simple temperature and salinity profile (stable temperature but randomly perturbed salinity, so there is something to diffuse):\n",
    "# Start from in-situ temperature and practical salinity, then use GWS to compute other temperature and salinity metrics and plot the result.\n",
    "\n",
    "# In-situ temperature and practical salinity\n",
    "t = numpy.full_like(z, 5.)\n",
    "t[80:] = 10.\n",
    "sp = numpy.full_like(z, 35.) + numpy.random.random_sample(t.shape)\n",
    "\n",
    "# Location needed by GWS\n",
    "lon = numpy.full_like(z, 0.)\n",
    "lat = numpy.full_like(z, 50.)\n",
    "p = -z\n",
    "\n",
    "# Absolute salinity - note we add a dummy first value so we can later use this array for pygotm mixing\n",
    "SA_ = numpy.empty_like(h_)\n",
    "SA = SA_[1:]\n",
    "pygsw.sa_from_sp(lon, lat, p, sp, SA)\n",
    "\n",
    "# Potential temperature\n",
    "pt = numpy.empty_like(t)\n",
    "pygsw.pt0_from_t(SA, t, p, pt)\n",
    "\n",
    "# Conservative temperature - note we add a dummy first value so we can later use this array for pygotm mixing\n",
    "ct_ = numpy.empty_like(SA_)\n",
    "ct = ct_[1:]\n",
    "pygsw.ct_from_pt(SA, pt, ct)\n",
    "\n",
    "# Buoyancy frequency\n",
    "NN = numpy.zeros((h.shape[0] + 1,), dtype=h.dtype)\n",
    "pygsw.nsquared(h[:, None, None], SA[:, None, None], ct[:, None, None], p[:, None, None], lat[0, None, None], NN[1:-1, None, None])\n",
    "\n",
    "# Plot\n",
    "fig, (ax1, ax2, ax3) = matplotlib.pyplot.subplots(ncols=3, figsize=(12, 5), sharey=True)\n",
    "ax1.plot(t, z, '-', label='in-situ temperature')\n",
    "ax1.plot(pt, z, '-', label='potential temperature')\n",
    "line_ct, = ax1.plot(ct, z, '-', label='conservative temperature')\n",
    "ax1.set_xlabel('temperature (degrees C)')\n",
    "ax1.set_ylabel('depth (m)')\n",
    "ax1.legend()\n",
    "ax1.grid()\n",
    "\n",
    "ax2.plot(sp, z, '-', label='practical salinity')\n",
    "line_SA, = ax2.plot(SA, z, '-', label='absolute salinity')\n",
    "ax2.set_xlabel('salinity')\n",
    "ax2.legend()\n",
    "ax2.grid()\n",
    "\n",
    "line_NN, = ax3.plot(NN, z_if, '-')\n",
    "ax3.set_xlabel('buoyancy frequency squared (s-2)')\n",
    "ax3.grid()"
   ]
  },
  {
   "cell_type": "code",
   "execution_count": null,
   "metadata": {},
   "outputs": [],
   "source": [
    "# Set up a figure that shows the model state (conservative temperature, absolute salinity, buoyancy frequency, turbulent diffusivity)\n",
    "# This figure can then be updated while the simulation progresses [next cell]\n",
    "\n",
    "iday = 0\n",
    "mix = pygetm._pygotm.Mixing(z.size)\n",
    "\n",
    "fig, (ax1, ax2, ax3, ax4) = matplotlib.pyplot.subplots(ncols=4, figsize=(12, 5), sharey=True)\n",
    "line_ct, = ax1.plot(ct, z, '-', label='conservative temperature')\n",
    "ax1.set_xlabel('conservative temperature (degrees C)')\n",
    "ax1.set_ylabel('depth (m)')\n",
    "ax1.grid()\n",
    "\n",
    "line_SA, = ax2.plot(SA, z, '-', label='absolute salinity')\n",
    "ax2.set_xlabel('absolute salinity')\n",
    "ax2.grid()\n",
    "\n",
    "line_NN, = ax3.plot(NN, z_if, '-')\n",
    "ax3.set_xlabel('buoyancy frequency squared (s-2)')\n",
    "ax3.grid()\n",
    "\n",
    "line_nuh, = ax4.semilogx(mix.nuh, z_if, '-')\n",
    "ax4.set_xlabel('turbulent diffusivity (m2 s-1)')\n",
    "ax4.set_xlim(1e-10, 10)\n",
    "ax4.grid()\n",
    "\n",
    "title = fig.suptitle('day 0')\n",
    "\n",
    "dt = 3600.\n",
    "SS = numpy.zeros_like(NN)\n",
    "\n",
    "iday = 0\n",
    "def step():\n",
    "    global iday\n",
    "    pygsw.nsquared(h[:, None, None], SA[:, None, None], ct[:, None, None], p[:, None, None], lat[0, None, None], NN[1:-1, None, None])\n",
    "    mix.turbulence(dt, h_, D, 0., 0., 0., 0., NN, SS)\n",
    "    mix.diffuse(dt, h_, SA_)\n",
    "    mix.diffuse(dt, h_, ct_)\n",
    "    iday += dt / (24 * 3600.)\n",
    "\n",
    "def plot():\n",
    "    line_ct.set_xdata(ct)\n",
    "    line_SA.set_xdata(SA)\n",
    "    line_NN.set_xdata(NN)\n",
    "    line_nuh.set_xdata(mix.nuh)\n",
    "    title.set_text('day %.2f' % iday)\n",
    "    fig.canvas.draw()"
   ]
  },
  {
   "cell_type": "code",
   "execution_count": null,
   "metadata": {},
   "outputs": [],
   "source": [
    "# Try a single model iteration (1 hour) and update the figure\n",
    "step()\n",
    "plot()"
   ]
  },
  {
   "cell_type": "code",
   "execution_count": null,
   "metadata": {},
   "outputs": [],
   "source": [
    "\n",
    "# Simulate for 5 days\n",
    "for _ in range(5):\n",
    "    for _ in range(24):\n",
    "        step()\n",
    "        plot()\n"
   ]
  },
  {
   "cell_type": "code",
   "execution_count": null,
   "metadata": {},
   "outputs": [],
   "source": []
  }
 ],
 "metadata": {
  "interpreter": {
   "hash": "97ae724bfa85b9b34df7982b8bb8c7216f435b92902d749e4263f71162bea840"
  },
  "kernelspec": {
   "display_name": "Python 3.8.8 64-bit ('base': conda)",
   "name": "python3"
  },
  "language_info": {
   "codemirror_mode": {
    "name": "ipython",
    "version": 3
   },
   "file_extension": ".py",
   "mimetype": "text/x-python",
   "name": "python",
   "nbconvert_exporter": "python",
   "pygments_lexer": "ipython3",
   "version": "3.8.8"
  },
  "orig_nbformat": 4
 },
 "nbformat": 4,
 "nbformat_minor": 2
}
