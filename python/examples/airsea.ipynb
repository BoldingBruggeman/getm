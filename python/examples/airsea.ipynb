{
 "cells": [
  {
   "cell_type": "code",
   "execution_count": null,
   "metadata": {},
   "outputs": [],
   "source": [
    "import os.path\n",
    "import datetime\n",
    "import pygetm.legacy\n",
    "import pygetm\n",
    "import cartopy.crs as ccrs\n",
    "\n",
    "# Note: \"%matplotlib widget\" below enables interactive plots but requires https://github.com/matplotlib/ipympl\n",
    "# Alternatively you could use \"%matplotlib notebook\" (deprecated).\n",
    "%matplotlib widget\n",
    "import matplotlib.pyplot\n",
    "\n",
    "getm_cases = next(filter(os.path.isdir, ('/data/kb/getm-setups', '../../../getm-setups')))\n",
    "igotm_data = next(filter(os.path.isdir, ('/server/data', '../../../igotm/data')))\n",
    "\n",
    "northsea_path = os.path.join(getm_cases, 'NorthSea/Topo/NS6nm.v01.nc')  # path to legacy GETM North Sea test case\n",
    "era_path = os.path.join(igotm_data, 'ERA-interim/20??.nc')              # path to ERA NetCDF file with t2m variable\n",
    "\n",
    "map_proj = ccrs.PlateCarree()                                           # map projection to use for plotting\n",
    "\n",
    "# Default time for plots\n",
    "start = dt = datetime.datetime(2016,4,1,12)"
   ]
  },
  {
   "cell_type": "code",
   "execution_count": null,
   "metadata": {},
   "outputs": [],
   "source": [
    "# Load GETM domain so we have a lon/lat grid to compute on/interpolate to.\n",
    "domain = pygetm.legacy.domain_from_topo(northsea_path, nlev=1)\n",
    "domain.initialize(pygetm.BAROTROPIC_2D)\n",
    "\n",
    "# Load meteorology from ERA\n",
    "airsea = pygetm.airsea.FluxesFromMeteo()\n",
    "airsea.initialize(domain)\n",
    "kwargs = {'preprocess': lambda ds: ds.isel(time=slice(4, -4)), 'chunks': {'time': 1}}\n",
    "airsea.tcc.set(pygetm.input.from_nc(era_path, 'tcc', **kwargs))\n",
    "airsea.t2m.set(pygetm.input.from_nc(era_path, 't2m', **kwargs) - 273.15)\n",
    "airsea.d2m.set(pygetm.input.from_nc(era_path, 'd2m', **kwargs) - 273.15)\n",
    "airsea.sp.set(pygetm.input.from_nc(era_path, 'sp', **kwargs))\n",
    "airsea.u10.set(pygetm.input.from_nc(era_path, 'u10', **kwargs))\n",
    "airsea.v10.set(pygetm.input.from_nc(era_path, 'v10', **kwargs))\n",
    "domain.input_manager.update(start)"
   ]
  },
  {
   "cell_type": "code",
   "execution_count": null,
   "metadata": {},
   "outputs": [],
   "source": [
    "# Compute and plot humidity\n",
    "airsea.update_humidity(airsea.t2m)\n",
    "\n",
    "fig, (ax1, ax2, ax3) = matplotlib.pyplot.subplots(subplot_kw={'projection': map_proj}, ncols=3, figsize=(16, 2.5))\n",
    "(100 * airsea.ea / airsea.es).plot(ax=ax1)\n",
    "airsea.qa.plot(ax=ax2)\n",
    "airsea.rhoa.plot(ax=ax3)\n",
    "ax1.coastlines()\n",
    "ax2.coastlines()\n",
    "ax3.coastlines();"
   ]
  },
  {
   "cell_type": "code",
   "execution_count": null,
   "metadata": {},
   "outputs": [],
   "source": [
    "# Compute and plot longwave radiation\n",
    "airsea.update_longwave_radiation(airsea.t2m)\n",
    "\n",
    "fig, ax = matplotlib.pyplot.subplots(subplot_kw={'projection': map_proj})\n",
    "airsea.ql.plot(ax=ax)\n",
    "ax.coastlines();"
   ]
  },
  {
   "cell_type": "code",
   "execution_count": null,
   "metadata": {},
   "outputs": [],
   "source": [
    "fig, (ax1, ax2) = matplotlib.pyplot.subplots(subplot_kw={'projection': map_proj}, ncols=2, figsize=(12, 3.5))\n",
    "airsea.update_shortwave_radiation(dt)\n",
    "airsea.albedo.plot(ax=ax1)\n",
    "airsea.albedo_method = 2\n",
    "airsea.update_shortwave_radiation(dt)\n",
    "airsea.albedo.plot(ax=ax2)\n",
    "ax1.coastlines()\n",
    "ax2.coastlines();"
   ]
  },
  {
   "cell_type": "code",
   "execution_count": null,
   "metadata": {},
   "outputs": [],
   "source": [
    "# Compute and plot heat and momentum fluxes\n",
    "sss = domain.T.array(fill=35.)\n",
    "airsea(dt, airsea.t2m, sss, calculate_heat_flux=True)\n",
    "\n",
    "fig, ((ax1, ax2), (ax3, ax4)) = matplotlib.pyplot.subplots(subplot_kw={'projection': map_proj}, nrows=2, ncols=2, figsize=(12, 6))\n",
    "airsea.taux.plot(ax=ax1)\n",
    "airsea.tauy.plot(ax=ax2)\n",
    "airsea.qe.plot(ax=ax3)\n",
    "airsea.qh.plot(ax=ax4)\n",
    "for ax in (ax1, ax2, ax3, ax4):\n",
    "    ax.coastlines()"
   ]
  },
  {
   "cell_type": "code",
   "execution_count": null,
   "metadata": {},
   "outputs": [],
   "source": [
    "# Set up plot of cloud cover and shortwave radiation at start time - we'll animate it later\n",
    "fig, (ax1, ax2) = matplotlib.pyplot.subplots(subplot_kw={'projection': map_proj}, ncols=2, figsize=(12, 3))\n",
    "pc_cloud = airsea.tcc.plot(ax=ax1, vmin=0, vmax=1)\n",
    "pc_swr = airsea.swr.plot(ax=ax2, vmin=0, vmax=750)\n",
    "ax1.coastlines()\n",
    "ax2.coastlines()\n",
    "title = fig.suptitle(start)"
   ]
  },
  {
   "cell_type": "code",
   "execution_count": null,
   "metadata": {},
   "outputs": [],
   "source": [
    "# Animate cloud cover and shortwave radiation\n",
    "for i in range(24 * 4 * 10):\n",
    "    dt = start + datetime.timedelta(seconds=(i + 1) * 900)\n",
    "    domain.input_manager.update(dt)\n",
    "    airsea.shortwave_radiation(dt)\n",
    "    pc_cloud.set_array(airsea.tcc.values.ravel())\n",
    "    pc_swr.set_array(airsea.swr.values.ravel())\n",
    "    title.set_text(dt)\n",
    "    fig.canvas.draw()"
   ]
  },
  {
   "cell_type": "code",
   "execution_count": null,
   "metadata": {},
   "outputs": [],
   "source": []
  }
 ],
 "metadata": {
  "interpreter": {
   "hash": "97ae724bfa85b9b34df7982b8bb8c7216f435b92902d749e4263f71162bea840"
  },
  "kernelspec": {
   "display_name": "Python 3.8.8 64-bit ('base': conda)",
   "name": "python3"
  },
  "language_info": {
   "codemirror_mode": {
    "name": "ipython",
    "version": 3
   },
   "file_extension": ".py",
   "mimetype": "text/x-python",
   "name": "python",
   "nbconvert_exporter": "python",
   "pygments_lexer": "ipython3",
   "version": "3.9.7"
  },
  "orig_nbformat": 4
 },
 "nbformat": 4,
 "nbformat_minor": 2
}
