{
 "cells": [
  {
   "cell_type": "code",
   "execution_count": null,
   "metadata": {},
   "outputs": [],
   "source": [
    "import os.path\n",
    "import datetime\n",
    "import pygetm.legacy\n",
    "import pygetm.input\n",
    "import pygetm.airsea\n",
    "import cartopy.crs as ccrs\n",
    "\n",
    "# Note: \"%matplotlib widget\" below enables interactive plots but requires https://github.com/matplotlib/ipympl\n",
    "# Alternatively you could use \"%matplotlib notebook\" (deprecated).\n",
    "%matplotlib widget\n",
    "import matplotlib.pyplot\n",
    "\n",
    "getm_cases = next(filter(os.path.isdir, ('/data/kb/getm-setups', '../../../getm-setups')))\n",
    "igotm_data = next(filter(os.path.isdir, ('/server/data', '../../../igotm/data')))\n",
    "\n",
    "northsea_path = os.path.join(getm_cases, 'NorthSea/Topo/NS6nm.v01.nc')  # path to legacy GETM North Sea test case\n",
    "era_path = os.path.join(igotm_data, 'ERA-interim/20??.nc')              # path to ERA NetCDF file with t2m variable\n",
    "\n",
    "map_proj = ccrs.PlateCarree()                                           # map projection to use for plotting\n",
    "\n",
    "# Default time for plots\n",
    "start = dt = datetime.datetime(2016,4,1,12)"
   ]
  },
  {
   "cell_type": "code",
   "execution_count": null,
   "metadata": {},
   "outputs": [],
   "source": [
    "# Load GETM domain so we have a lon/lat grid to compute on/interpolate to.\n",
    "domain = pygetm.legacy.domain_from_topo(northsea_path, nlev=1)\n",
    "domain.initialize(1)\n",
    "\n",
    "#tcc = domain.T.array(long_name='cloud cover', units='1', fill=0.2)\n",
    "\n",
    "# Load meteorology from ERA\n",
    "tcc = domain.T.map(pygetm.input.get_from_nc(era_path, 'tcc', preprocess=lambda ds: ds.isel(time=slice(4, -4))))\n",
    "t2m = domain.T.map(pygetm.input.get_from_nc(era_path, 't2m', preprocess=lambda ds: ds.isel(time=slice(4, -4))))\n",
    "d2m = domain.T.map(pygetm.input.get_from_nc(era_path, 'd2m', preprocess=lambda ds: ds.isel(time=slice(4, -4))))\n",
    "sp = domain.T.map(pygetm.input.get_from_nc(era_path, 'sp', preprocess=lambda ds: ds.isel(time=slice(4, -4))))\n",
    "u10 = domain.T.map(pygetm.input.get_from_nc(era_path, 'u10', preprocess=lambda ds: ds.isel(time=slice(4, -4))))\n",
    "v10 = domain.T.map(pygetm.input.get_from_nc(era_path, 'v10', preprocess=lambda ds: ds.isel(time=slice(4, -4))))"
   ]
  },
  {
   "cell_type": "code",
   "execution_count": null,
   "metadata": {},
   "outputs": [],
   "source": [
    "# Compute and plot humidity\n",
    "t2m.update(dt)\n",
    "d2m.update(dt)\n",
    "sp.update(dt)\n",
    "\n",
    "es, ea, qs, qa, rhoa = pygetm.airsea.humidity(domain.T, 3, d2m - 273.15, sp, t2m - 273.15, t2m - 273.15)\n",
    "\n",
    "fig, (ax1, ax2, ax3) = matplotlib.pyplot.subplots(subplot_kw={'projection': map_proj}, ncols=3, figsize=(16, 2.5))\n",
    "(100*ea/es).plot(ax=ax1)\n",
    "qa.plot(ax=ax2)\n",
    "rhoa.plot(ax=ax3)\n",
    "ax1.coastlines()\n",
    "ax2.coastlines()\n",
    "ax3.coastlines()\n"
   ]
  },
  {
   "cell_type": "code",
   "execution_count": null,
   "metadata": {},
   "outputs": [],
   "source": [
    "# Compute and plot longwave radiation\n",
    "tcc.update(dt)\n",
    "\n",
    "ql = pygetm.airsea.longwave_radiation(domain.T, 1, t2m, t2m, tcc, ea, qa)\n",
    "\n",
    "fig, ax = matplotlib.pyplot.subplots(subplot_kw={'projection': map_proj})\n",
    "ql.plot(ax=ax)\n",
    "ax.coastlines()"
   ]
  },
  {
   "cell_type": "code",
   "execution_count": null,
   "metadata": {},
   "outputs": [],
   "source": [
    "# Compute and plot albedo\n",
    "angle = pygetm.airsea.solar_zenith_angle(dt, domain.T)\n",
    "\n",
    "fig, (ax1, ax2) = matplotlib.pyplot.subplots(subplot_kw={'projection': map_proj}, ncols=2, figsize=(12, 3.5))\n",
    "pygetm.airsea.albedo_water(dt, domain.T, 1, angle).plot(ax=ax1)\n",
    "pygetm.airsea.albedo_water(dt, domain.T, 2, angle).plot(ax=ax2)\n",
    "ax1.coastlines()\n",
    "ax2.coastlines()"
   ]
  },
  {
   "cell_type": "code",
   "execution_count": null,
   "metadata": {},
   "outputs": [],
   "source": [
    "# Compute and plot heat and momentum fluxes\n",
    "u10.update(dt)\n",
    "v10.update(dt)\n",
    "taux, tauy, qe, qh = pygetm.airsea.airsea_fluxes(domain.T, 1, t2m, t2m, u10, v10, rhoa, qs, qa)\n",
    "\n",
    "fig, ((ax1, ax2), (ax3, ax4)) = matplotlib.pyplot.subplots(subplot_kw={'projection': map_proj}, nrows=2, ncols=2, figsize=(12, 6))\n",
    "taux.plot(ax=ax1)\n",
    "tauy.plot(ax=ax2)\n",
    "qe.plot(ax=ax3)\n",
    "qh.plot(ax=ax4)\n",
    "for ax in (ax1, ax2, ax3, ax4):\n",
    "    ax.coastlines()"
   ]
  },
  {
   "cell_type": "code",
   "execution_count": null,
   "metadata": {},
   "outputs": [],
   "source": [
    "# Update cloud cover to start time and compute shortwave radiation.\n",
    "tcc.update(start)\n",
    "angle = pygetm.airsea.solar_zenith_angle(start, domain.T)\n",
    "swr = pygetm.airsea.shortwave_radiation(start, domain.T, angle, tcc)\n",
    "\n",
    "# Set up plot of cloud cover and shortwave radiation at start time - we'll animate it later\n",
    "fig, (ax1, ax2) = matplotlib.pyplot.subplots(subplot_kw={'projection': map_proj}, ncols=2, figsize=(12, 3))\n",
    "pc_cloud = tcc.plot(ax=ax1, vmin=0, vmax=1)\n",
    "pc_swr = swr.plot(ax=ax2, vmin=0, vmax=750)\n",
    "ax1.coastlines()\n",
    "ax2.coastlines()\n",
    "title = fig.suptitle(start)"
   ]
  },
  {
   "cell_type": "code",
   "execution_count": null,
   "metadata": {},
   "outputs": [],
   "source": [
    "# Animate cloud cover and shortwave radiation\n",
    "for i in range(24 * 4 * 10):\n",
    "    dt = start + datetime.timedelta(seconds=(i + 1) * 900)\n",
    "    tcc.update(dt)\n",
    "    pygetm.airsea.solar_zenith_angle(dt, domain.T, out=angle)\n",
    "    pygetm.airsea.shortwave_radiation(dt, domain.T, angle, tcc, out=swr)\n",
    "    pc_cloud.set_array(tcc.values.ravel())\n",
    "    pc_swr.set_array(swr.values.ravel())\n",
    "    title.set_text(dt)\n",
    "    fig.canvas.draw()"
   ]
  },
  {
   "cell_type": "code",
   "execution_count": null,
   "metadata": {},
   "outputs": [],
   "source": []
  }
 ],
 "metadata": {
  "interpreter": {
   "hash": "97ae724bfa85b9b34df7982b8bb8c7216f435b92902d749e4263f71162bea840"
  },
  "kernelspec": {
   "display_name": "Python 3.8.8 64-bit ('base': conda)",
   "name": "python3"
  },
  "language_info": {
   "codemirror_mode": {
    "name": "ipython",
    "version": 3
   },
   "file_extension": ".py",
   "mimetype": "text/x-python",
   "name": "python",
   "nbconvert_exporter": "python",
   "pygments_lexer": "ipython3",
   "version": "3.8.8"
  },
  "orig_nbformat": 4
 },
 "nbformat": 4,
 "nbformat_minor": 2
}
