{
 "cells": [
  {
   "cell_type": "markdown",
   "metadata": {},
   "source": [
    "This notebook requires:\n",
    "* the North Sea test case from the [getm-setups repository](https://github.com/getm-model/setups)\n",
    "* the [TPXO9 atlas](https://www.tpxo.net/global/tpxo9-atlas) to calculate tides at the open boundaries"
   ]
  },
  {
   "cell_type": "code",
   "execution_count": null,
   "metadata": {},
   "outputs": [],
   "source": [
    "# Possible search directories\n",
    "getm_setups_dirs = ('../../../getm-setups',)\n",
    "igotm_data_dirs = ('/server/data', '../../../igotm/data')\n",
    "\n",
    "# Determine effective directory by picking the first seach directory that exists\n",
    "getm_setups_dir = next(filter(os.path.isdir, getm_setups_dirs))\n",
    "igotm_data_dir = next(filter(os.path.isdir, igotm_data_dirs))\n",
    "\n",
    "# Specific paths to forcing\n",
    "tpxo_dir = os.path.join(igotm_data_dir, 'TPXO9')\n",
    "era_path = os.path.join(igotm_data_dir, 'ERA-interim/2016.nc')"
   ]
  },
  {
   "cell_type": "code",
   "execution_count": null,
   "metadata": {},
   "outputs": [],
   "source": [
    "import datetime\n",
    "import os.path\n",
    "\n",
    "import pygetm\n",
    "import pygetm.legacy\n",
    "import pygetm.input.tpxo\n",
    "\n",
    "# Note: \"%matplotlib widget\" below enables interactive plots but requires https://github.com/matplotlib/ipympl\n",
    "# Alternatively you could use \"%matplotlib notebook\" (deprecated).\n",
    "%matplotlib widget\n",
    "import matplotlib.pyplot"
   ]
  },
  {
   "cell_type": "code",
   "execution_count": null,
   "metadata": {},
   "outputs": [],
   "source": [
    "# Load bathymetry and create simulation\n",
    "domain = pygetm.legacy.domain_from_topo(os.path.join(getm_setups_dir, 'NorthSea/Topo/NS6nm.v01.nc'), nlev=30, z0_const=0.001)\n",
    "pygetm.legacy.load_bdyinfo(domain, os.path.join(getm_setups_dir, 'NorthSea/bdyinfo.dat'))\n",
    "sim = pygetm.Simulation(domain, runtype=1, apply_bottom_friction=True, advection_scheme=1, log_level='ERROR')\n",
    "print('Maximum dt = %.3f s' % domain.maxdt)\n",
    "\n",
    "# Plot bathymetry\n",
    "fig, ax = matplotlib.pyplot.subplots()\n",
    "ax.pcolormesh(domain.T.loni, domain.T.lati, domain.T.H.ma);"
   ]
  },
  {
   "cell_type": "code",
   "execution_count": null,
   "metadata": {},
   "outputs": [],
   "source": [
    "fig, ax = matplotlib.pyplot.subplots(figsize=(12,12))\n",
    "pc = ax.pcolormesh(domain.lon, domain.lat, domain.mask, shading='auto');\n",
    "fig.colorbar(pc);\n",
    "ax.plot(domain.T.lon.all_values[domain.bdy_j, domain.bdy_i], domain.T.lat.all_values[domain.bdy_j, domain.bdy_i], 'ow', mec='k', ms=2);\n",
    "ax.set_title('mask on supergrid');"
   ]
  },
  {
   "cell_type": "code",
   "execution_count": null,
   "metadata": {
    "tags": []
   },
   "outputs": [],
   "source": [
    "# Tidal boundary forcing from TPXO\n",
    "bdy_lon = domain.T.lon.all_values[domain.bdy_j, domain.bdy_i]\n",
    "bdy_lat = domain.T.lat.all_values[domain.bdy_j, domain.bdy_i]\n",
    "sim.zbdy.set(pygetm.input.tpxo.get(bdy_lon, bdy_lat, root=tpxo_dir), on_grid=True)\n",
    "sim.bdyu.set(pygetm.input.tpxo.get(bdy_lon, bdy_lat, variable='u', root=tpxo_dir), on_grid=True)\n",
    "sim.bdyv.set(pygetm.input.tpxo.get(bdy_lon, bdy_lat, variable='v', root=tpxo_dir), on_grid=True)\n",
    "\n",
    "# Meteorology from ERA\n",
    "era_kwargs = {'preprocess': lambda ds: ds.isel(time=slice(4, -4))}\n",
    "sim.airsea.tcc.set(pygetm.input.from_nc(era_path, 'tcc', **era_kwargs))\n",
    "sim.airsea.t2m.set(pygetm.input.from_nc(era_path, 't2m', **era_kwargs) - 273.15)\n",
    "sim.airsea.d2m.set(pygetm.input.from_nc(era_path, 'd2m', **era_kwargs) - 273.15)\n",
    "sim.airsea.sp.set(pygetm.input.from_nc(era_path, 'sp', **era_kwargs))\n",
    "sim.airsea.u10.set(pygetm.input.from_nc(era_path, 'u10', **era_kwargs))\n",
    "sim.airsea.v10.set(pygetm.input.from_nc(era_path, 'v10', **era_kwargs))"
   ]
  },
  {
   "cell_type": "code",
   "execution_count": null,
   "metadata": {},
   "outputs": [],
   "source": [
    "# Set up initial plot of elevation (to be animated later)\n",
    "start_date = datetime.datetime(2016, 1, 1)\n",
    "sim.start(start_date, timestep=60, split_factor=30)\n",
    "fig, ax = matplotlib.pyplot.subplots()\n",
    "pc = ax.pcolormesh(domain.T.loni, domain.T.lati, domain.T.z.ma, vmin=-2.5, vmax=2.5)\n",
    "sc = ax.scatter(bdy_lon, bdy_lat, c=sim.zbdy.all_values, edgecolors='k', vmin=-2.5, vmax=2.5, s=2, linewidth=.2)\n",
    "cb = fig.colorbar(sc)\n",
    "cb.set_label('elevation (m)')\n",
    "title = ax.set_title(start_date.strftime('%Y-%m-%d %H:%M'))"
   ]
  },
  {
   "cell_type": "code",
   "execution_count": null,
   "metadata": {},
   "outputs": [],
   "source": [
    "stop_date = start_date + datetime.timedelta(days=30)\n",
    "\n",
    "itime = 0\n",
    "while sim.time < stop_date:\n",
    "    sim.advance()\n",
    "    itime += 1\n",
    "    if itime % 15 == 0:\n",
    "        # Update plot\n",
    "        title.set_text(sim.time.strftime('%Y-%m-%d %H:%M'))\n",
    "        sc.set_array(sim.zbdy.all_values)\n",
    "        pc.set_array(domain.T.z.ma.ravel())\n",
    "\n",
    "        fig.canvas.draw()\n",
    "\n",
    "sim.finish()"
   ]
  },
  {
   "cell_type": "code",
   "execution_count": null,
   "metadata": {},
   "outputs": [],
   "source": []
  }
 ],
 "metadata": {
  "interpreter": {
   "hash": "97ae724bfa85b9b34df7982b8bb8c7216f435b92902d749e4263f71162bea840"
  },
  "kernelspec": {
   "display_name": "Python 3.8.8 64-bit ('base': conda)",
   "name": "python3"
  },
  "language_info": {
   "codemirror_mode": {
    "name": "ipython",
    "version": 3
   },
   "file_extension": ".py",
   "mimetype": "text/x-python",
   "name": "python",
   "nbconvert_exporter": "python",
   "pygments_lexer": "ipython3",
   "version": "3.8.8"
  }
 },
 "nbformat": 4,
 "nbformat_minor": 4
}
