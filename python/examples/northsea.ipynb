{
 "cells": [
  {
   "cell_type": "markdown",
   "source": [
    "This notebook requires:\n",
    "* the North Sea test case from the [getm-setups repository](https://github.com/getm-model/setups)\n",
    "* the [TPXO9 atlas](https://www.tpxo.net/global/tpxo9-atlas) to calculate tides at the open boundaries"
   ],
   "metadata": {}
  },
  {
   "cell_type": "code",
   "execution_count": null,
   "source": [
    "getm_setups_dir = '../../../getm-setups'"
   ],
   "outputs": [],
   "metadata": {}
  },
  {
   "cell_type": "code",
   "execution_count": null,
   "source": [
    "import datetime\r\n",
    "import os.path\r\n",
    "\r\n",
    "import numpy\r\n",
    "\r\n",
    "import pygetm\r\n",
    "import pygetm.domain\r\n",
    "import pygetm.input\r\n",
    "import pygetm.legacy\r\n",
    "import pygetm.input.tpxo\r\n",
    "\r\n",
    "# Note: \"%matplotlib widget\" below enables interactive plots but requires https://github.com/matplotlib/ipympl\r\n",
    "# Alternatively you could use \"%matplotlib notebook\" (deprecated).\r\n",
    "%matplotlib widget\r\n",
    "import matplotlib.pyplot"
   ],
   "outputs": [],
   "metadata": {}
  },
  {
   "cell_type": "code",
   "execution_count": null,
   "source": [
    "domain = pygetm.legacy.domain_from_topo(os.path.join(getm_setups_dir, 'NorthSea/Topo/NS6nm.v01.nc'), nlev=1, z0_const=0.001)\r\n",
    "pygetm.legacy.load_bdyinfo(domain, os.path.join(getm_setups_dir, 'NorthSea/bdyinfo.dat'))\r\n",
    "sim = pygetm.Simulation(domain, runtype=1, advection_scheme=1)\r\n",
    "\r\n",
    "fig, ax = matplotlib.pyplot.subplots()\r\n",
    "ax.pcolormesh(domain.T.loni, domain.T.lati, numpy.ma.array(domain.T.H, mask=domain.T.mask==0));\r\n",
    "shallow = (domain.T.H.ma < 5).filled(False)\r\n",
    "ax.plot(domain.T.lon[shallow], domain.T.lat[shallow], 'xr')"
   ],
   "outputs": [],
   "metadata": {}
  },
  {
   "cell_type": "code",
   "execution_count": null,
   "source": [
    "fig, ax = matplotlib.pyplot.subplots(figsize=(12,12))\r\n",
    "pc = ax.pcolormesh(domain.lon, domain.lat, domain.mask, shading='auto');\r\n",
    "fig.colorbar(pc);\r\n",
    "ax.plot(domain.T.lon[domain.bdy_j, domain.bdy_i], domain.T.lat[domain.bdy_j, domain.bdy_i], 'ow', mec='k', ms=2);\r\n",
    "ax.set_title('mask on supergrid')"
   ],
   "outputs": [],
   "metadata": {}
  },
  {
   "cell_type": "code",
   "execution_count": null,
   "source": [
    "bdy_lon = domain.T.lon[domain.bdy_j, domain.bdy_i]\r\n",
    "bdy_lat = domain.T.lat[domain.bdy_j, domain.bdy_i]\r\n",
    "tpxo = pygetm.input.tpxo.Dataset(bdy_lon, bdy_lat, verbose=True, root='../../../igotm/data/TPXO9')"
   ],
   "outputs": [],
   "metadata": {
    "tags": []
   }
  },
  {
   "cell_type": "code",
   "execution_count": null,
   "source": [
    "ref_date = datetime.datetime(2000, 1, 1)\r\n",
    "fig, ax = matplotlib.pyplot.subplots()\r\n",
    "z_masked = numpy.ma.array(domain.T.z, mask=domain.T.mask <= 0)\r\n",
    "pc = ax.pcolormesh(domain.T.loni, domain.T.lati, z_masked, vmin=-2.5, vmax=2.5)\r\n",
    "h = 0.001 * tpxo.update(ref_date)\r\n",
    "sc = ax.scatter(bdy_lon, bdy_lat, c=h, edgecolors='k', vmin=-2.5, vmax=2.5, s=2, linewidth=.2)\r\n",
    "cb = fig.colorbar(sc)\r\n",
    "cb.set_label('elevation (m)')\r\n",
    "title = ax.set_title(ref_date.strftime('%Y-%m-%d %H:%M'))"
   ],
   "outputs": [],
   "metadata": {}
  },
  {
   "cell_type": "code",
   "execution_count": null,
   "source": [
    "# No surface forcing\r\n",
    "tausx = domain.U.array(fill=0.0)\r\n",
    "tausy = domain.V.array(fill=0.0)\r\n",
    "sp = domain.T.array(fill=0.0)\r\n",
    "\r\n",
    "timestep = 60.\r\n",
    "timedelta = datetime.timedelta(seconds=timestep)\r\n",
    "date = ref_date\r\n",
    "for itime in range(60 *24 * 30):\r\n",
    "    date += timedelta\r\n",
    "\r\n",
    "    sim.zbdy[:] = 0.001 * tpxo.update(date)\r\n",
    "    sim.update_sealevel_boundaries(timestep)\r\n",
    "\r\n",
    "    sim.update_surface_pressure_gradient(domain.T.z, sp)\r\n",
    "    sim.uv_momentum_2d(timestep, tausx, tausy, sim.dpdx, sim.dpdy)\r\n",
    "    sim.U.update_halos()\r\n",
    "    sim.V.update_halos()\r\n",
    "    sim.update_sealevel(timestep, sim.U, sim.V)\r\n",
    "    sim.update_depth()\r\n",
    "\r\n",
    "    if itime % 15 == 0:\r\n",
    "        title.set_text(date.strftime('%Y-%m-%d %H:%M'))\r\n",
    "        sc.set_array(sim.zbdy)\r\n",
    "        pc.set_array(z_masked.ravel())\r\n",
    "\r\n",
    "        fig.canvas.draw()"
   ],
   "outputs": [],
   "metadata": {}
  },
  {
   "cell_type": "code",
   "execution_count": null,
   "source": [],
   "outputs": [],
   "metadata": {}
  }
 ],
 "metadata": {
  "kernelspec": {
   "name": "python3",
   "display_name": "Python 3.8.8 64-bit ('base': conda)"
  },
  "language_info": {
   "codemirror_mode": {
    "name": "ipython",
    "version": 3
   },
   "file_extension": ".py",
   "mimetype": "text/x-python",
   "name": "python",
   "nbconvert_exporter": "python",
   "pygments_lexer": "ipython3",
   "version": "3.8.8"
  },
  "interpreter": {
   "hash": "97ae724bfa85b9b34df7982b8bb8c7216f435b92902d749e4263f71162bea840"
  }
 },
 "nbformat": 4,
 "nbformat_minor": 4
}