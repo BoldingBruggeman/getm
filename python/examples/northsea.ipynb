{
 "cells": [
  {
   "cell_type": "markdown",
   "metadata": {},
   "source": [
    "This notebook requires:\n",
    "* the North Sea test case from the [getm-setups repository](https://github.com/getm-model/setups)\n",
    "* the [TPXO9 atlas](https://www.tpxo.net/global/tpxo9-atlas) to calculate tides at the open boundaries"
   ]
  },
  {
   "cell_type": "code",
   "execution_count": null,
   "metadata": {},
   "outputs": [],
   "source": [
    "getm_setups_dir = '../../../getm-setups'\n",
    "igotm_data_dirs = ('/server/data', '../../../igotm/data')"
   ]
  },
  {
   "cell_type": "code",
   "execution_count": null,
   "metadata": {},
   "outputs": [],
   "source": [
    "import datetime\n",
    "import os.path\n",
    "\n",
    "import pygetm\n",
    "import pygetm.domain\n",
    "import pygetm.input\n",
    "import pygetm.legacy\n",
    "import pygetm.input.tpxo\n",
    "import pygetm.airsea\n",
    "\n",
    "# Note: \"%matplotlib widget\" below enables interactive plots but requires https://github.com/matplotlib/ipympl\n",
    "# Alternatively you could use \"%matplotlib notebook\" (deprecated).\n",
    "%matplotlib widget\n",
    "import matplotlib.pyplot"
   ]
  },
  {
   "cell_type": "code",
   "execution_count": null,
   "metadata": {},
   "outputs": [],
   "source": [
    "domain = pygetm.legacy.domain_from_topo(os.path.join(getm_setups_dir, 'NorthSea/Topo/NS6nm.v01.nc'), nlev=1, z0_const=0.001)\n",
    "pygetm.legacy.load_bdyinfo(domain, os.path.join(getm_setups_dir, 'NorthSea/bdyinfo.dat'))\n",
    "sim = pygetm.Simulation(domain, runtype=1, apply_bottom_friction=True, advection_scheme=1)\n",
    "print('Maximum dt = %s' % domain.maxdt)\n",
    "\n",
    "fig, ax = matplotlib.pyplot.subplots()\n",
    "ax.pcolormesh(domain.T.loni, domain.T.lati, domain.T.H.ma);"
   ]
  },
  {
   "cell_type": "code",
   "execution_count": null,
   "metadata": {},
   "outputs": [],
   "source": [
    "fig, ax = matplotlib.pyplot.subplots(figsize=(12,12))\n",
    "pc = ax.pcolormesh(domain.lon, domain.lat, domain.mask, shading='auto');\n",
    "fig.colorbar(pc);\n",
    "ax.plot(domain.T.lon[domain.bdy_j, domain.bdy_i], domain.T.lat[domain.bdy_j, domain.bdy_i], 'ow', mec='k', ms=2);\n",
    "ax.set_title('mask on supergrid');"
   ]
  },
  {
   "cell_type": "code",
   "execution_count": null,
   "metadata": {
    "tags": []
   },
   "outputs": [],
   "source": [
    "igotm_data_dir = next(filter(os.path.isdir, igotm_data_dirs))\n",
    "\n",
    "# Tidal boundary forcing from TPXO\n",
    "tpxo_dir = os.path.join(igotm_data_dir, 'TPXO9')\n",
    "bdy_lon = domain.T.lon[domain.bdy_j, domain.bdy_i]\n",
    "bdy_lat = domain.T.lat[domain.bdy_j, domain.bdy_i]\n",
    "tidal_h = pygetm.input.tpxo.get(bdy_lon, bdy_lat, root=tpxo_dir)\n",
    "tidal_u = pygetm.input.tpxo.get(bdy_lon, bdy_lat, variable='u', root=tpxo_dir)\n",
    "tidal_v = pygetm.input.tpxo.get(bdy_lon, bdy_lat, variable='v', root=tpxo_dir)\n",
    "\n",
    "# Meteorology from ERA\n",
    "era_path = os.path.join(igotm_data_dir, 'ERA-interim/2016.nc')\n",
    "tcc = domain.T.map(pygetm.input.get_from_nc(era_path, 'tcc', preprocess=lambda ds: ds.isel(time=slice(4, -4))))\n",
    "t2m = domain.T.map(pygetm.input.get_from_nc(era_path, 't2m', preprocess=lambda ds: ds.isel(time=slice(4, -4))))\n",
    "d2m = domain.T.map(pygetm.input.get_from_nc(era_path, 'd2m', preprocess=lambda ds: ds.isel(time=slice(4, -4))))\n",
    "sp = domain.T.map(pygetm.input.get_from_nc(era_path, 'sp', preprocess=lambda ds: ds.isel(time=slice(4, -4))))\n",
    "u10 = domain.T.map(pygetm.input.get_from_nc(era_path, 'u10', preprocess=lambda ds: ds.isel(time=slice(4, -4))))\n",
    "v10 = domain.T.map(pygetm.input.get_from_nc(era_path, 'v10', preprocess=lambda ds: ds.isel(time=slice(4, -4))))"
   ]
  },
  {
   "cell_type": "code",
   "execution_count": null,
   "metadata": {},
   "outputs": [],
   "source": [
    "# Set up initial plot of elevation (to be animated later)\n",
    "ref_date = datetime.datetime(2016, 1, 1)\n",
    "fig, ax = matplotlib.pyplot.subplots()\n",
    "pc = ax.pcolormesh(domain.T.loni, domain.T.lati, domain.T.z.ma, vmin=-2.5, vmax=2.5)\n",
    "tidal_h.getm.update(ref_date)\n",
    "sc = ax.scatter(bdy_lon, bdy_lat, c=tidal_h, edgecolors='k', vmin=-2.5, vmax=2.5, s=2, linewidth=.2)\n",
    "cb = fig.colorbar(sc)\n",
    "cb.set_label('elevation (m)')\n",
    "title = ax.set_title(ref_date.strftime('%Y-%m-%d %H:%M'))"
   ]
  },
  {
   "cell_type": "code",
   "execution_count": null,
   "metadata": {},
   "outputs": [],
   "source": [
    "inputs = t2m, d2m, sp, u10, v10, tidal_h.getm, tidal_u.getm, tidal_v.getm\n",
    "\n",
    "timestep = 60.\n",
    "timedelta = datetime.timedelta(seconds=timestep)\n",
    "date = ref_date\n",
    "for itime in range(60 *24 * 30):\n",
    "    for variable in inputs:\n",
    "        variable.update(date)\n",
    "\n",
    "    # Update tidal elevations and velocities at the boundary\n",
    "    sim.zbdy[:] = tidal_h\n",
    "    sim.bdyu[:] = tidal_u\n",
    "    sim.bdyv[:] = tidal_v\n",
    "\n",
    "    es, ea, qs, qa, rhoa = pygetm.airsea.humidity(domain.T, 3, d2m - 273.15, sp, t2m - 273.15, t2m - 273.15)\n",
    "    tausx, tausy, qe, qh = pygetm.airsea.airsea_fluxes(domain.T, 1, t2m, t2m, u10, v10, rhoa, qs, qa)\n",
    "    sim.update_sealevel_boundaries(timestep)\n",
    "\n",
    "    sim.update_surface_pressure_gradient(domain.T.z, sp)\n",
    "    sim.uv_momentum_2d(timestep, tausx, tausy, sim.dpdx, sim.dpdy)\n",
    "    sim.U.update_halos()\n",
    "    sim.V.update_halos()\n",
    "    sim.update_sealevel(timestep, sim.U, sim.V)\n",
    "    sim.update_depth()\n",
    "\n",
    "    date += timedelta\n",
    "\n",
    "    if itime % 15 == 0:\n",
    "        # Update plot\n",
    "        title.set_text(date.strftime('%Y-%m-%d %H:%M'))\n",
    "        sc.set_array(sim.zbdy)\n",
    "        pc.set_array(domain.T.z.ma.ravel())\n",
    "\n",
    "        fig.canvas.draw()"
   ]
  },
  {
   "cell_type": "code",
   "execution_count": null,
   "metadata": {},
   "outputs": [],
   "source": []
  }
 ],
 "metadata": {
  "interpreter": {
   "hash": "97ae724bfa85b9b34df7982b8bb8c7216f435b92902d749e4263f71162bea840"
  },
  "kernelspec": {
   "display_name": "Python 3.8.8 64-bit ('base': conda)",
   "name": "python3"
  },
  "language_info": {
   "codemirror_mode": {
    "name": "ipython",
    "version": 3
   },
   "file_extension": ".py",
   "mimetype": "text/x-python",
   "name": "python",
   "nbconvert_exporter": "python",
   "pygments_lexer": "ipython3",
   "version": "3.8.8"
  }
 },
 "nbformat": 4,
 "nbformat_minor": 4
}
