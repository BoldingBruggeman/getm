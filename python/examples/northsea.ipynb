{
 "cells": [
  {
   "source": [
    "This notebook requires:\n",
    "* the North Sea test case from the [getm-setups repository](https://github.com/getm-model/setups)\n",
    "* the [TPXO9 atlas](https://www.tpxo.net/global/tpxo9-atlas) to calculate tides at the open boundaries"
   ],
   "cell_type": "markdown",
   "metadata": {}
  },
  {
   "cell_type": "code",
   "execution_count": null,
   "metadata": {},
   "outputs": [],
   "source": [
    "getm_setups_dir = '../../../getm-setups'\n",
    "tpxo_root = '../../../igotm/data/TPXO9'"
   ]
  },
  {
   "cell_type": "code",
   "execution_count": null,
   "metadata": {},
   "outputs": [],
   "source": [
    "import datetime\n",
    "import os.path\n",
    "\n",
    "import numpy\n",
    "import xarray\n",
    "import otps2\n",
    "\n",
    "import pygetm\n",
    "import pygetm.domain\n",
    "import pygetm.input\n",
    "import pygetm.legacy\n",
    "\n",
    "# Note: \"%matplotlib widget\" below enables interactive plots but requires https://github.com/matplotlib/ipympl\n",
    "# Alternatively you could use \"%matplotlib notebook\" (deprecated).\n",
    "%matplotlib widget\n",
    "import matplotlib.pyplot"
   ]
  },
  {
   "cell_type": "code",
   "execution_count": null,
   "metadata": {},
   "outputs": [],
   "source": [
    "domain = pygetm.legacy.domain_from_topo(os.path.join(getm_setups_dir, 'NorthSea/Topo/NS6nm.v01.nc'), nlev=1)\n",
    "pygetm.legacy.load_bdyinfo(domain, os.path.join(getm_setups_dir, 'NorthSea/bdyinfo.dat'))\n",
    "sim = pygetm.Simulation(domain, runtype=1, advection_scheme=1)\n",
    "\n",
    "fig, ax = matplotlib.pyplot.subplots()\n",
    "ax.pcolormesh(domain.T.loni, domain.T.lati, numpy.ma.array(domain.T.H, mask=domain.T.mask==0));"
   ]
  },
  {
   "cell_type": "code",
   "execution_count": null,
   "metadata": {},
   "outputs": [],
   "source": [
    "ax.plot(domain.T.lon[domain.bdy_j, domain.bdy_i], domain.T.lat[domain.bdy_j, domain.bdy_i], 'ow', mec='k', ms=3);"
   ]
  },
  {
   "cell_type": "code",
   "execution_count": null,
   "metadata": {},
   "outputs": [],
   "source": [
    "fig, ax = matplotlib.pyplot.subplots()\n",
    "\n",
    "ax.pcolormesh(domain.T.loni, domain.T.lati, domain.T.mask);"
   ]
  },
  {
   "cell_type": "code",
   "execution_count": null,
   "metadata": {
    "tags": []
   },
   "outputs": [],
   "source": [
    "bdy_lon = domain.T.lon[domain.bdy_j, domain.bdy_i]\n",
    "bdy_lat = domain.T.lat[domain.bdy_j, domain.bdy_i]\n",
    "\n",
    "components = {}\n",
    "for component in ('m2', 's2', 'n2', 'k2', 'k1', 'o1', 'p1', 'q1', 'm4', 'ms4', 'mn4', '2n2'):\n",
    "    print('Computing %s on boundary...' % component)\n",
    "    name = 'h_%s_tpxo9_atlas_30.nc' % component\n",
    "    path = os.path.join(tpxo_root, name)\n",
    "    with xarray.open_dataset(path) as ds:\n",
    "        ds = ds.set_coords(('lat_z', 'lon_z'))\n",
    "        re = ds['hRe']\n",
    "        im = ds['hIm']\n",
    "        components[component] = re.getm.interp(bdy_lon % 360., bdy_lat).values, im.getm.interp(bdy_lon % 360., bdy_lat).values"
   ]
  },
  {
   "cell_type": "code",
   "execution_count": null,
   "metadata": {},
   "outputs": [],
   "source": [
    "ref_date = datetime.datetime(2000, 1, 1)\n",
    "fig, ax = matplotlib.pyplot.subplots()\n",
    "ax.pcolormesh(domain.T.loni, domain.T.lati, numpy.ma.array(domain.T.mask > 0, mask=domain.T.mask > 0))\n",
    "h = otps2.predict_tide_2d(components, bdy_lat, ref_date, ntime=1, delta_time=0)[0, ...]\n",
    "sc = ax.scatter(bdy_lon, bdy_lat, c=h, edgecolors='k', vmin=-2500, vmax=2500)\n",
    "cb = fig.colorbar(sc)\n",
    "cb.set_label('elevation (mm)')\n",
    "title = ax.set_title(ref_date.strftime('%Y-%m-%d %H:%M'))"
   ]
  },
  {
   "cell_type": "code",
   "execution_count": null,
   "metadata": {},
   "outputs": [],
   "source": [
    "for hour in range(24 * 365):\n",
    "    date = ref_date + datetime.timedelta(seconds=hour*3600)\n",
    "    h = otps2.predict_tide_2d(components, bdy_lat, date, ntime=1, delta_time=0)[0, ...]\n",
    "    title.set_text(date.strftime('%Y-%m-%d %H:%M'))\n",
    "    sc.set_array(h)\n",
    "    fig.canvas.draw()"
   ]
  },
  {
   "cell_type": "code",
   "execution_count": null,
   "metadata": {},
   "outputs": [],
   "source": []
  }
 ],
 "metadata": {
  "kernelspec": {
   "name": "python388jvsc74a57bd097ae724bfa85b9b34df7982b8bb8c7216f435b92902d749e4263f71162bea840",
   "display_name": "Python 3.8.8 64-bit ('base': conda)"
  },
  "language_info": {
   "codemirror_mode": {
    "name": "ipython",
    "version": 3
   },
   "file_extension": ".py",
   "mimetype": "text/x-python",
   "name": "python",
   "nbconvert_exporter": "python",
   "pygments_lexer": "ipython3",
   "version": "3.8.8"
  }
 },
 "nbformat": 4,
 "nbformat_minor": 4
}