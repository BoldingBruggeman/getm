{
 "cells": [
  {
   "cell_type": "markdown",
   "metadata": {},
   "source": [
    "This notebook requires:\n",
    "* the North Sea test case from the [getm-setups repository](https://github.com/getm-model/setups)\n",
    "* the [TPXO9 atlas](https://www.tpxo.net/global/tpxo9-atlas) to calculate tides at the open boundaries"
   ]
  },
  {
   "cell_type": "code",
   "execution_count": null,
   "metadata": {},
   "outputs": [],
   "source": [
    "getm_setups_dir = '../../../getm-setups'\n",
    "igotm_data_dirs = ('/server/data', '../../../igotm/data')"
   ]
  },
  {
   "cell_type": "code",
   "execution_count": null,
   "metadata": {},
   "outputs": [],
   "source": [
    "import datetime\n",
    "import os.path\n",
    "\n",
    "import pygetm\n",
    "import pygetm.domain\n",
    "import pygetm.input\n",
    "import pygetm.legacy\n",
    "import pygetm.input.tpxo\n",
    "import pygetm.airsea\n",
    "import pygetm.mixing\n",
    "\n",
    "# Note: \"%matplotlib widget\" below enables interactive plots but requires https://github.com/matplotlib/ipympl\n",
    "# Alternatively you could use \"%matplotlib notebook\" (deprecated).\n",
    "%matplotlib widget\n",
    "import matplotlib.pyplot"
   ]
  },
  {
   "cell_type": "code",
   "execution_count": null,
   "metadata": {},
   "outputs": [],
   "source": [
    "# Load bathymetry and create simulation\n",
    "domain = pygetm.legacy.domain_from_topo(os.path.join(getm_setups_dir, 'NorthSea/Topo/NS6nm.v01.nc'), nlev=20, z0_const=0.001)\n",
    "pygetm.legacy.load_bdyinfo(domain, os.path.join(getm_setups_dir, 'NorthSea/bdyinfo.dat'))\n",
    "sim = pygetm.Simulation(domain, runtype=2, apply_bottom_friction=True, advection_scheme=1)\n",
    "print('Maximum dt = %.3f s' % domain.maxdt)\n",
    "\n",
    "# ensure ho and hn are up to date and identical\n",
    "domain.do_vertical()\n",
    "matplotlib.pyplot.subplots()\n",
    "domain.T.ho.isel(z=-1).plot()"
   ]
  },
  {
   "cell_type": "code",
   "execution_count": null,
   "metadata": {
    "tags": []
   },
   "outputs": [],
   "source": [
    "# Load forcing\n",
    "igotm_data_dir = next(filter(os.path.isdir, igotm_data_dirs))\n",
    "\n",
    "# Meteorology from ERA\n",
    "era_path = os.path.join(igotm_data_dir, 'ERA-interim/2016.nc')\n",
    "tcc = domain.T.map(pygetm.input.get_from_nc(era_path, 'tcc', preprocess=lambda ds: ds.isel(time=slice(4, -4))))\n",
    "t2m = domain.T.map(pygetm.input.get_from_nc(era_path, 't2m', preprocess=lambda ds: ds.isel(time=slice(4, -4))))\n",
    "d2m = domain.T.map(pygetm.input.get_from_nc(era_path, 'd2m', preprocess=lambda ds: ds.isel(time=slice(4, -4))))\n",
    "sp = domain.T.map(pygetm.input.get_from_nc(era_path, 'sp', preprocess=lambda ds: ds.isel(time=slice(4, -4))))\n",
    "u10 = domain.T.map(pygetm.input.get_from_nc(era_path, 'u10', preprocess=lambda ds: ds.isel(time=slice(4, -4))))\n",
    "v10 = domain.T.map(pygetm.input.get_from_nc(era_path, 'v10', preprocess=lambda ds: ds.isel(time=slice(4, -4))))"
   ]
  },
  {
   "cell_type": "code",
   "execution_count": null,
   "metadata": {},
   "outputs": [],
   "source": [
    "# Create temperature and salinity tracers\n",
    "t = domain.T.array(fill=10, is_3d=True)\n",
    "s = domain.T.array(fill=35, is_3d=True)\n",
    "sst = t.isel(z=-1)\n",
    "t_source = domain.T.array(fill=0., is_3d=True)\n",
    "shf = t_source.isel(z=-1)\n",
    "\n",
    "# Set up initial plot of SST (to be animated later)\n",
    "ref_date = datetime.datetime(2016, 1, 1)\n",
    "fig, (ax1, ax2) = matplotlib.pyplot.subplots(ncols=2, figsize=(12, 5))\n",
    "pc = ax1.pcolormesh(domain.T.loni, domain.T.lati, sst.ma, vmin=5, vmax=20)\n",
    "cb = fig.colorbar(pc, ax=ax1)\n",
    "cb.set_label('sea surface temperature (m)')\n",
    "pc_hf = ax2.pcolormesh(domain.T.loni, domain.T.lati, shf.ma, vmin=-100, vmax=100)\n",
    "cb = fig.colorbar(pc_hf, ax=ax2)\n",
    "cb.set_label('surface heat flux (W m-2)')\n",
    "title = fig.suptitle(ref_date.strftime('%Y-%m-%d %H:%M'))"
   ]
  },
  {
   "cell_type": "code",
   "execution_count": null,
   "metadata": {},
   "outputs": [],
   "source": [
    "inputs = t2m, d2m, sp, u10, v10\n",
    "\n",
    "vdif = pygetm.VerticalDiffusion(t.grid, cnpar=1.)\n",
    "turb = pygetm.mixing.Turbulence(domain)\n",
    "\n",
    "cp = 3985.\n",
    "rho0 = 1025.\n",
    "\n",
    "timestep = 18000.\n",
    "hf_scale_factor = timestep / (rho0 * cp)\n",
    "timedelta = datetime.timedelta(seconds=timestep)\n",
    "date = ref_date\n",
    "for itime in range(60 *24 * 30):\n",
    "    for variable in inputs:\n",
    "        variable.update(date)\n",
    "\n",
    "    es, ea, qs, qa, rhoa = pygetm.airsea.humidity(domain.T, 3, d2m - 273.15, sp, sst, t2m - 273.15)\n",
    "    tausx, tausy, qe, qh = pygetm.airsea.airsea_fluxes(domain.T, 1, sst + 273.15, t2m, u10, v10, rhoa, qs, qa)\n",
    "    shf.all_values[...] = (qe.all_values + qh.all_values)\n",
    "    s = t_source * hf_scale_factor\n",
    "    vdif(turb.nuh, timestep, t, ea4=s)\n",
    "\n",
    "    NN = pygetm.mixing.get_buoyancy_frequency(s, t)\n",
    "    print(NN.ma.min(), NN.ma.max())\n",
    "    date += timedelta\n",
    "\n",
    "    if itime % 10 == 0:\n",
    "        # Update plot\n",
    "        title.set_text(date.strftime('%Y-%m-%d %H:%M'))\n",
    "        pc.set_array(sst.ma.ravel())\n",
    "        pc_hf.set_array(shf.ma.ravel())\n",
    "\n",
    "        fig.canvas.draw()"
   ]
  },
  {
   "cell_type": "code",
   "execution_count": null,
   "metadata": {},
   "outputs": [],
   "source": [
    "fig, ax = matplotlib.pyplot.subplots()\n",
    "NN.isel(z=-2).plot()"
   ]
  },
  {
   "cell_type": "code",
   "execution_count": null,
   "metadata": {},
   "outputs": [],
   "source": []
  }
 ],
 "metadata": {
  "interpreter": {
   "hash": "97ae724bfa85b9b34df7982b8bb8c7216f435b92902d749e4263f71162bea840"
  },
  "kernelspec": {
   "display_name": "Python 3.8.8 64-bit ('base': conda)",
   "name": "python3"
  },
  "language_info": {
   "codemirror_mode": {
    "name": "ipython",
    "version": 3
   },
   "file_extension": ".py",
   "mimetype": "text/x-python",
   "name": "python",
   "nbconvert_exporter": "python",
   "pygments_lexer": "ipython3",
   "version": "3.8.8"
  }
 },
 "nbformat": 4,
 "nbformat_minor": 4
}
