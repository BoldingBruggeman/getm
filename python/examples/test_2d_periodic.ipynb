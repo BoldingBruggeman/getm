{
 "cells": [
  {
   "cell_type": "code",
   "execution_count": null,
   "metadata": {},
   "outputs": [],
   "source": [
    "import datetime\n",
    "import numpy\n",
    "import pygetm\n",
    "\n",
    "# Note: \"%matplotlib widget\" below enables interactive plots but requires https://github.com/matplotlib/ipympl\n",
    "# Alternatively you could use \"%matplotlib notebook\" (deprecated).\n",
    "%matplotlib widget\n",
    "import matplotlib.pyplot"
   ]
  },
  {
   "cell_type": "code",
   "execution_count": null,
   "metadata": {},
   "outputs": [],
   "source": [
    "# Set up rectangular domain with outer points masked\n",
    "domain = pygetm.Domain.create_cartesian(500.*numpy.arange(100), 500.*numpy.arange(30), 1, periodic_x=True)\n",
    "domain.T.H[1:-1, :] = 50.\n",
    "domain.T.mask[1:-1, :] = 1\n",
    "sim = pygetm.Simulation(domain, runtype=1, advection_scheme=1)\n",
    "domain.U.H[1:-1, :] = 50.\n",
    "domain.U.mask[1:-1, :] = 1\n",
    "\n",
    "# Idealized surface forcing\n",
    "tausx, tausx_ = domain.T.array(fill=0.)\n",
    "tausx[...] = 0.01\n",
    "tausy_ = numpy.zeros_like(tausx_)\n",
    "sp, sp_ = domain.T.array(fill=0.)\n",
    "\n",
    "# Time\n",
    "start = datetime.datetime(2020, 1, 1, 0, 0)\n",
    "stop = datetime.datetime(2020, 1, 1, 2, 0)\n",
    "timestep = 10.\n",
    "time = start\n",
    "\n",
    "# Set up velocity plot\n",
    "nsample = 4\n",
    "fig = matplotlib.pyplot.figure()\n",
    "ax = fig.gca()\n",
    "pc = ax.pcolormesh(domain.T.xi, domain.T.yi, domain.T.z, vmin=-0.001, vmax=0.001)\n",
    "cb = fig.colorbar(pc)\n",
    "cb.set_label('elevation (m)')\n",
    "Q = ax.quiver(domain.T.x[::nsample, ::nsample], domain.T.y[::nsample, ::nsample], sim.momentum.U[::nsample, ::nsample], sim.momentum.V[::nsample, ::nsample], scale=.3)\n",
    "title = ax.set_title(time.strftime('%H:%M:%S'))"
   ]
  },
  {
   "cell_type": "code",
   "execution_count": null,
   "metadata": {
    "tags": []
   },
   "outputs": [],
   "source": [
    "dist_U = domain.distribute(sim.momentum.U_)\n",
    "dist_V = domain.distribute(sim.momentum.V_)\n",
    "dist_U.update_halos()\n",
    "dist_V.update_halos()\n",
    "plotting_interval = 5\n",
    "istep = 0\n",
    "while time < stop:\n",
    "    istep += 1\n",
    "    print(istep, sim.momentum.U[1:-1,:].min(), sim.momentum.U[1:-1,:].max())\n",
    "    \n",
    "    sim.pressure.surface(domain.T.z_, sp_)\n",
    "    sim.momentum.uv_momentum_2d(timestep, tausx_, tausy_, sim.pressure.dpdx_, sim.pressure.dpdy_)\n",
    "    dist_U.update_halos()\n",
    "    dist_V.update_halos()\n",
    "    sim.sealevel.update(timestep, sim.momentum.U_, sim.momentum.V_)\n",
    "    domain.depth_update()\n",
    "\n",
    "    # Update velocity plot\n",
    "    if istep % plotting_interval == 0:\n",
    "        Q.set_UVC(sim.momentum.U[::nsample, ::nsample], sim.momentum.V[::nsample, ::nsample])\n",
    "        title.set_text(time.strftime('%H:%M:%S'))\n",
    "        pc.set_array(domain.T.z.ravel())\n",
    "        fig.canvas.draw()\n",
    "\n",
    "    time += datetime.timedelta(seconds=timestep)\n",
    "    "
   ]
  },
  {
   "cell_type": "code",
   "execution_count": null,
   "metadata": {},
   "outputs": [],
   "source": []
  }
 ],
 "metadata": {
  "kernelspec": {
   "display_name": "Python 3",
   "language": "python",
   "name": "python3"
  },
  "language_info": {
   "codemirror_mode": {
    "name": "ipython",
    "version": 3
   },
   "file_extension": ".py",
   "mimetype": "text/x-python",
   "name": "python",
   "nbconvert_exporter": "python",
   "pygments_lexer": "ipython3",
   "version": "3.7.3-final"
  }
 },
 "nbformat": 4,
 "nbformat_minor": 4
}