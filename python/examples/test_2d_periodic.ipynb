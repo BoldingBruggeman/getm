{
 "cells": [
  {
   "cell_type": "code",
   "execution_count": null,
   "metadata": {},
   "outputs": [],
   "source": [
    "import numpy as np\n",
    "import pygetm\n",
    "\n",
    "# Note: \"%matplotlib widget\" below enables interactive plots but requires https://github.com/matplotlib/ipympl\n",
    "# Alternatively you could use \"%matplotlib notebook\" (deprecated).\n",
    "%matplotlib widget\n",
    "import matplotlib.pyplot"
   ]
  },
  {
   "cell_type": "code",
   "execution_count": null,
   "metadata": {},
   "outputs": [],
   "source": [
    "# Set up rectangular domain\n",
    "domain = pygetm.domain.create_cartesian(\n",
    "    np.linspace(0.0, 50000, 100),\n",
    "    np.linspace(0.0, 30000, 30),\n",
    "    periodic_x=True,\n",
    "    lat=0.0,\n",
    "    H=50,\n",
    ")\n",
    "sim = pygetm.Simulation(domain, runtype=pygetm.RunType.BAROTROPIC_2D)\n",
    "\n",
    "# Idealized surface forcing\n",
    "tausx = sim.U.array(fill=0.01)\n",
    "tausy = sim.V.array(fill=0.0)\n",
    "sp = sim.T.array(fill=0.0)\n",
    "fwf = sim.T.array(fill=0.0)\n",
    "\n",
    "# Time\n",
    "timestep = 10.0\n",
    "ntime = int(3600.0 // timestep)\n",
    "\n",
    "# Set up velocity plot\n",
    "nsample = 4\n",
    "fig, ax = matplotlib.pyplot.subplots()\n",
    "pc = ax.pcolormesh(sim.X.x, sim.X.y, sim.T.z, vmin=-0.001, vmax=0.001)\n",
    "cb = fig.colorbar(pc)\n",
    "cb.set_label(\"elevation (m)\")\n",
    "u = sim.momentum.U.interp(sim.T) / sim.T.D\n",
    "v = sim.momentum.V.interp(sim.T) / sim.T.D\n",
    "Q = ax.quiver(\n",
    "    sim.T.x[::nsample, ::nsample],\n",
    "    sim.T.y[::nsample, ::nsample],\n",
    "    u[::nsample, ::nsample],\n",
    "    v[::nsample, ::nsample],\n",
    "    scale=0.005,\n",
    ")\n",
    "title = ax.set_title(\"time: 0 s\")"
   ]
  },
  {
   "cell_type": "code",
   "execution_count": null,
   "metadata": {
    "tags": []
   },
   "outputs": [],
   "source": [
    "plotting_interval = 1\n",
    "times = timestep * np.arange(ntime)\n",
    "Us = np.empty_like(times)\n",
    "for istep, time in enumerate(times):\n",
    "    Us[istep] = np.mean(sim.momentum.U)\n",
    "\n",
    "    sim.update_surface_pressure_gradient(sim.T.z, sp)\n",
    "    sim.momentum.advance_depth_integrated(timestep, tausx, tausy, sim.dpdx, sim.dpdy)\n",
    "    sim.advance_surface_elevation(timestep, sim.momentum.U, sim.momentum.V, fwf)\n",
    "    sim.update_depth()\n",
    "\n",
    "    # Update velocity plot\n",
    "    if istep % plotting_interval == 0:\n",
    "        u = sim.momentum.U.interp(sim.T) / sim.T.D\n",
    "        v = sim.momentum.V.interp(sim.T) / sim.T.D\n",
    "        Q.set_UVC(u[::nsample, ::nsample], v[::nsample, ::nsample])\n",
    "        title.set_text(\"time: %s s\" % time)\n",
    "        pc.set_array(sim.T.z[...].ravel())\n",
    "        fig.canvas.draw()"
   ]
  },
  {
   "cell_type": "code",
   "execution_count": null,
   "metadata": {},
   "outputs": [],
   "source": [
    "fig, ax = matplotlib.pyplot.subplots()\n",
    "ax.plot(times, Us)\n",
    "ax.set_title(\"mean U\")\n",
    "ax.grid()"
   ]
  },
  {
   "cell_type": "markdown",
   "metadata": {},
   "source": [
    "# Let's try this with an island in the center of the domain"
   ]
  },
  {
   "cell_type": "code",
   "execution_count": null,
   "metadata": {},
   "outputs": [],
   "source": [
    "# Set up rectangular domain with and circular island in the center\n",
    "domain = pygetm.domain.create_cartesian(\n",
    "    np.linspace(0.0, 50000, 100),\n",
    "    np.linspace(0.0, 30000, 30),\n",
    "    periodic_x=True,\n",
    "    lat=0.0,\n",
    "    H=50,\n",
    ")\n",
    "distance_from_center = np.sqrt((domain.x - 25000) ** 2 + (domain.y - 15000) ** 2)\n",
    "domain.mask[distance_from_center < 5000] = 0\n",
    "sim = pygetm.Simulation(domain, runtype=pygetm.RunType.BAROTROPIC_2D)\n",
    "\n",
    "# Idealized surface forcing\n",
    "tausx = sim.U.array(fill=0.01)\n",
    "tausy = sim.V.array(fill=0.0)\n",
    "sp = sim.T.array(fill=0.0)\n",
    "fwf = sim.T.array(fill=0.0)\n",
    "\n",
    "# Time\n",
    "timestep = 5.0\n",
    "ntime = int(3600.0 // timestep)\n",
    "\n",
    "# Set up velocity plot\n",
    "nsample = 1\n",
    "fig, ax = matplotlib.pyplot.subplots()\n",
    "masked_z = sim.T.z.ma\n",
    "pc = ax.pcolormesh(sim.X.x, sim.X.y, masked_z, vmin=-0.001, vmax=0.001)\n",
    "cb = fig.colorbar(pc)\n",
    "cb.set_label(\"elevation (m)\")\n",
    "u, v = sim.momentum.U.interp(sim.T) / sim.T.D, sim.momentum.V.interp(sim.T) / sim.T.D\n",
    "Q = ax.quiver(\n",
    "    sim.T.x[::nsample, ::nsample],\n",
    "    sim.T.y[::nsample, ::nsample],\n",
    "    u.ma[::nsample, ::nsample],\n",
    "    v.ma[::nsample, ::nsample],\n",
    "    scale=0.01,\n",
    ")\n",
    "title = ax.set_title(\"time: 0 s\")\n",
    "V = sim.momentum.V.ma[:-1, :]"
   ]
  },
  {
   "cell_type": "code",
   "execution_count": null,
   "metadata": {
    "tags": []
   },
   "outputs": [],
   "source": [
    "plotting_interval = 5\n",
    "times = timestep * np.arange(ntime)\n",
    "Us = np.empty_like(times)\n",
    "for istep, time in enumerate(times):\n",
    "    Us[istep] = np.mean(sim.momentum.U)\n",
    "\n",
    "    sim.update_surface_pressure_gradient(sim.T.z, sp)\n",
    "    sim.momentum.advance_depth_integrated(timestep, tausx, tausy, sim.dpdx, sim.dpdy)\n",
    "    sim.advance_surface_elevation(timestep, sim.momentum.U, sim.momentum.V, fwf)\n",
    "    sim.update_depth()\n",
    "\n",
    "    V_asym = (V + V[::-1, :]).max() - (V + V[::-1, :]).min()\n",
    "    V_range = V.max() - V.min()\n",
    "    print(\"Asymmetry in V: %s\" % (V_asym / V_range if V_asym > 0 else 0.0,))\n",
    "\n",
    "    # Update velocity plot\n",
    "    if istep % plotting_interval == 0:\n",
    "        u, v = (\n",
    "            sim.momentum.U.interp(sim.T) / sim.T.D,\n",
    "            sim.momentum.V.interp(sim.T) / sim.T.D,\n",
    "        )\n",
    "        Q.set_UVC(u.ma[::nsample, ::nsample], v.ma[::nsample, ::nsample])\n",
    "        title.set_text(\"time: %s s\" % time)\n",
    "        pc.set_array(masked_z.ravel())\n",
    "        fig.canvas.draw()"
   ]
  },
  {
   "cell_type": "code",
   "execution_count": null,
   "metadata": {},
   "outputs": [],
   "source": []
  }
 ],
 "metadata": {
  "kernelspec": {
   "display_name": "base",
   "language": "python",
   "name": "python3"
  },
  "language_info": {
   "codemirror_mode": {
    "name": "ipython",
    "version": 3
   },
   "file_extension": ".py",
   "mimetype": "text/x-python",
   "name": "python",
   "nbconvert_exporter": "python",
   "pygments_lexer": "ipython3",
   "version": "3.9.19"
  }
 },
 "nbformat": 4,
 "nbformat_minor": 4
}
