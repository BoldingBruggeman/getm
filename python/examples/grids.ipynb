{
 "cells": [
  {
   "cell_type": "code",
   "execution_count": 1,
   "metadata": {},
   "outputs": [],
   "source": [
    "import numpy as np\n",
    "import pygetm\n",
    "\n",
    "%matplotlib widget"
   ]
  },
  {
   "cell_type": "code",
   "execution_count": null,
   "metadata": {},
   "outputs": [],
   "source": [
    "# Cartesian grid defined in terms of coordinates of centres (T points)\n",
    "# Alternatively it could be defined in terms of coordinates of corners (X points)\n",
    "# To do so, add interfaces=True in the call to create_cartesian\n",
    "x = np.linspace(0., 1000, 100)\n",
    "y = np.linspace(0., 500, 50)\n",
    "dom = pygetm.domain.create_cartesian(x=x, y=y, f=0., H=1)\n",
    "dom.plot()"
   ]
  },
  {
   "cell_type": "code",
   "execution_count": null,
   "metadata": {},
   "outputs": [],
   "source": [
    "# Mock curvilinear grid, with x linearly increasing, and y a hyberbolic function of x (not great for orthogonality!)\n",
    "# It is defined in terms of number of tracer points (nx, ny) and the coordinates at the corner (X) points (xx, yx)\n",
    "nx, ny = 100, 50\n",
    "xx = np.linspace(0., 1000, nx + 1)[np.newaxis, :]\n",
    "y_extent = 500 * (.8 - xx / (xx + 500.))\n",
    "yx = np.linspace(-1., 1, ny + 1)[:, np.newaxis] * y_extent\n",
    "dom = pygetm.domain.Domain(nx, ny, x=xx, y=yx, f=0., H=1)\n",
    "dom.plot()"
   ]
  },
  {
   "cell_type": "code",
   "execution_count": null,
   "metadata": {},
   "outputs": [],
   "source": []
  }
 ],
 "metadata": {
  "kernelspec": {
   "display_name": "base",
   "language": "python",
   "name": "python3"
  },
  "language_info": {
   "codemirror_mode": {
    "name": "ipython",
    "version": 3
   },
   "file_extension": ".py",
   "mimetype": "text/x-python",
   "name": "python",
   "nbconvert_exporter": "python",
   "pygments_lexer": "ipython3",
   "version": "3.9.19"
  },
  "orig_nbformat": 2
 },
 "nbformat": 4,
 "nbformat_minor": 2
}
