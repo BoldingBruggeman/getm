{
 "cells": [
  {
   "cell_type": "code",
   "execution_count": null,
   "metadata": {},
   "outputs": [],
   "source": [
    "import os.path\n",
    "import numpy\n",
    "\n",
    "import pygetm\n",
    "import pygetm.legacy\n",
    "\n",
    "# Note: \"%matplotlib widget\" below enables interactive plots but requires https://github.com/matplotlib/ipympl\n",
    "# Alternatively you could use \"%matplotlib notebook\" (deprecated).\n",
    "%matplotlib widget\n",
    "import matplotlib.pyplot"
   ]
  },
  {
   "cell_type": "code",
   "execution_count": null,
   "metadata": {},
   "outputs": [],
   "source": [
    "# Load North Sea domain\n",
    "getm_cases = next(filter(os.path.isdir, ('/data/kb/getm-setups', '../../../getm-setups')))\n",
    "domain = pygetm.legacy.domain_from_topo(os.path.join(getm_cases, 'NorthSea/Topo/NS6nm.v01.nc'), nlev=30, z0_const=0.001)\n",
    "sim = pygetm.Simulation(domain, runtype=2, fabm='../../extern/fabm/testcases/fabm-jrc-med_ergom.yaml')\n",
    "sim.fabm_model.fabm.configure(1)\n",
    "\n",
    "nc = sim.output_manager.add_netcdf_file('bgc.nc', interval=10)\n",
    "nc.request('med_ergom_pp')"
   ]
  },
  {
   "cell_type": "code",
   "execution_count": null,
   "metadata": {},
   "outputs": [],
   "source": [
    "sim.fabm_model.interior_dependencies['downwelling_photosynthetic_radiative_flux'].value = 5\n",
    "sim.fabm_model.interior_dependencies['temperature'].value = 15\n",
    "sim.fabm_model.interior_dependencies['practical_salinity'].value = 30\n",
    "sim.fabm_model.horizontal_dependencies['surface_downwelling_photosynthetic_radiative_flux'].value = 50\n",
    "sim.fabm_model.horizontal_dependencies['wind_speed'].value = 50\n",
    "sim.fabm_model.horizontal_dependencies['bottom_stress'].value = 0\n",
    "\n",
    "sim.start_fabm()"
   ]
  },
  {
   "cell_type": "code",
   "execution_count": null,
   "metadata": {},
   "outputs": [],
   "source": [
    "# Simulate for 1 day\n",
    "dt = 1800\n",
    "for _ in range(int(86400 / dt)):\n",
    "    sources_int, sources_sf, sources_bt = sim.fabm_model.get_sources()\n",
    "    #print(sources_int.min(), sources_int.max())\n",
    "    sim.fabm_model.interior_state += sources_int * dt\n",
    "    sim.fabm_model.surface_state += sources_sf * dt\n",
    "    sim.fabm_model.bottom_state += sources_bt * dt\n",
    "    sim.output_manager.save()\n",
    "sim.output_manager.close()"
   ]
  },
  {
   "cell_type": "code",
   "execution_count": null,
   "metadata": {},
   "outputs": [],
   "source": [
    "# Plot surface field and y-z slice \n",
    "fig, (ax1, ax2) = matplotlib.pyplot.subplots(ncols=2, figsize=(12, 4))\n",
    "pc = ax1.pcolormesh(sim.fabm_model.interior_state[8, -1, ...])\n",
    "pc = ax2.pcolormesh(sim.fabm_model.interior_state[8, :, :, 55])\n",
    "fig.colorbar(pc);"
   ]
  },
  {
   "cell_type": "code",
   "execution_count": null,
   "metadata": {},
   "outputs": [],
   "source": []
  }
 ],
 "metadata": {
  "interpreter": {
   "hash": "97ae724bfa85b9b34df7982b8bb8c7216f435b92902d749e4263f71162bea840"
  },
  "kernelspec": {
   "display_name": "Python 3.8.8 64-bit ('base': conda)",
   "name": "python3"
  },
  "language_info": {
   "codemirror_mode": {
    "name": "ipython",
    "version": 3
   },
   "file_extension": ".py",
   "mimetype": "text/x-python",
   "name": "python",
   "nbconvert_exporter": "python",
   "pygments_lexer": "ipython3",
   "version": "3.8.8"
  },
  "orig_nbformat": 4
 },
 "nbformat": 4,
 "nbformat_minor": 2
}
