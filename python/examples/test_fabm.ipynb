{
 "cells": [
  {
   "cell_type": "code",
   "execution_count": null,
   "metadata": {},
   "outputs": [],
   "source": [
    "import os.path\n",
    "\n",
    "import pygetm.pyfabm\n",
    "import pygetm.legacy\n",
    "\n",
    "# Note: \"%matplotlib widget\" below enables interactive plots but requires https://github.com/matplotlib/ipympl\n",
    "# Alternatively you could use \"%matplotlib notebook\" (deprecated).\n",
    "%matplotlib widget\n",
    "import matplotlib.pyplot"
   ]
  },
  {
   "cell_type": "code",
   "execution_count": null,
   "metadata": {},
   "outputs": [],
   "source": [
    "# Load North Sea domain\n",
    "getm_cases = next(filter(os.path.isdir, ('/data/kb/getm-setups', '../../../getm-setups')))\n",
    "domain = pygetm.legacy.domain_from_topo(os.path.join(getm_cases, 'NorthSea/Topo/NS6nm.v01.nc'), nlev=30, z0_const=0.001)\n",
    "domain.initialize(2)"
   ]
  },
  {
   "cell_type": "code",
   "execution_count": null,
   "metadata": {},
   "outputs": [],
   "source": [
    "# Load FABM test case jrc-med_ergom and set constant values for all dependencies\n",
    "m = pygetm.pyfabm.Model('../../extern/fabm/testcases/fabm-jrc-med_ergom.yaml', shape=(domain.nz, domain.ny, domain.nx), libname='fabm_c')\n",
    "m.setCellThickness(1)\n",
    "m.interior_dependencies['downwelling_photosynthetic_radiative_flux'].value = 5\n",
    "m.interior_dependencies['temperature'].value = 15\n",
    "m.interior_dependencies['practical_salinity'].value = 30\n",
    "m.horizontal_dependencies['surface_downwelling_photosynthetic_radiative_flux'].value = 50\n",
    "m.horizontal_dependencies['wind_speed'].value = 50\n",
    "m.horizontal_dependencies['bottom_stress'].value = 0\n",
    "m.mask[...] = domain.T.mask\n",
    "assert m.start()"
   ]
  },
  {
   "cell_type": "code",
   "execution_count": null,
   "metadata": {},
   "outputs": [],
   "source": [
    "# Simulate for 1 day\n",
    "dt = 1800\n",
    "for _ in range(int(86400 / dt)):\n",
    "    sources_int, sources_sf, sources_bt = m.get_sources()\n",
    "    #print(sources_int.min(), sources_int.max())\n",
    "    m.interior_state += sources_int * dt\n",
    "    m.surface_state += sources_sf * dt\n",
    "    m.bottom_state += sources_bt * dt"
   ]
  },
  {
   "cell_type": "code",
   "execution_count": null,
   "metadata": {},
   "outputs": [],
   "source": [
    "# Plot surface field and y-z slice \n",
    "fig, (ax1, ax2) = matplotlib.pyplot.subplots(ncols=2, figsize=(12, 4))\n",
    "pc = ax1.pcolormesh(m.interior_state[8, -1, ...])\n",
    "pc = ax2.pcolormesh(m.interior_state[8, :, :, 55])\n",
    "fig.colorbar(pc);"
   ]
  },
  {
   "cell_type": "code",
   "execution_count": null,
   "metadata": {},
   "outputs": [],
   "source": []
  }
 ],
 "metadata": {
  "interpreter": {
   "hash": "97ae724bfa85b9b34df7982b8bb8c7216f435b92902d749e4263f71162bea840"
  },
  "kernelspec": {
   "display_name": "Python 3.8.8 64-bit ('base': conda)",
   "name": "python3"
  },
  "language_info": {
   "codemirror_mode": {
    "name": "ipython",
    "version": 3
   },
   "file_extension": ".py",
   "mimetype": "text/x-python",
   "name": "python",
   "nbconvert_exporter": "python",
   "pygments_lexer": "ipython3",
   "version": "3.8.8"
  },
  "orig_nbformat": 4
 },
 "nbformat": 4,
 "nbformat_minor": 2
}
