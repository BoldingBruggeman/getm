{
 "cells": [
  {
   "cell_type": "code",
   "execution_count": null,
   "metadata": {},
   "outputs": [],
   "source": [
    "import os.path\n",
    "\n",
    "import pygetm\n",
    "import pygetm.legacy\n",
    "\n",
    "# Note: \"%matplotlib widget\" below enables interactive plots but requires https://github.com/matplotlib/ipympl\n",
    "# Alternatively you could use \"%matplotlib notebook\" (deprecated).\n",
    "%matplotlib widget\n",
    "import matplotlib.pyplot"
   ]
  },
  {
   "cell_type": "code",
   "execution_count": null,
   "metadata": {},
   "outputs": [],
   "source": [
    "# Load North Sea domain\n",
    "getm_cases = next(filter(os.path.isdir, ('/data/kb/getm-setups', '../../../getm-setups')))\n",
    "domain = pygetm.legacy.domain_from_topo(os.path.join(getm_cases, 'NorthSea/Topo/NS6nm.v01.nc'), nlev=30, z0=0.001)\n",
    "sim = pygetm.Simulation(domain, runtype=pygetm.BAROTROPIC_3D, fabm='../../extern/fabm/testcases/fabm-jrc-med_ergom.yaml', log_level='ERROR')\n",
    "\n",
    "out = sim.output_manager.add_recorder(interval=10)\n",
    "out.request('med_ergom_pp')\n",
    "out.request('med_ergom_fl')\n",
    "out.request('med_ergom_GPP')\n",
    "out.request('med_ergom_OFL');"
   ]
  },
  {
   "cell_type": "code",
   "execution_count": null,
   "metadata": {},
   "outputs": [],
   "source": [
    "sim.fabm.model.interior_dependencies['downwelling_photosynthetic_radiative_flux'].value = 5\n",
    "sim.fabm.model.interior_dependencies['temperature'].value = 15\n",
    "sim.fabm.model.interior_dependencies['practical_salinity'].value = 30\n",
    "sim.fabm.model.horizontal_dependencies['surface_downwelling_photosynthetic_radiative_flux'].value = 50\n",
    "sim.fabm.model.horizontal_dependencies['wind_speed'].value = 50\n",
    "sim.fabm.model.horizontal_dependencies['bottom_stress'].value = 0\n",
    "\n",
    "sim.fabm.start()"
   ]
  },
  {
   "cell_type": "code",
   "execution_count": null,
   "metadata": {},
   "outputs": [],
   "source": [
    "# Simulate for 1 day\n",
    "dt = 1800\n",
    "sim.output_manager.start()\n",
    "for itime in range(int(86400 / dt)):\n",
    "    sim.fabm.update_sources()\n",
    "    sim.fabm.advance(dt)\n",
    "    sim.output_manager.save(itime * dt, itime)\n",
    "sim.output_manager.close(itime * dt)"
   ]
  },
  {
   "cell_type": "code",
   "execution_count": null,
   "metadata": {},
   "outputs": [],
   "source": [
    "# Plot surface field and y-z slice \n",
    "fig, (ax1, ax2) = matplotlib.pyplot.subplots(ncols=2, figsize=(12, 4))\n",
    "sim['med_ergom_pp'].isel(z=-1).plot(ax=ax1)\n",
    "sim['med_ergom_OFL'].plot(ax=ax2)"
   ]
  },
  {
   "cell_type": "code",
   "execution_count": null,
   "metadata": {},
   "outputs": [],
   "source": [
    "fig, ax = matplotlib.pyplot.subplots()\n",
    "out.x.med_ergom_pp.mean(axis=(1, 2, 3)).plot()"
   ]
  },
  {
   "cell_type": "code",
   "execution_count": null,
   "metadata": {},
   "outputs": [],
   "source": []
  }
 ],
 "metadata": {
  "interpreter": {
   "hash": "e4cce46d6be9934fbd27f9ca0432556941ea5bdf741d4f4d64c6cd7f8dfa8fba"
  },
  "kernelspec": {
   "display_name": "Python 3.9.7 ('base')",
   "language": "python",
   "name": "python3"
  },
  "language_info": {
   "codemirror_mode": {
    "name": "ipython",
    "version": 3
   },
   "file_extension": ".py",
   "mimetype": "text/x-python",
   "name": "python",
   "nbconvert_exporter": "python",
   "pygments_lexer": "ipython3",
   "version": "3.9.16"
  },
  "orig_nbformat": 4
 },
 "nbformat": 4,
 "nbformat_minor": 2
}
