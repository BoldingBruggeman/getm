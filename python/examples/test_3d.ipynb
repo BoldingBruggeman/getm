{
 "cells": [
  {
   "cell_type": "code",
   "execution_count": null,
   "metadata": {},
   "outputs": [],
   "source": [
    "import os.path\n",
    "import numpy\n",
    "import pygetm\n",
    "\n",
    "# Note: \"%matplotlib widget\" below enables interactive plots but requires https://github.com/matplotlib/ipympl\n",
    "# Alternatively you could use \"%matplotlib notebook\" (deprecated).\n",
    "%matplotlib widget\n",
    "import matplotlib.pyplot\n",
    "\n",
    "getm_setups_dirs = ('../../../getm-setups',)\n",
    "getm_setups_dir = next(filter(os.path.isdir, getm_setups_dirs))\n"
   ]
  },
  {
   "cell_type": "code",
   "execution_count": null,
   "metadata": {},
   "outputs": [],
   "source": [
    "# Set up rectangular domain with outer points masked\n",
    "domain = pygetm.domain.create_cartesian(500.*numpy.arange(101), 500.*numpy.arange(31), 49, lat=0, H=50)\n",
    "sim = pygetm.Simulation(domain, runtype=pygetm.BAROTROPIC_3D, advection_scheme=pygetm.AdvectionScheme.HSIMT, gotm=os.path.join(getm_setups_dir, 'NorthSea/gotmturb.nml'))\n",
    "\n",
    "# Idealized surface forcing\n",
    "tausx = domain.U.array(fill=0.1)\n",
    "tausy = domain.V.array(fill=0.)\n",
    "sp = domain.T.array(fill=0.)\n",
    "fwf = domain.T.array(fill=0.)\n",
    "\n",
    "idpdx = domain.U.array(fill=0., z=pygetm.CENTERS)\n",
    "idpdy = domain.V.array(fill=0., z=pygetm.CENTERS)\n",
    "viscosity = domain.T.array(fill=1e-1, z=pygetm.INTERFACES)\n",
    "\n",
    "# Time\n",
    "timestep = 10.\n",
    "ntime = 24*int(3600. // timestep)\n",
    "mode_split = 5\n",
    "\n",
    "# Set up velocity plot\n",
    "nsample_x = 2\n",
    "nsample_z = 2\n",
    "iy = 0\n",
    "fig, ax = matplotlib.pyplot.subplots()\n",
    "u = sim.pk.interp(domain.T) / domain.T.H\n",
    "w = sim.ww.interp(domain.T, z=pygetm.CENTERS)\n",
    "z_2d = domain.T.zc[::nsample_z, iy, ::nsample_x]\n",
    "x_2d = numpy.broadcast_to(domain.T.x[iy, ::nsample_x], z_2d.shape)\n",
    "Q = ax.quiver(x_2d, z_2d, u[::nsample_z, iy, ::nsample_x], w[::nsample_z, iy, ::nsample_x], scale=.01)\n",
    "title = ax.set_title('time: 0 s')"
   ]
  },
  {
   "cell_type": "code",
   "execution_count": null,
   "metadata": {
    "tags": []
   },
   "outputs": [],
   "source": [
    "times = timestep * numpy.arange(ntime)\n",
    "plotting_interval = 5\n",
    "for istep, time in enumerate(times):\n",
    "    sim.update_surface_pressure_gradient(domain.T.z, sp)\n",
    "    sim.advance_2d_momentum(timestep, tausx, tausy, sim.dpdx, sim.dpdy)\n",
    "    sim.advance_surface_elevation(timestep, sim.U, sim.V, fwf)\n",
    "    if istep % mode_split == 0:\n",
    "        sim.domain.update_depth(True)\n",
    "        sim.update_surface_pressure_gradient(domain.T.zio, sp)\n",
    "        sim.advance_3d_momentum(timestep * mode_split, mode_split, tausx, tausy, sim.dpdx, sim.dpdy, idpdx, idpdy, viscosity)\n",
    "    sim.domain.update_depth()\n",
    "\n",
    "    # Update velocity plot\n",
    "    if istep % plotting_interval == 0:\n",
    "        u = sim.pk.interp(domain.T) / domain.T.H\n",
    "        sim.ww.interp(w)\n",
    "        Q.set_UVC(u[::nsample_z, iy, ::nsample_x], w[::nsample_z, iy, ::nsample_x])\n",
    "        title.set_text('time: %s s' % time)\n",
    "        fig.canvas.draw()"
   ]
  },
  {
   "cell_type": "code",
   "execution_count": null,
   "metadata": {},
   "outputs": [],
   "source": []
  }
 ],
 "metadata": {
  "interpreter": {
   "hash": "e4cce46d6be9934fbd27f9ca0432556941ea5bdf741d4f4d64c6cd7f8dfa8fba"
  },
  "kernelspec": {
   "display_name": "Python 3.9.7 ('base')",
   "language": "python",
   "name": "python3"
  },
  "language_info": {
   "codemirror_mode": {
    "name": "ipython",
    "version": 3
   },
   "file_extension": ".py",
   "mimetype": "text/x-python",
   "name": "python",
   "nbconvert_exporter": "python",
   "pygments_lexer": "ipython3",
   "version": "3.9.7"
  }
 },
 "nbformat": 4,
 "nbformat_minor": 4
}
