{
 "cells": [
  {
   "cell_type": "code",
   "execution_count": null,
   "metadata": {},
   "outputs": [],
   "source": [
    "import numpy\n",
    "import pygetm\n",
    "\n",
    "%matplotlib widget\n",
    "import matplotlib.pyplot"
   ]
  },
  {
   "cell_type": "code",
   "execution_count": null,
   "metadata": {},
   "outputs": [],
   "source": [
    "halo = 2\n",
    "Lx, Ly = 100., 100.\n",
    "\n",
    "domain = pygetm.domain.Domain.create_cartesian(numpy.linspace(-Lx/2, Lx/2, 100), numpy.linspace(-Ly/2, Ly/2, 101), 1, H=1., lat=0., mask=0)\n",
    "domain.mask[3:-3, 3:-3] = 1\n",
    "domain.initialize(runtype=1)\n",
    "\n",
    "# Mask out outer *2* rows and columns to ensure transports use a non-divergent flow field\n",
    "domain.T.mask[...] = 0\n",
    "domain.T.mask[2:-2, 2:-2] = 1"
   ]
  },
  {
   "cell_type": "code",
   "execution_count": null,
   "metadata": {},
   "outputs": [],
   "source": [
    "period = 600\n",
    "omega = 2 * numpy.pi / period\n",
    "cfl = 1.\n",
    "umax = omega * Lx / 2\n",
    "dt_cfl = cfl * min(Lx / (domain.T.H.shape[1] + 1), Ly / (domain.T.H.shape[0] + 1)) / umax\n",
    "no_of_revolutions = 5\n",
    "Nmax = no_of_revolutions * round(2 * numpy.pi / omega / dt_cfl)\n",
    "tmax = no_of_revolutions * 2 * numpy.pi / omega\n",
    "timestep = tmax / Nmax"
   ]
  },
  {
   "cell_type": "code",
   "execution_count": null,
   "metadata": {},
   "outputs": [],
   "source": [
    "u = domain.T.array(fill=0.)\n",
    "v = domain.T.array(fill=0.)\n",
    "var = domain.T.array(fill=1.)\n",
    "u[:, :] = -omega * domain.U.y\n",
    "v[:, :] = omega * domain.V.x\n",
    "u[domain.U.mask == 0] = 0.\n",
    "v[domain.V.mask == 0] = 0.\n",
    "var[int(0.2 * domain.shape[1]):int(0.4 * domain.shape[1]), int(0.2 * domain.shape[2]):int(0.4 * domain.shape[2])] = 5."
   ]
  },
  {
   "cell_type": "code",
   "execution_count": null,
   "metadata": {},
   "outputs": [],
   "source": [
    "fig = matplotlib.pyplot.figure()\n",
    "ax = fig.gca()\n",
    "pc = ax.quiver(u[::5,::5],v[::5,::5])"
   ]
  },
  {
   "cell_type": "code",
   "execution_count": null,
   "metadata": {},
   "outputs": [],
   "source": [
    "matplotlib.pyplot.ioff()\n",
    "fig = matplotlib.pyplot.figure()\n",
    "ax = fig.gca()\n",
    "pc = ax.pcolormesh(var.ma)\n",
    "cb = fig.colorbar(pc)\n",
    "fig.show()"
   ]
  },
  {
   "cell_type": "code",
   "execution_count": null,
   "metadata": {},
   "outputs": [],
   "source": [
    "adv = pygetm.Advection(domain, scheme=1)\n",
    "for i in range(1, Nmax):\n",
    "    print(var.values)\n",
    "    adv.calculate(u, v, timestep, var)\n",
    "    pc.set_array(var.ma.ravel())\n",
    "    fig.canvas.draw()"
   ]
  },
  {
   "cell_type": "code",
   "execution_count": null,
   "metadata": {},
   "outputs": [],
   "source": []
  }
 ],
 "metadata": {
  "kernelspec": {
   "name": "python388jvsc74a57bd097ae724bfa85b9b34df7982b8bb8c7216f435b92902d749e4263f71162bea840",
   "display_name": "Python 3.8.8 64-bit ('base': conda)"
  },
  "language_info": {
   "codemirror_mode": {
    "name": "ipython",
    "version": 3
   },
   "file_extension": ".py",
   "mimetype": "text/x-python",
   "name": "python",
   "nbconvert_exporter": "python",
   "pygments_lexer": "ipython3",
   "version": "3.8.8"
  }
 },
 "nbformat": 4,
 "nbformat_minor": 4
}