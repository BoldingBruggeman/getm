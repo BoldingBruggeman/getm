{
 "cells": [
  {
   "cell_type": "code",
   "execution_count": null,
   "metadata": {},
   "outputs": [],
   "source": [
    "import numpy\n",
    "import pylo\n",
    "\n",
    "%matplotlib widget\n",
    "import matplotlib.pyplot"
   ]
  },
  {
   "cell_type": "code",
   "execution_count": null,
   "metadata": {},
   "outputs": [],
   "source": [
    "halo = 1\n",
    "Lx, Ly = 100., 100.\n",
    "\n",
    "domain = pylo.Domain(1, 50, 1, 51, 1, 10, halo)\n",
    "\n",
    "domain.T.c1[:] = numpy.linspace(-Lx/2, Lx/2, domain.T.c1.shape[0])\n",
    "domain.T.c2[:] = numpy.linspace(-Ly/2, Ly/2, domain.T.c2.shape[0])\n",
    "domain.T.H[1:-1, 1:-1] = 1.\n",
    "domain.T.mask[1:-1, 1:-1] = 1\n",
    "\n",
    "domain.initialize()\n",
    "domain.T.mask[...] = 0\n",
    "domain.T.mask[2:-2, 2:-2] = 1"
   ]
  },
  {
   "cell_type": "code",
   "execution_count": null,
   "metadata": {},
   "outputs": [],
   "source": [
    "period = 600\n",
    "omega = 2*numpy.pi/period\n",
    "cfl = 1.\n",
    "umax=omega*Lx/2\n",
    "dt_cfl=cfl*min(Lx/(domain.T.c1.shape[0]+1), Ly/(domain.T.c2.shape[0]+1)) / umax\n",
    "no_of_revolutions = 5\n",
    "Nmax=no_of_revolutions*round(2*numpy.pi/omega/dt_cfl)\n",
    "tmax=no_of_revolutions*2*numpy.pi/omega\n",
    "timestep = tmax/Nmax"
   ]
  },
  {
   "cell_type": "code",
   "execution_count": null,
   "metadata": {},
   "outputs": [],
   "source": [
    "u, u_ = domain.array(fill=0.)\n",
    "v, v_ = domain.array(fill=0.)\n",
    "var, var_ = domain.array(fill=1.)\n",
    "u[:, :] = -omega * domain.U.c2[:, numpy.newaxis]\n",
    "v[:, :] = omega * domain.V.c1[numpy.newaxis, :]\n",
    "u[domain.U.mask==0] = 0.\n",
    "v[domain.V.mask==0] = 0.\n",
    "var[int(0.2*domain.shape[1]):int(0.4*domain.shape[1]),int(0.2*domain.shape[2]):int(0.4*domain.shape[2])] = 5."
   ]
  },
  {
   "cell_type": "code",
   "execution_count": null,
   "metadata": {},
   "outputs": [],
   "source": [
    "fig = matplotlib.pyplot.figure()\n",
    "ax = fig.gca()\n",
    "pc = ax.quiver(u,v)"
   ]
  },
  {
   "cell_type": "code",
   "execution_count": null,
   "metadata": {},
   "outputs": [],
   "source": [
    "matplotlib.pyplot.ioff()\n",
    "fig = matplotlib.pyplot.figure()\n",
    "ax = fig.gca()\n",
    "pc = ax.pcolormesh(var_)\n",
    "cb = fig.colorbar(pc)\n",
    "fig.show()"
   ]
  },
  {
   "cell_type": "code",
   "execution_count": null,
   "metadata": {},
   "outputs": [],
   "source": [
    "adv = pylo.Advection(domain, scheme=1)\n",
    "for i in range(1, Nmax):\n",
    "    adv.calculate(u_, v_, timestep, var_)\n",
    "    pc.set_array(var_.ravel())\n",
    "    fig.canvas.draw()"
   ]
  },
  {
   "cell_type": "code",
   "execution_count": null,
   "metadata": {},
   "outputs": [],
   "source": []
  }
 ],
 "metadata": {
  "kernelspec": {
   "display_name": "Python 3",
   "language": "python",
   "name": "python3"
  },
  "language_info": {
   "codemirror_mode": {
    "name": "ipython",
    "version": 3
   },
   "file_extension": ".py",
   "mimetype": "text/x-python",
   "name": "python",
   "nbconvert_exporter": "python",
   "pygments_lexer": "ipython3",
   "version": "3.7.3-final"
  }
 },
 "nbformat": 4,
 "nbformat_minor": 4
}