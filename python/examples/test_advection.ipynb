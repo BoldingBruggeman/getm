{
 "cells": [
  {
   "cell_type": "code",
   "execution_count": null,
   "metadata": {},
   "outputs": [],
   "source": [
    "import numpy as np\n",
    "import pygetm\n",
    "\n",
    "%matplotlib widget\n",
    "import matplotlib.pyplot"
   ]
  },
  {
   "cell_type": "markdown",
   "metadata": {},
   "source": [
    "## Set up the domain (Cartesian box)"
   ]
  },
  {
   "cell_type": "code",
   "execution_count": null,
   "metadata": {},
   "outputs": [],
   "source": [
    "Lx, Ly = 100.0, 100.0\n",
    "nx, ny = 100, 101\n",
    "x = np.linspace(-Lx / 2, Lx / 2, nx)\n",
    "y = np.linspace(-Ly / 2, Ly / 2, ny)\n",
    "domain = pygetm.domain.create_cartesian(x, y, nz=1, H=1.0, lat=0.0)\n",
    "domain.initialize(runtype=pygetm.BAROTROPIC_2D)"
   ]
  },
  {
   "cell_type": "markdown",
   "metadata": {},
   "source": [
    "## Configure rotational velocity field"
   ]
  },
  {
   "cell_type": "code",
   "execution_count": null,
   "metadata": {},
   "outputs": [],
   "source": [
    "# Parameters\n",
    "period = 600\n",
    "omega = 2 * np.pi / period\n",
    "cfl = 1.0\n",
    "umax = omega * Lx / 2\n",
    "dt_cfl = cfl * min(Lx / (nx + 1), Ly / (ny + 1)) / umax\n",
    "no_of_revolutions = 5\n",
    "Nmax = no_of_revolutions * round(2 * np.pi / omega / dt_cfl)\n",
    "tmax = no_of_revolutions * 2 * np.pi / omega\n",
    "timestep = tmax / Nmax\n",
    "\n",
    "# 2D velocities\n",
    "u = domain.U.array(fill=0.0)\n",
    "v = domain.V.array(fill=0.0)\n",
    "u[:, :] = -omega * domain.U.y\n",
    "v[:, :] = omega * domain.V.x\n",
    "u[(2 * domain.U.x / Lx) ** 2 + (2 * domain.U.y / Ly) ** 2 > 1] = 0.0\n",
    "v[(2 * domain.V.x / Lx) ** 2 + (2 * domain.V.y / Ly) ** 2 > 1] = 0.0\n",
    "\n",
    "# Plot velocity field\n",
    "fig, ax = matplotlib.pyplot.subplots()\n",
    "u_destag, v_destag = u.interp(domain.T), v.interp(domain.T)\n",
    "pc = ax.quiver(u_destag[::5, ::5], v_destag[::5, ::5])"
   ]
  },
  {
   "cell_type": "markdown",
   "metadata": {},
   "source": [
    "## Set up square tracer field"
   ]
  },
  {
   "cell_type": "code",
   "execution_count": null,
   "metadata": {},
   "outputs": [],
   "source": [
    "var = domain.T.array(fill=1.0)\n",
    "var[int(0.2 * ny) : int(0.4 * ny), int(0.2 * nx) : int(0.4 * nx),] = 5.0\n",
    "\n",
    "# Plot\n",
    "fig, ax = matplotlib.pyplot.subplots()\n",
    "pc = ax.pcolormesh(var)\n",
    "cb = fig.colorbar(pc)\n",
    "title = ax.set_title(\"time step: 0 of %i\" % Nmax)"
   ]
  },
  {
   "cell_type": "markdown",
   "metadata": {},
   "source": [
    "## Simulate and animate"
   ]
  },
  {
   "cell_type": "code",
   "execution_count": null,
   "metadata": {
    "tags": []
   },
   "outputs": [],
   "source": [
    "nsample = 4\n",
    "totals = [var[...].sum()]\n",
    "    \n",
    "advect = pygetm.operators.Advection(domain.T, scheme=pygetm.AdvectionScheme.SUPERBEE)\n",
    "for i in range(1, Nmax):\n",
    "    advect(u, v, timestep, var)\n",
    "    if i % nsample == 0:\n",
    "        pc.set_array(var[...].ravel())\n",
    "        title.set_text(\"time step: %i of %i\" % (i, Nmax))\n",
    "        fig.canvas.draw()\n",
    "    totals.append(var[...].sum())"
   ]
  },
  {
   "cell_type": "markdown",
   "metadata": {},
   "source": [
    "## Change in total tracer"
   ]
  },
  {
   "cell_type": "code",
   "execution_count": null,
   "metadata": {},
   "outputs": [],
   "source": [
    "fig, ax = matplotlib.pyplot.subplots()\n",
    "ax.plot(totals / totals[0] - 1.0)\n",
    "ax.grid()\n",
    "ax.set_xlabel(\"time step\")\n",
    "ax.set_ylabel(\"change in total tracer\")"
   ]
  },
  {
   "cell_type": "markdown",
   "metadata": {},
   "source": [
    "## Horizontal diffusion only"
   ]
  },
  {
   "cell_type": "code",
   "execution_count": null,
   "metadata": {},
   "outputs": [],
   "source": [
    "# Initialize tracer\n",
    "var[:, :] = 0.0\n",
    "var[50, 50] = 1\n",
    "\n",
    "# Zero velocities\n",
    "u[:,:] = 0\n",
    "v[:,:] = 0\n",
    "Ah = domain.T.array(fill_value=0.01)\n",
    "Ah_u = domain.U.array(fill_value=0.01)\n",
    "Ah_v = domain.V.array(fill_value=0.01)\n",
    "\n",
    "# Plot\n",
    "fig, (ax1, ax2, ax3) = matplotlib.pyplot.subplots(ncols=3, figsize=(12,4))\n",
    "pc1 = ax1.pcolormesh(var)\n",
    "cb = fig.colorbar(pc1, ax=ax1)\n",
    "pc2 = ax2.pcolormesh(var)\n",
    "cb = fig.colorbar(pc2, ax=ax2)\n",
    "pc3 = ax3.pcolormesh(np.zeros_like(var), cmap='bwr')\n",
    "cb = fig.colorbar(pc3, ax=ax3)\n",
    "title = ax.set_title(\"time step: 0 of %i\" % Nmax)"
   ]
  },
  {
   "cell_type": "code",
   "execution_count": null,
   "metadata": {},
   "outputs": [],
   "source": [
    "nsample = 4\n",
    "advect = pygetm.operators.Advection(domain.T, scheme=pygetm.AdvectionScheme.UPSTREAM)\n",
    "for i in range(1, Nmax):\n",
    "    advect(u, v, timestep, var, Ah_u=Ah_u, Ah_v=Ah_v)\n",
    "    if i % nsample == 0:\n",
    "        xa = domain.T.x.values - domain.T.x.values[50, 50]\n",
    "        ya = domain.T.y.values - domain.T.y.values[50, 50]\n",
    "        va = 2 * Ah.values * i * timestep\n",
    "        analytical = 1. / (2 * np.pi * va) * np.exp(-0.5 * (xa**2 + ya**2) / va) * domain.T.area.values\n",
    "        diff = analytical - var.values\n",
    "        pc1.set_array(var[...].ravel())\n",
    "        pc2.set_array(analytical[...].ravel())\n",
    "        pc3.set_array(diff.ravel())\n",
    "        pc1.set_clim(0., var.values.max())\n",
    "        pc2.set_clim(0., analytical.max())\n",
    "        maxdiff = np.abs(diff).max()\n",
    "        pc3.set_clim(-maxdiff, maxdiff)\n",
    "        title.set_text(\"time step: %i of %i\" % (i, Nmax))\n",
    "        fig.canvas.draw()"
   ]
  },
  {
   "cell_type": "code",
   "execution_count": null,
   "metadata": {},
   "outputs": [],
   "source": []
  }
 ],
 "metadata": {
  "interpreter": {
   "hash": "e4cce46d6be9934fbd27f9ca0432556941ea5bdf741d4f4d64c6cd7f8dfa8fba"
  },
  "kernelspec": {
   "display_name": "Python 3 (ipykernel)",
   "language": "python",
   "name": "python3"
  },
  "language_info": {
   "codemirror_mode": {
    "name": "ipython",
    "version": 3
   },
   "file_extension": ".py",
   "mimetype": "text/x-python",
   "name": "python",
   "nbconvert_exporter": "python",
   "pygments_lexer": "ipython3",
   "version": "3.9.15"
  }
 },
 "nbformat": 4,
 "nbformat_minor": 4
}
