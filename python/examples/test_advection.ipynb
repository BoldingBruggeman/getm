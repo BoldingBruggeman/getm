{
 "cells": [
  {
   "cell_type": "code",
   "execution_count": null,
   "metadata": {},
   "outputs": [],
   "source": [
    "import numpy as np\n",
    "import pygetm\n",
    "\n",
    "%matplotlib widget\n",
    "import matplotlib.pyplot"
   ]
  },
  {
   "cell_type": "code",
   "execution_count": null,
   "metadata": {},
   "outputs": [],
   "source": [
    "Lx, Ly = 100.0, 100.0\n",
    "nx, ny = 100, 101\n",
    "x = np.linspace(-Lx / 2, Lx / 2, nx)\n",
    "y = np.linspace(-Ly / 2, Ly / 2, ny)\n",
    "domain = pygetm.domain.create_cartesian(x, y, nz=1, H=1.0, lat=0.0)\n",
    "domain.initialize(runtype=pygetm.BAROTROPIC_2D)"
   ]
  },
  {
   "cell_type": "code",
   "execution_count": null,
   "metadata": {},
   "outputs": [],
   "source": [
    "period = 600\n",
    "omega = 2 * np.pi / period\n",
    "cfl = 1.0\n",
    "umax = omega * Lx / 2\n",
    "dt_cfl = cfl * min(Lx / (nx + 1), Ly / (ny + 1)) / umax\n",
    "no_of_revolutions = 5\n",
    "Nmax = no_of_revolutions * round(2 * np.pi / omega / dt_cfl)\n",
    "tmax = no_of_revolutions * 2 * np.pi / omega\n",
    "timestep = tmax / Nmax"
   ]
  },
  {
   "cell_type": "code",
   "execution_count": null,
   "metadata": {},
   "outputs": [],
   "source": [
    "u = domain.U.array(fill=0.0)\n",
    "v = domain.V.array(fill=0.0)\n",
    "var = domain.T.array(fill=1.0)\n",
    "u[:, :] = -omega * domain.U.y\n",
    "v[:, :] = omega * domain.V.x\n",
    "u[(2 * domain.U.x / Lx) ** 2 + (2 * domain.U.y / Ly) ** 2 > 1] = 0.0\n",
    "v[(2 * domain.V.x / Lx) ** 2 + (2 * domain.V.y / Ly) ** 2 > 1] = 0.0\n",
    "var[int(0.2 * ny) : int(0.4 * ny), int(0.2 * nx) : int(0.4 * nx),] = 5.0"
   ]
  },
  {
   "cell_type": "code",
   "execution_count": null,
   "metadata": {},
   "outputs": [],
   "source": [
    "fig, ax = matplotlib.pyplot.subplots()\n",
    "u_destag, v_destag = u.interp(domain.T), v.interp(domain.T)\n",
    "pc = ax.quiver(u_destag[::5, ::5], v_destag[::5, ::5])"
   ]
  },
  {
   "cell_type": "code",
   "execution_count": null,
   "metadata": {},
   "outputs": [],
   "source": [
    "nsample = 4\n",
    "fig, ax = matplotlib.pyplot.subplots()\n",
    "pc = ax.pcolormesh(var)\n",
    "cb = fig.colorbar(pc)\n",
    "title = ax.set_title(\"time step: 0 of %i\" % Nmax)"
   ]
  },
  {
   "cell_type": "code",
   "execution_count": null,
   "metadata": {
    "tags": []
   },
   "outputs": [],
   "source": [
    "totals = [var[...].sum()]\n",
    "\n",
    "apply_horizontal_diffusion = False\n",
    "\n",
    "if apply_horizontal_diffusion:\n",
    "    Ah = domain.T.array(fill_value=0.01)\n",
    "    \n",
    "advect = pygetm.operators.Advection(domain.T, scheme=1)\n",
    "for i in range(1, Nmax):\n",
    "    if apply_horizontal_diffusion:\n",
    "        advect(u, v, timestep, var, Ah=Ah)\n",
    "    else:\n",
    "        advect(u, v, timestep, var)     \n",
    "    if i % nsample == 0:\n",
    "        pc.set_array(var[...].ravel())\n",
    "        title.set_text(\"time step: %i of %i\" % (i, Nmax))\n",
    "        fig.canvas.draw()\n",
    "    totals.append(var[...].sum())"
   ]
  },
  {
   "cell_type": "code",
   "execution_count": null,
   "metadata": {},
   "outputs": [],
   "source": [
    "fig, ax = matplotlib.pyplot.subplots()\n",
    "ax.plot(totals / totals[0] - 1.0)\n",
    "ax.grid()\n",
    "ax.set_xlabel(\"time step\")\n",
    "ax.set_ylabel(\"change in total tracer\")\n",
    "fig.show()"
   ]
  },
  {
   "cell_type": "code",
   "execution_count": null,
   "metadata": {},
   "outputs": [],
   "source": []
  },
  {
   "cell_type": "code",
   "execution_count": null,
   "metadata": {},
   "outputs": [],
   "source": []
  }
 ],
 "metadata": {
  "interpreter": {
   "hash": "e4cce46d6be9934fbd27f9ca0432556941ea5bdf741d4f4d64c6cd7f8dfa8fba"
  },
  "kernelspec": {
   "display_name": "Python 3 (ipykernel)",
   "language": "python",
   "name": "python3"
  },
  "language_info": {
   "codemirror_mode": {
    "name": "ipython",
    "version": 3
   },
   "file_extension": ".py",
   "mimetype": "text/x-python",
   "name": "python",
   "nbconvert_exporter": "python",
   "pygments_lexer": "ipython3",
   "version": "3.8.10"
  }
 },
 "nbformat": 4,
 "nbformat_minor": 4
}
