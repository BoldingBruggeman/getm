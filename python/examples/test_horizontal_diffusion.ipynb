{
 "cells": [
  {
   "cell_type": "code",
   "execution_count": null,
   "metadata": {},
   "outputs": [],
   "source": [
    "import numpy as np\n",
    "import pygetm\n",
    "\n",
    "%matplotlib widget\n",
    "import matplotlib.pyplot"
   ]
  },
  {
   "cell_type": "markdown",
   "metadata": {},
   "source": [
    "## Set up the domain (Cartesian box)"
   ]
  },
  {
   "cell_type": "code",
   "execution_count": null,
   "metadata": {},
   "outputs": [],
   "source": [
    "Lx, Ly = 100e3, 100e3\n",
    "nx, ny = 100, 52\n",
    "Am = 10.0\n",
    "\n",
    "x = np.linspace(-Lx / 2, Lx / 2, nx)\n",
    "y = np.linspace(-Ly / 2, Ly / 2, ny)\n",
    "domain = pygetm.domain.create_cartesian(x, y, H=10.0, lat=0.0)\n",
    "T = domain.create_grids(1, halox=2, haloy=2, velocity_grids=2)\n",
    "U = T.ugrid\n",
    "V = T.vgrid"
   ]
  },
  {
   "cell_type": "markdown",
   "metadata": {},
   "source": [
    "## Dirac delta in x-direction (not physical!)"
   ]
  },
  {
   "cell_type": "code",
   "execution_count": null,
   "metadata": {},
   "outputs": [],
   "source": [
    "u = U.array(fill=0.0)\n",
    "v = V.array(fill=0.0)\n",
    "icenter = nx // 2 - 1\n",
    "u[:, icenter] = 1.0\n",
    "\n",
    "fig, ax = matplotlib.pyplot.subplots()\n",
    "(model_line,) = ax.plot(u.grid.x[0, :], u[0, :], label=\"numerical\")\n",
    "ax.grid()\n",
    "ax.set_ylabel(\"distance (m)\")\n",
    "ax.set_ylabel(\"u velocity (m s-1)\")"
   ]
  },
  {
   "cell_type": "markdown",
   "metadata": {},
   "source": [
    "## Animate"
   ]
  },
  {
   "cell_type": "code",
   "execution_count": null,
   "metadata": {},
   "outputs": [],
   "source": [
    "timestep = 600.0\n",
    "ntime = 1000\n",
    "tol = 1e-15\n",
    "diffU = U.array(fill=0.0)\n",
    "diffV = V.array(fill=0.0)\n",
    "\n",
    "xa = U.x.values[0, :] - U.x.values[0, icenter]\n",
    "(analytical_line,) = ax.plot(u.grid.x[0, :], u[0, :], label=\"analytical\")\n",
    "ax.legend()\n",
    "\n",
    "for itime in range(ntime):\n",
    "    pygetm._pygetm.momentum_diffusion(\n",
    "        u.grid.ugrid.D,\n",
    "        u.grid.vgrid.D,\n",
    "        v.grid.ugrid.D,\n",
    "        v.grid.vgrid.D,\n",
    "        u,\n",
    "        v,\n",
    "        Am,\n",
    "        diffU,\n",
    "        diffV,\n",
    "    )\n",
    "    u.all_values += diffU.all_values / u.grid.D.all_values * timestep\n",
    "    v.all_values += diffV.all_values / v.grid.D.all_values * timestep\n",
    "    model_line.set_ydata(u[0, :])\n",
    "    va = 2 * (2 * Am * itime * timestep)\n",
    "    analytical = (\n",
    "        1.0 / np.sqrt(2 * np.pi * va) * np.exp(-0.5 * xa**2 / va) * U.dx.values[0, :]\n",
    "    )\n",
    "    analytical_line.set_ydata(analytical)\n",
    "    fig.canvas.draw()\n",
    "assert (np.abs(u.ma - u.ma[0, :]) < tol).all()\n",
    "assert (np.abs(v.ma) < tol).all()"
   ]
  },
  {
   "cell_type": "markdown",
   "metadata": {},
   "source": [
    "# Dirac delta in y-direction (not physical!)"
   ]
  },
  {
   "cell_type": "code",
   "execution_count": null,
   "metadata": {},
   "outputs": [],
   "source": [
    "u = U.array(fill=0.0)\n",
    "v = V.array(fill=0.0)\n",
    "jcenter = ny // 2 - 1\n",
    "v[jcenter, :] = 1.0\n",
    "\n",
    "fig, ax = matplotlib.pyplot.subplots()\n",
    "(model_line,) = ax.plot(v.grid.y[:, 0], v[:, 0], label=\"numerical\")\n",
    "ax.grid()\n",
    "ax.set_ylabel(\"distance (m)\")\n",
    "ax.set_ylabel(\"v velocity (m s-1)\")"
   ]
  },
  {
   "cell_type": "markdown",
   "metadata": {},
   "source": [
    "## Animate"
   ]
  },
  {
   "cell_type": "code",
   "execution_count": null,
   "metadata": {},
   "outputs": [],
   "source": [
    "timestep = 600.0\n",
    "ntime = 1000\n",
    "tol = 1e-15\n",
    "diffU = U.array(fill=0.0)\n",
    "diffV = V.array(fill=0.0)\n",
    "\n",
    "ya = V.y.values[:, 0] - V.y.values[jcenter, 0]\n",
    "(analytical_line,) = ax.plot(v.grid.y[:, 0], v[:, 0], label=\"analytical\")\n",
    "ax.legend()\n",
    "\n",
    "for itime in range(ntime):\n",
    "    pygetm._pygetm.momentum_diffusion(\n",
    "        u.grid.ugrid.D,\n",
    "        u.grid.vgrid.D,\n",
    "        v.grid.ugrid.D,\n",
    "        v.grid.vgrid.D,\n",
    "        u,\n",
    "        v,\n",
    "        Am,\n",
    "        diffU,\n",
    "        diffV,\n",
    "    )\n",
    "    u.all_values += diffU.all_values / u.grid.D.all_values * timestep\n",
    "    v.all_values += diffV.all_values / v.grid.D.all_values * timestep\n",
    "    model_line.set_ydata(v[:, 0])\n",
    "    va = 2 * (2 * Am * itime * timestep)\n",
    "    analytical = (\n",
    "        1.0 / np.sqrt(2 * np.pi * va) * np.exp(-0.5 * ya**2 / va) * V.dy.values[:, 0]\n",
    "    )\n",
    "    analytical_line.set_ydata(analytical)\n",
    "    fig.canvas.draw()\n",
    "\n",
    "assert (np.abs(v.ma - v.ma[:, 0, np.newaxis]) < tol).all()\n",
    "assert (np.abs(u.ma) < tol).all()"
   ]
  },
  {
   "cell_type": "code",
   "execution_count": null,
   "metadata": {},
   "outputs": [],
   "source": []
  }
 ],
 "metadata": {
  "kernelspec": {
   "display_name": "base",
   "language": "python",
   "name": "python3"
  },
  "language_info": {
   "codemirror_mode": {
    "name": "ipython",
    "version": 3
   },
   "file_extension": ".py",
   "mimetype": "text/x-python",
   "name": "python",
   "nbconvert_exporter": "python",
   "pygments_lexer": "ipython3",
   "version": "3.9.19"
  }
 },
 "nbformat": 4,
 "nbformat_minor": 4
}
