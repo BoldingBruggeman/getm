{
 "cells": [
  {
   "cell_type": "code",
   "execution_count": null,
   "metadata": {},
   "outputs": [],
   "source": [
    "import datetime\n",
    "import numpy\n",
    "import pygetm\n",
    "\n",
    "%matplotlib widget\n",
    "import matplotlib.pyplot"
   ]
  },
  {
   "cell_type": "code",
   "execution_count": null,
   "metadata": {},
   "outputs": [],
   "source": [
    "# Set up rectangular domain with outer points masked\n",
    "domain = pygetm.Domain.create_cartesian(500.*numpy.arange(100), 500.*numpy.arange(30), 1)\n",
    "domain.T.H[1:-1, 1:-1] = 50.\n",
    "domain.T.mask[1:-1, 1:-1] = 1\n",
    "domain.initialize()\n",
    "\n",
    "# Idealized surface forcing\n",
    "tausx, tausx_ = domain.T.array(fill=0.)\n",
    "tausx[...] = 0.01\n",
    "tausy_ = numpy.zeros_like(tausx)\n",
    "sp, sp_ = domain.T.array(fill=0.)\n",
    "\n",
    "advection = pygetm.Advection(domain, scheme=1)\n",
    "momentum = pygetm.Momentum(domain, advection)\n",
    "sealevel = pygetm.Sealevel(domain)\n",
    "pressure = pygetm.Pressure(domain)\n",
    "\n",
    "# Time\n",
    "start = datetime.datetime(2020, 1, 1, 0, 0)\n",
    "stop = datetime.datetime(2020, 1, 1, 2, 0)\n",
    "timestep = 10.\n",
    "time = start\n",
    "\n",
    "# Set up velocity plot\n",
    "nsample = 4\n",
    "fig = matplotlib.pyplot.figure()\n",
    "ax = fig.gca()\n",
    "pc = ax.pcolormesh(domain.T.xi, domain.T.yi, domain.T.z, vmin=-0.001, vmax=0.001)\n",
    "cb = fig.colorbar(pc)\n",
    "cb.set_label('elevation (m)')\n",
    "Q = ax.quiver(domain.T.x[::nsample, ::nsample], domain.T.y[::nsample, ::nsample], momentum.U[::nsample, ::nsample], momentum.V[::nsample, ::nsample], scale=.3)\n",
    "title = ax.set_title(time.strftime('%H:%M:%S'))"
   ]
  },
  {
   "cell_type": "code",
   "execution_count": null,
   "metadata": {
    "tags": []
   },
   "outputs": [],
   "source": [
    "plotting_interval = 5\n",
    "istep = 0\n",
    "while time < stop:\n",
    "    istep += 1\n",
    "\n",
    "    momentum.advection_2d(timestep)\n",
    "    pressure.surface(domain.T.z_, sp_)\n",
    "    momentum.uv_momentum_2d(timestep, tausx_, tausy_, pressure.dpdx_, pressure.dpdy_)\n",
    "    sealevel.update(timestep, momentum.U_, momentum.V_)\n",
    "    domain.depth_update()\n",
    "\n",
    "    # Update velocity plot\n",
    "    if istep % plotting_interval == 0:\n",
    "        Q.set_UVC(momentum.U[::nsample, ::nsample], momentum.V[::nsample, ::nsample])\n",
    "        title.set_text(time.strftime('%H:%M:%S'))\n",
    "        pc.set_array(domain.T.z.ravel())\n",
    "        fig.canvas.draw()\n",
    "\n",
    "    time += datetime.timedelta(seconds=timestep)\n",
    "    "
   ]
  },
  {
   "cell_type": "code",
   "execution_count": null,
   "metadata": {},
   "outputs": [],
   "source": []
  }
 ],
 "metadata": {
  "kernelspec": {
   "display_name": "Python 3",
   "language": "python",
   "name": "python3"
  },
  "language_info": {
   "codemirror_mode": {
    "name": "ipython",
    "version": 3
   },
   "file_extension": ".py",
   "mimetype": "text/x-python",
   "name": "python",
   "nbconvert_exporter": "python",
   "pygments_lexer": "ipython3",
   "version": "3.7.3-final"
  }
 },
 "nbformat": 4,
 "nbformat_minor": 4
}