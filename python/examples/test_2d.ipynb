{
 "cells": [
  {
   "cell_type": "code",
   "execution_count": null,
   "metadata": {},
   "outputs": [],
   "source": [
    "import numpy\n",
    "import pygetm\n",
    "\n",
    "# Note: \"%matplotlib widget\" below enables interactive plots but requires https://github.com/matplotlib/ipympl\n",
    "# Alternatively you could use \"%matplotlib notebook\" (deprecated).\n",
    "%matplotlib widget\n",
    "import matplotlib.pyplot"
   ]
  },
  {
   "cell_type": "code",
   "execution_count": null,
   "metadata": {},
   "outputs": [],
   "source": [
    "# Set up rectangular domain with outer points masked\n",
    "domain = pygetm.domain.create_cartesian(500.*numpy.arange(100), 500.*numpy.arange(30), 1, lat=0, H=50)\n",
    "sim = pygetm.Simulation(domain, runtype=pygetm.BAROTROPIC_2D, advection_scheme=pygetm.AdvectionScheme.HSIMT)\n",
    "\n",
    "# Idealized surface forcing\n",
    "tausx = domain.U.array(fill=0.01)\n",
    "tausy = domain.V.array(fill=0.)\n",
    "sp = domain.T.array(fill=0.)\n",
    "fwf = domain.T.array(fill=0.)\n",
    "\n",
    "# Time\n",
    "timestep = 10.\n",
    "ntime = int(3600. // timestep)\n",
    "\n",
    "# Set up velocity plot\n",
    "nsample = 2\n",
    "fig, ax = matplotlib.pyplot.subplots()\n",
    "pc = ax.pcolormesh(domain.T.xi, domain.T.yi, domain.T.z, vmin=-0.001, vmax=0.001)\n",
    "cb = fig.colorbar(pc)\n",
    "cb.set_label('elevation (m)')\n",
    "u, v = sim.U.interp(domain.T) / domain.T.D, sim.V.interp(domain.T) / domain.T.D\n",
    "Q = ax.quiver(domain.T.x[::nsample, ::nsample], domain.T.y[::nsample, ::nsample], u[::nsample, ::nsample], v[::nsample, ::nsample], scale=.01)\n",
    "title = ax.set_title('time: 0 s')"
   ]
  },
  {
   "cell_type": "code",
   "execution_count": null,
   "metadata": {
    "tags": []
   },
   "outputs": [],
   "source": [
    "plotting_interval = 5\n",
    "times = timestep * numpy.arange(ntime)\n",
    "Us = numpy.empty_like(times)\n",
    "for istep, time in enumerate(times):\n",
    "    Us[istep] = sim.U[...].mean()\n",
    "    sim.update_surface_pressure_gradient(domain.T.z, sp)\n",
    "    sim.advance_2d_momentum(timestep, tausx, tausy, sim.dpdx, sim.dpdy)\n",
    "    sim.advance_surface_elevation(timestep, sim.U, sim.V, fwf)\n",
    "    sim.domain.update_depth()\n",
    "\n",
    "    # Update velocity plot\n",
    "    if istep % plotting_interval == 0:\n",
    "        u, v = sim.U.interp(domain.T) / domain.T.D, sim.V.interp(domain.T) / domain.T.D\n",
    "        Q.set_UVC(u[::nsample, ::nsample], v[::nsample, ::nsample])\n",
    "        title.set_text('time: %s s' % time)\n",
    "        pc.set_array(domain.T.z[...].ravel())\n",
    "        fig.canvas.draw()"
   ]
  },
  {
   "cell_type": "code",
   "execution_count": null,
   "metadata": {},
   "outputs": [],
   "source": [
    "fig, ax = matplotlib.pyplot.subplots()\n",
    "ax.plot(times, Us)\n",
    "ax.set_title('mean U')\n",
    "ax.grid()"
   ]
  },
  {
   "cell_type": "code",
   "execution_count": null,
   "metadata": {},
   "outputs": [],
   "source": []
  }
 ],
 "metadata": {
  "interpreter": {
   "hash": "e4cce46d6be9934fbd27f9ca0432556941ea5bdf741d4f4d64c6cd7f8dfa8fba"
  },
  "kernelspec": {
   "display_name": "Python 3.9.7 ('base')",
   "language": "python",
   "name": "python3"
  },
  "language_info": {
   "codemirror_mode": {
    "name": "ipython",
    "version": 3
   },
   "file_extension": ".py",
   "mimetype": "text/x-python",
   "name": "python",
   "nbconvert_exporter": "python",
   "pygments_lexer": "ipython3",
   "version": "3.9.7"
  }
 },
 "nbformat": 4,
 "nbformat_minor": 4
}
