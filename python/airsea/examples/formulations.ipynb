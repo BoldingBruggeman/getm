{
 "cells": [
  {
   "cell_type": "code",
   "execution_count": null,
   "metadata": {},
   "outputs": [],
   "source": [
    "import numpy as np\n",
    "import pyairsea\n",
    "\n",
    "%matplotlib widget\n",
    "import matplotlib.pyplot"
   ]
  },
  {
   "cell_type": "markdown",
   "metadata": {},
   "source": [
    "# Transfer coefficients of heat and momentum\n",
    "\n",
    "Compare with Fig 7a-c in\n",
    "[Kondo, J. (1975). Air-sea bulk transfer coefficients in diabatic conditions. Boundary-Layer Meteorology, 9(1), 91–112](https://doi.org/10.1007/BF00232256)"
   ]
  },
  {
   "cell_type": "code",
   "execution_count": null,
   "metadata": {},
   "outputs": [],
   "source": [
    "fig, (ax1, ax2, ax3) = matplotlib.pyplot.subplots(nrows=3, figsize=(10, 10))\n",
    "\n",
    "w = np.linspace(0, 30.0, 100)\n",
    "w.shape = -1, 1\n",
    "Tw = np.full_like(w, 10.0 + 273.15)\n",
    "for delta_t in [-5.0, -2.0, -1.0, 0.0, 1.0, 2.0, 5.0]:\n",
    "    cd_mom, cd_sensible, cd_latent = (\n",
    "        np.empty_like(w),\n",
    "        np.empty_like(w),\n",
    "        np.empty_like(w),\n",
    "    )\n",
    "    pyairsea.transfer_coefficients(\n",
    "        1, Tw, Tw + delta_t, w, cd_mom, cd_sensible, cd_latent\n",
    "    )\n",
    "    ax1.plot(w, cd_mom, label=\"Tw-Ta=%s\" % delta_t)\n",
    "    ax2.plot(w, cd_sensible, label=\"Tw-Ta=%s\" % delta_t)\n",
    "    ax3.plot(w, cd_latent, label=\"Tw-Ta=%s\" % delta_t)\n",
    "for ax in (ax1, ax2, ax3):\n",
    "    ax.grid()\n",
    "    ax.set_xlabel(\"wind speed (m s-1)\")\n",
    "    ax.legend()\n",
    "ax1.set_ylabel(\"C_DD (momentum)\")\n",
    "ax2.set_ylabel(\"C_HD (sensible)\")\n",
    "ax3.set_ylabel(\"C_ED (latent)\")"
   ]
  },
  {
   "cell_type": "markdown",
   "metadata": {},
   "source": [
    "# Longwave radiation"
   ]
  },
  {
   "cell_type": "code",
   "execution_count": null,
   "metadata": {},
   "outputs": [],
   "source": [
    "T = np.linspace(-2.0, 35.0, 100)\n",
    "T.shape = 1, -1\n",
    "tw = ta = T\n",
    "cloud = np.full_like(T, 0.9)\n",
    "lat = np.full_like(T, 50.0)\n",
    "relhum = np.full_like(T, 10.0)\n",
    "sp = np.full_like(T, 101325.0)\n",
    "es, ea, qs, qa, rhoa, ql = (\n",
    "    np.empty_like(T),\n",
    "    np.empty_like(T),\n",
    "    np.empty_like(T),\n",
    "    np.empty_like(T),\n",
    "    np.empty_like(T),\n",
    "    np.empty_like(T),\n",
    ")\n",
    "fig, ax = matplotlib.pyplot.subplots()\n",
    "for method in pyairsea.LongwaveMethod:\n",
    "    pyairsea.humidity(\n",
    "        pyairsea.HumidityMeasure.RELATIVE_HUMIDITY,\n",
    "        relhum,\n",
    "        sp,\n",
    "        tw,\n",
    "        ta,\n",
    "        es,\n",
    "        ea,\n",
    "        qs,\n",
    "        qa,\n",
    "        rhoa,\n",
    "    )\n",
    "    pyairsea.longwave_radiation(\n",
    "        method, lat, tw + 273.15, ta + 273.15, cloud, ea, qa, ql\n",
    "    )\n",
    "    ax.plot(T[0, :], ql[0, :], label=method.name, alpha=0.5)\n",
    "ax.set_xlabel(\"air/water temperature (degrees Celsius)\")\n",
    "ax.set_ylabel(\"net downward longwave flux (W m-2)\")\n",
    "ax.legend()\n",
    "ax.grid()"
   ]
  },
  {
   "cell_type": "markdown",
   "metadata": {},
   "source": [
    "# Air density"
   ]
  },
  {
   "cell_type": "code",
   "execution_count": null,
   "metadata": {},
   "outputs": [],
   "source": [
    "T = np.linspace(-2.0, 35.0, 100)\n",
    "T.shape = 1, -1\n",
    "airp = np.full_like(T, 101325.0)  # 1 atm\n",
    "es = np.empty_like(T)\n",
    "ea = np.empty_like(T)\n",
    "qs = np.empty_like(T)\n",
    "qa = np.empty_like(T)\n",
    "rhoa = np.empty_like(T)\n",
    "fig, ax = matplotlib.pyplot.subplots()\n",
    "for rh in (0.0, 25.0, 50.0, 75.0, 100.0):\n",
    "    pyairsea.humidity(\n",
    "        pyairsea.HumidityMeasure.RELATIVE_HUMIDITY,\n",
    "        np.full_like(T, rh),\n",
    "        airp,\n",
    "        T,\n",
    "        T,\n",
    "        es,\n",
    "        ea,\n",
    "        qs,\n",
    "        qa,\n",
    "        rhoa,\n",
    "    )\n",
    "    ax.plot(T[0, :], rhoa[0, :], label=\"RH = %s %%\" % rh, alpha=0.5)\n",
    "ax.set_xlabel(\"air/water temperature (degrees Celsius)\")\n",
    "ax.set_ylabel(\"air density (kg m-3)\")\n",
    "ax.legend()\n",
    "ax.grid()"
   ]
  },
  {
   "cell_type": "markdown",
   "metadata": {},
   "source": [
    "# Albedo"
   ]
  },
  {
   "cell_type": "code",
   "execution_count": null,
   "metadata": {},
   "outputs": [],
   "source": [
    "zen = np.linspace(0.0, 90.0, 100)\n",
    "yday = np.linspace(0.0, 365.0, 101)\n",
    "albedo = np.empty((yday.size, zen.size))\n",
    "\n",
    "\n",
    "def plot(method, ax):\n",
    "    for i, yd in enumerate(yday):\n",
    "        pyairsea.albedo_water(method, zen.reshape(1, -1), yd, albedo[i : i + 1, ...])\n",
    "    pc = ax.contourf(yday, zen, albedo.T, np.linspace(0.0, 1.0, 11))\n",
    "    fig.colorbar(pc, ax=ax)\n",
    "    ax.set_xlabel(\"year day\")\n",
    "    ax.set_ylabel(\"zenith angle (degrees)\")\n",
    "    ax.set_title(method.name)\n",
    "    print(\"%s range: %s - %s\" % (method.name, albedo.min(), albedo.max()))\n",
    "\n",
    "\n",
    "fig, (ax1, ax2) = matplotlib.pyplot.subplots(ncols=2, figsize=(10, 4))\n",
    "plot(pyairsea.AlbedoMethod.PAYNE, ax1)\n",
    "plot(pyairsea.AlbedoMethod.COGLEY, ax2)"
   ]
  },
  {
   "cell_type": "code",
   "execution_count": null,
   "metadata": {},
   "outputs": [],
   "source": []
  }
 ],
 "metadata": {
  "kernelspec": {
   "display_name": "test",
   "language": "python",
   "name": "python3"
  },
  "language_info": {
   "codemirror_mode": {
    "name": "ipython",
    "version": 3
   },
   "file_extension": ".py",
   "mimetype": "text/x-python",
   "name": "python",
   "nbconvert_exporter": "python",
   "pygments_lexer": "ipython3",
   "version": "3.12.3"
  }
 },
 "nbformat": 4,
 "nbformat_minor": 2
}
