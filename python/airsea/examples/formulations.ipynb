{
 "cells": [
  {
   "cell_type": "code",
   "execution_count": null,
   "metadata": {},
   "outputs": [],
   "source": [
    "import numpy as np\n",
    "import pyairsea\n",
    "\n",
    "%matplotlib widget\n",
    "import matplotlib.pyplot"
   ]
  },
  {
   "cell_type": "markdown",
   "metadata": {},
   "source": [
    "# Transfer coefficients of heat and momentum\n",
    "\n",
    "Compare with Fig 7a-c in\n",
    "Kondo, J. (1975). Air-sea bulk transfer coefficients in diabatic conditions. Boundary-Layer Meteorology, 9(1), 91–112."
   ]
  },
  {
   "cell_type": "code",
   "execution_count": null,
   "metadata": {},
   "outputs": [],
   "source": [
    "fig, (ax1, ax2, ax3) = matplotlib.pyplot.subplots(nrows=3, figsize=(10,10))\n",
    "\n",
    "w = np.linspace(0, 30., 100)\n",
    "w.shape = -1, 1\n",
    "Tw = np.full_like(w, 10. + 273.15)\n",
    "for delta_t in [-5, -2, -1., 0., 1., 2., 5.]:\n",
    "    cd_mom, cd_sensible, cd_latent = np.empty_like(w), np.empty_like(w), np.empty_like(w)\n",
    "    pyairsea.transfer_coefficients(1, Tw, Tw + delta_t, w, cd_mom, cd_sensible, cd_latent)\n",
    "    ax1.plot(w, cd_mom, label='Tw-Ta=%s' % delta_t)\n",
    "    ax2.plot(w, cd_sensible, label='Tw-Ta=%s' % delta_t)\n",
    "    ax3.plot(w, cd_latent, label='Tw-Ta=%s' % delta_t)\n",
    "for ax in (ax1, ax2, ax3):\n",
    "    ax.grid()\n",
    "    ax.set_xlabel('wind speed (m s-1)')\n",
    "    ax.legend()\n",
    "ax1.set_ylabel('C_DD (momentum)')\n",
    "ax2.set_ylabel('C_HD (sensible)')\n",
    "ax3.set_ylabel('C_ED (latent)');"
   ]
  },
  {
   "cell_type": "markdown",
   "metadata": {},
   "source": [
    "# Longwave radiation"
   ]
  },
  {
   "cell_type": "code",
   "execution_count": null,
   "metadata": {},
   "outputs": [],
   "source": [
    "T = np.linspace(-2., 35., 100)\n",
    "T.shape = 1, -1\n",
    "tw = ta = T\n",
    "cloud = np.full_like(T, 0.)\n",
    "lat = np.full_like(T, 50.)\n",
    "relhum = np.full_like(T, 0.)\n",
    "sp = np.full_like(T, 101325.)\n",
    "es, ea, qs, qa, rhoa, ql = np.empty_like(T), np.empty_like(T), np.empty_like(T), np.empty_like(T), np.empty_like(T), np.empty_like(T)\n",
    "fig, ax = matplotlib.pyplot.subplots()\n",
    "for method in pyairsea.LongwaveMethod:\n",
    "    pyairsea.humidity(pyairsea.HumidityMeasure.RELATIVE_HUMIDITY, relhum, sp, tw, ta, es, ea, qs, qa, rhoa)\n",
    "    pyairsea.longwave_radiation(method, lat, tw + 273.15, ta + 273.15, cloud, ea, qa, ql)\n",
    "    ax.plot(T[0, :], ql[0, :], label=method.name, alpha=0.5)\n",
    "ax.set_xlabel('air/water temperature (degrees Celsius)')\n",
    "ax.set_ylabel('net downward longwave flux (W m-2)')\n",
    "ax.legend()\n",
    "ax.grid()"
   ]
  },
  {
   "cell_type": "markdown",
   "metadata": {},
   "source": [
    "# Air density"
   ]
  },
  {
   "cell_type": "code",
   "execution_count": null,
   "metadata": {},
   "outputs": [],
   "source": [
    "T = np.linspace(-2., 35., 100)\n",
    "T.shape = 1, -1\n",
    "airp = np.full_like(T, 101325.)  # 1 atm\n",
    "es = np.empty_like(T)\n",
    "ea = np.empty_like(T)\n",
    "qs = np.empty_like(T)\n",
    "qa = np.empty_like(T)\n",
    "rhoa = np.empty_like(T)\n",
    "fig, ax = matplotlib.pyplot.subplots()\n",
    "for rh in (0., 25., 50., 75., 100.):\n",
    "    pyairsea.humidity(pyairsea.HumidityMeasure.RELATIVE_HUMIDITY, np.full_like(T, rh), airp, T, T, es, ea, qs, qa, rhoa)\n",
    "    ax.plot(T[0, :], rhoa[0, :], label='RH = %s %%' % rh, alpha=0.5)\n",
    "ax.set_xlabel('air/water temperature (degrees Celsius)')\n",
    "ax.set_ylabel('air density (kg m-3)')\n",
    "ax.legend()\n",
    "ax.grid()"
   ]
  },
  {
   "cell_type": "code",
   "execution_count": null,
   "metadata": {},
   "outputs": [],
   "source": []
  }
 ],
 "metadata": {
  "interpreter": {
   "hash": "e4cce46d6be9934fbd27f9ca0432556941ea5bdf741d4f4d64c6cd7f8dfa8fba"
  },
  "kernelspec": {
   "display_name": "Python 3.9.7 ('base')",
   "language": "python",
   "name": "python3"
  },
  "language_info": {
   "codemirror_mode": {
    "name": "ipython",
    "version": 3
   },
   "file_extension": ".py",
   "mimetype": "text/x-python",
   "name": "python",
   "nbconvert_exporter": "python",
   "pygments_lexer": "ipython3",
   "version": "3.9.7"
  },
  "orig_nbformat": 4
 },
 "nbformat": 4,
 "nbformat_minor": 2
}
